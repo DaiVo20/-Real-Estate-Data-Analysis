{
  "nbformat": 4,
  "nbformat_minor": 0,
  "metadata": {
    "interpreter": {
      "hash": "5f3a43da3465484f8d08df9331c3c35fb16341a24cb5c5d7be011932600800f9"
    },
    "kernelspec": {
      "display_name": "Python 3.9.1 64-bit",
      "language": "python",
      "name": "python3"
    },
    "language_info": {
      "codemirror_mode": {
        "name": "ipython",
        "version": 3
      },
      "file_extension": ".py",
      "mimetype": "text/x-python",
      "name": "python",
      "nbconvert_exporter": "python",
      "pygments_lexer": "ipython3",
      "version": "3.9.1"
    },
    "orig_nbformat": 4,
    "colab": {
      "name": "models.ipynb",
      "provenance": [],
      "collapsed_sections": [],
      "toc_visible": true
    },
    "accelerator": "GPU"
  },
  "cells": [
    {
      "cell_type": "code",
      "metadata": {
        "id": "CIeupnSy_LdU"
      },
      "source": [
        "from IPython.core.interactiveshell import InteractiveShell\n",
        "import numpy as np\n",
        "import pandas as pd\n",
        "import warnings\n",
        "import matplotlib.pyplot as plt\n",
        "import seaborn as sns\n",
        "from datetime import datetime\n",
        "\n",
        "warnings.filterwarnings('ignore')\n",
        "InteractiveShell.ast_node_interactivity = \"all\"\n",
        "\n",
        "pd.set_option('display.max_rows', None)\n",
        "pd.set_option('display.max_columns', None)\n",
        "pd.set_option('display.width', None)\n",
        "pd.set_option('display.max_colwidth', None)\n",
        "pd.options.display.max_rows"
      ],
      "execution_count": 4,
      "outputs": []
    },
    {
      "cell_type": "markdown",
      "metadata": {
        "id": "LicTaLF0_Lda"
      },
      "source": [
        "# **Load data**"
      ]
    },
    {
      "cell_type": "code",
      "metadata": {
        "colab": {
          "base_uri": "https://localhost:8080/"
        },
        "id": "ls33FB46BurW",
        "outputId": "b6d2aeff-a521-4097-fae0-7dc63596ece9"
      },
      "source": [
        "from google.colab import drive\n",
        "drive.mount('/content/drive')"
      ],
      "execution_count": 1,
      "outputs": [
        {
          "output_type": "stream",
          "name": "stdout",
          "text": [
            "Drive already mounted at /content/drive; to attempt to forcibly remount, call drive.mount(\"/content/drive\", force_remount=True).\n"
          ]
        }
      ]
    },
    {
      "cell_type": "code",
      "metadata": {
        "id": "eypt539a_Ldd"
      },
      "source": [
        "df = pd.read_csv('/content/drive/MyDrive/Colab/PhanTichVaTrucQuanDuLieu_DS105.M11/DoAn/BDS_new.csv')"
      ],
      "execution_count": 5,
      "outputs": []
    },
    {
      "cell_type": "code",
      "metadata": {
        "id": "5gH0Y-TGZhRH"
      },
      "source": [
        "for i in range(2, 9):\n",
        "    col = 'front_road_' +str(i)\n",
        "    df[col] = df['front_road'].apply(lambda x: x**i)"
      ],
      "execution_count": 6,
      "outputs": []
    },
    {
      "cell_type": "code",
      "metadata": {
        "id": "FLqNrNKX_Ldg"
      },
      "source": [
        "df['toilets'].replace('0.0', '0', inplace=True)\n",
        "df['toilets'].replace(0.0, '0', inplace=True)"
      ],
      "execution_count": 7,
      "outputs": []
    },
    {
      "cell_type": "code",
      "metadata": {
        "id": "ShUsW5Kv_Ldh"
      },
      "source": [
        "df['list_time'] = pd.to_datetime(df['list_time'])"
      ],
      "execution_count": 8,
      "outputs": []
    },
    {
      "cell_type": "code",
      "metadata": {
        "id": "fZObAexG_Ldj"
      },
      "source": [
        "df['year'] = df['list_time'].dt.year\n",
        "df['month'] = df['list_time'].dt.month"
      ],
      "execution_count": 9,
      "outputs": []
    },
    {
      "cell_type": "markdown",
      "metadata": {
        "id": "KT1VvZBj_Ldj"
      },
      "source": [
        "# **Prepare data**"
      ]
    },
    {
      "cell_type": "code",
      "metadata": {
        "colab": {
          "base_uri": "https://localhost:8080/"
        },
        "id": "_BzKNaJvM9Sy",
        "outputId": "c35a0da1-b979-4ba4-a2c4-987d1dad21e2"
      },
      "source": [
        "df.columns"
      ],
      "execution_count": 201,
      "outputs": [
        {
          "output_type": "execute_result",
          "data": {
            "text/plain": [
              "Index(['list_time', 'ward', 'area', 'region', 'direction',\n",
              "       'property_legal_document', 'size (m2)', 'rooms', 'toilets', 'floors',\n",
              "       'living_size (m2)', 'width (m)', 'length (m)', 'price (billion)',\n",
              "       'type_details', 'website', 'front_road', 'type_real_estate'],\n",
              "      dtype='object')"
            ]
          },
          "metadata": {},
          "execution_count": 201
        }
      ]
    },
    {
      "cell_type": "code",
      "metadata": {
        "id": "kATs6KtD_Ldl"
      },
      "source": [
        "for col in df_model.columns:\n",
        "    print(col)\n",
        "    print(df[col].unique())\n",
        "    print('--------------------------------------\\n')"
      ],
      "execution_count": null,
      "outputs": []
    },
    {
      "cell_type": "code",
      "metadata": {
        "colab": {
          "base_uri": "https://localhost:8080/",
          "height": 590
        },
        "id": "eAy4Eovv_Ldm",
        "outputId": "b7794795-9122-4f23-8c53-57240733f0bf"
      },
      "source": [
        "X_data = df_model.iloc[:, 0:-1]\n",
        "y_data = df_model.iloc[:, -1]\n",
        "\n",
        "X_data.head()\n",
        "y_data.head()"
      ],
      "execution_count": 157,
      "outputs": [
        {
          "output_type": "execute_result",
          "data": {
            "text/html": [
              "<div>\n",
              "<style scoped>\n",
              "    .dataframe tbody tr th:only-of-type {\n",
              "        vertical-align: middle;\n",
              "    }\n",
              "\n",
              "    .dataframe tbody tr th {\n",
              "        vertical-align: top;\n",
              "    }\n",
              "\n",
              "    .dataframe thead th {\n",
              "        text-align: right;\n",
              "    }\n",
              "</style>\n",
              "<table border=\"1\" class=\"dataframe\">\n",
              "  <thead>\n",
              "    <tr style=\"text-align: right;\">\n",
              "      <th></th>\n",
              "      <th>type_real_estate</th>\n",
              "      <th>month</th>\n",
              "      <th>year</th>\n",
              "      <th>front_road</th>\n",
              "      <th>region</th>\n",
              "      <th>area</th>\n",
              "      <th>rooms</th>\n",
              "      <th>toilets</th>\n",
              "      <th>floors</th>\n",
              "      <th>property_legal_document</th>\n",
              "      <th>front_road_2</th>\n",
              "      <th>front_road_3</th>\n",
              "      <th>front_road_4</th>\n",
              "      <th>front_road_5</th>\n",
              "      <th>front_road_6</th>\n",
              "      <th>front_road_7</th>\n",
              "      <th>front_road_8</th>\n",
              "    </tr>\n",
              "  </thead>\n",
              "  <tbody>\n",
              "    <tr>\n",
              "      <th>0</th>\n",
              "      <td>Căn hộ/Chung cư</td>\n",
              "      <td>11</td>\n",
              "      <td>2021</td>\n",
              "      <td>8.0</td>\n",
              "      <td>Đồng Nai</td>\n",
              "      <td>Thành phố Biên Hòa</td>\n",
              "      <td>2</td>\n",
              "      <td>2</td>\n",
              "      <td>Nhiều hơn 10</td>\n",
              "      <td>Đang chờ sổ</td>\n",
              "      <td>64.0</td>\n",
              "      <td>512.0</td>\n",
              "      <td>4096.0</td>\n",
              "      <td>32768.0</td>\n",
              "      <td>262144.0</td>\n",
              "      <td>2097152.0</td>\n",
              "      <td>16777216.0</td>\n",
              "    </tr>\n",
              "    <tr>\n",
              "      <th>1</th>\n",
              "      <td>Căn hộ/Chung cư</td>\n",
              "      <td>11</td>\n",
              "      <td>2021</td>\n",
              "      <td>8.0</td>\n",
              "      <td>Đồng Nai</td>\n",
              "      <td>Thành phố Biên Hòa</td>\n",
              "      <td>1</td>\n",
              "      <td>1</td>\n",
              "      <td>Nhiều hơn 10</td>\n",
              "      <td>Đã có sổ</td>\n",
              "      <td>64.0</td>\n",
              "      <td>512.0</td>\n",
              "      <td>4096.0</td>\n",
              "      <td>32768.0</td>\n",
              "      <td>262144.0</td>\n",
              "      <td>2097152.0</td>\n",
              "      <td>16777216.0</td>\n",
              "    </tr>\n",
              "    <tr>\n",
              "      <th>2</th>\n",
              "      <td>Căn hộ/Chung cư</td>\n",
              "      <td>11</td>\n",
              "      <td>2021</td>\n",
              "      <td>8.0</td>\n",
              "      <td>Đồng Nai</td>\n",
              "      <td>Thành phố Biên Hòa</td>\n",
              "      <td>2</td>\n",
              "      <td>2</td>\n",
              "      <td>Nhiều hơn 10</td>\n",
              "      <td>Giấy tờ khác</td>\n",
              "      <td>64.0</td>\n",
              "      <td>512.0</td>\n",
              "      <td>4096.0</td>\n",
              "      <td>32768.0</td>\n",
              "      <td>262144.0</td>\n",
              "      <td>2097152.0</td>\n",
              "      <td>16777216.0</td>\n",
              "    </tr>\n",
              "    <tr>\n",
              "      <th>3</th>\n",
              "      <td>Căn hộ/Chung cư</td>\n",
              "      <td>11</td>\n",
              "      <td>2021</td>\n",
              "      <td>8.0</td>\n",
              "      <td>Đồng Nai</td>\n",
              "      <td>Thành phố Biên Hòa</td>\n",
              "      <td>2</td>\n",
              "      <td>2</td>\n",
              "      <td>Nhiều hơn 10</td>\n",
              "      <td>Đã có sổ</td>\n",
              "      <td>64.0</td>\n",
              "      <td>512.0</td>\n",
              "      <td>4096.0</td>\n",
              "      <td>32768.0</td>\n",
              "      <td>262144.0</td>\n",
              "      <td>2097152.0</td>\n",
              "      <td>16777216.0</td>\n",
              "    </tr>\n",
              "    <tr>\n",
              "      <th>4</th>\n",
              "      <td>Căn hộ/Chung cư</td>\n",
              "      <td>11</td>\n",
              "      <td>2021</td>\n",
              "      <td>8.0</td>\n",
              "      <td>Đồng Nai</td>\n",
              "      <td>Thành phố Biên Hòa</td>\n",
              "      <td>2</td>\n",
              "      <td>1</td>\n",
              "      <td>Nhiều hơn 10</td>\n",
              "      <td>Đã có sổ</td>\n",
              "      <td>64.0</td>\n",
              "      <td>512.0</td>\n",
              "      <td>4096.0</td>\n",
              "      <td>32768.0</td>\n",
              "      <td>262144.0</td>\n",
              "      <td>2097152.0</td>\n",
              "      <td>16777216.0</td>\n",
              "    </tr>\n",
              "  </tbody>\n",
              "</table>\n",
              "</div>"
            ],
            "text/plain": [
              "  type_real_estate  month  year  front_road    region                area  \\\n",
              "0  Căn hộ/Chung cư     11  2021         8.0  Đồng Nai  Thành phố Biên Hòa   \n",
              "1  Căn hộ/Chung cư     11  2021         8.0  Đồng Nai  Thành phố Biên Hòa   \n",
              "2  Căn hộ/Chung cư     11  2021         8.0  Đồng Nai  Thành phố Biên Hòa   \n",
              "3  Căn hộ/Chung cư     11  2021         8.0  Đồng Nai  Thành phố Biên Hòa   \n",
              "4  Căn hộ/Chung cư     11  2021         8.0  Đồng Nai  Thành phố Biên Hòa   \n",
              "\n",
              "  rooms toilets        floors property_legal_document  front_road_2  \\\n",
              "0     2       2  Nhiều hơn 10             Đang chờ sổ          64.0   \n",
              "1     1       1  Nhiều hơn 10                Đã có sổ          64.0   \n",
              "2     2       2  Nhiều hơn 10            Giấy tờ khác          64.0   \n",
              "3     2       2  Nhiều hơn 10                Đã có sổ          64.0   \n",
              "4     2       1  Nhiều hơn 10                Đã có sổ          64.0   \n",
              "\n",
              "   front_road_3  front_road_4  front_road_5  front_road_6  front_road_7  \\\n",
              "0         512.0        4096.0       32768.0      262144.0     2097152.0   \n",
              "1         512.0        4096.0       32768.0      262144.0     2097152.0   \n",
              "2         512.0        4096.0       32768.0      262144.0     2097152.0   \n",
              "3         512.0        4096.0       32768.0      262144.0     2097152.0   \n",
              "4         512.0        4096.0       32768.0      262144.0     2097152.0   \n",
              "\n",
              "   front_road_8  \n",
              "0    16777216.0  \n",
              "1    16777216.0  \n",
              "2    16777216.0  \n",
              "3    16777216.0  \n",
              "4    16777216.0  "
            ]
          },
          "metadata": {},
          "execution_count": 157
        },
        {
          "output_type": "execute_result",
          "data": {
            "text/plain": [
              "0    1.15\n",
              "1    1.55\n",
              "2    0.36\n",
              "3    1.70\n",
              "4    0.01\n",
              "Name: price (billion), dtype: float64"
            ]
          },
          "metadata": {},
          "execution_count": 157
        }
      ]
    },
    {
      "cell_type": "code",
      "metadata": {
        "id": "3ZNOOAbD_Ldn"
      },
      "source": [
        "from sklearn.model_selection import train_test_split\n",
        "\n",
        "X_train, X_test, y_train, y_test = train_test_split(X_data, y_data, test_size=0.1, random_state=42)"
      ],
      "execution_count": 158,
      "outputs": []
    },
    {
      "cell_type": "code",
      "metadata": {
        "id": "zMNF23zdaDqY"
      },
      "source": [
        "X_train = pd.get_dummies(X_train, drop_first=True)\n",
        "X_test = pd.get_dummies(X_test, drop_first=True)"
      ],
      "execution_count": 159,
      "outputs": []
    },
    {
      "cell_type": "code",
      "metadata": {
        "id": "I5bc9AwXDvEy"
      },
      "source": [
        "y_train = np.array(y_train).reshape(-1, 1)\n",
        "y_test = np.array(y_test).reshape(-1, 1)"
      ],
      "execution_count": 160,
      "outputs": []
    },
    {
      "cell_type": "markdown",
      "metadata": {
        "id": "YdJarIYD_Ldo"
      },
      "source": [
        "# **Train model**"
      ]
    },
    {
      "cell_type": "code",
      "metadata": {
        "id": "gk_SSyD9CY6R"
      },
      "source": [
        "from sklearn.metrics import r2_score\n",
        "from sklearn.metrics import mean_squared_error\n",
        "from sklearn.metrics import mean_absolute_error\n",
        "import math\n",
        "\n",
        "\n",
        "def evaluate_model(y_true, y_pred):\n",
        "    r2 = r2_score(y_true, y_pred)\n",
        "    mse = mean_squared_error(y_true, y_pred)\n",
        "    rmse = math.sqrt(mean_squared_error(y_true, y_pred))\n",
        "    mae = mean_absolute_error(y_true, y_pred)\n",
        "    return r2, mse, rmse, mae\n",
        "    \n",
        "# print('R2 score:', r2)\n",
        "# print('Mean Square Error (MSE):', mse)\n",
        "# print('Root Mean Square Error (RMSE):', rmse)\n",
        "# print('Mean Absolute Error (MAE):', mae)"
      ],
      "execution_count": 15,
      "outputs": []
    },
    {
      "cell_type": "code",
      "metadata": {
        "colab": {
          "base_uri": "https://localhost:8080/"
        },
        "id": "-WlfLeT9_U3S",
        "outputId": "6bd7fb7b-3a5c-49a0-b7d5-f995ce72f59b"
      },
      "source": [
        "df.columns"
      ],
      "execution_count": 21,
      "outputs": [
        {
          "output_type": "execute_result",
          "data": {
            "text/plain": [
              "Index(['list_time', 'ward', 'area', 'region', 'direction',\n",
              "       'property_legal_document', 'size (m2)', 'rooms', 'toilets', 'floors',\n",
              "       'living_size (m2)', 'width (m)', 'length (m)', 'price (billion)',\n",
              "       'type_details', 'website', 'front_road', 'type_real_estate', 'year',\n",
              "       'month'],\n",
              "      dtype='object')"
            ]
          },
          "metadata": {},
          "execution_count": 21
        }
      ]
    },
    {
      "cell_type": "markdown",
      "metadata": {
        "id": "0FiSq-AR2--w"
      },
      "source": [
        "## **Linear Regression**"
      ]
    },
    {
      "cell_type": "code",
      "metadata": {
        "id": "WA5KL5s052Oe"
      },
      "source": [
        "df1 = df.copy()\n",
        "\n",
        "for column in df.columns:\n",
        "    if df1[column].dtype == float:\n",
        "        df1 = df1[df1[column] <= df1[column].quantile(0.98)]\n",
        "\n",
        "y_data = df1['price (billion)']\n",
        "X_data = df1.drop(columns=['list_time', 'ward',  'type_details', 'direction', 'living_size (m2)', 'length (m)', 'website', 'price (billion)'])\n",
        "\n",
        "\n",
        "X_data = pd.get_dummies(X_data, drop_first=True)"
      ],
      "execution_count": 268,
      "outputs": []
    },
    {
      "cell_type": "code",
      "metadata": {
        "colab": {
          "base_uri": "https://localhost:8080/",
          "height": 681
        },
        "id": "8PTwRcYJCYTh",
        "outputId": "6995c289-2286-4b31-bede-08e2759291f7"
      },
      "source": [
        "import matplotlib.pyplot as plt\n",
        "import seaborn as sns\n",
        "\n",
        "plt.figure(figsize=(11, 10))\n",
        "sns.heatmap(data=df1.corr(), annot=True, cmap='Blues')"
      ],
      "execution_count": 208,
      "outputs": [
        {
          "output_type": "execute_result",
          "data": {
            "text/plain": [
              "<Figure size 792x720 with 0 Axes>"
            ]
          },
          "metadata": {},
          "execution_count": 208
        },
        {
          "output_type": "execute_result",
          "data": {
            "text/plain": [
              "<matplotlib.axes._subplots.AxesSubplot at 0x7fe991e28590>"
            ]
          },
          "metadata": {},
          "execution_count": 208
        },
        {
          "output_type": "display_data",
          "data": {
            "image/png": "[encoded data removed]",
            "text/plain": [
              "<Figure size 792x720 with 2 Axes>"
            ]
          },
          "metadata": {
            "needs_background": "light"
          }
        }
      ]
    },
    {
      "cell_type": "code",
      "metadata": {
        "id": "GrGqfvug6gH3"
      },
      "source": [
        "from sklearn.model_selection import train_test_split\n",
        "\n",
        "X_train, X_test, y_train, y_test = train_test_split(X_data, y_data, test_size=0.1, random_state=42)"
      ],
      "execution_count": 269,
      "outputs": []
    },
    {
      "cell_type": "code",
      "metadata": {
        "id": "6xozZ75A6liB"
      },
      "source": [
        "y_train = np.array(y_train).reshape(-1, 1)\n",
        "y_test = np.array(y_test).reshape(-1, 1)"
      ],
      "execution_count": 270,
      "outputs": []
    },
    {
      "cell_type": "code",
      "metadata": {
        "colab": {
          "base_uri": "https://localhost:8080/"
        },
        "id": "2-amZvQv7h9S",
        "outputId": "6d995659-8bd8-4ace-e4df-da25d9cf13ca"
      },
      "source": [
        "X_train.shape"
      ],
      "execution_count": 271,
      "outputs": [
        {
          "output_type": "execute_result",
          "data": {
            "text/plain": [
              "(172229, 84)"
            ]
          },
          "metadata": {},
          "execution_count": 271
        }
      ]
    },
    {
      "cell_type": "code",
      "metadata": {
        "colab": {
          "base_uri": "https://localhost:8080/"
        },
        "id": "rIIOfLoK7kIl",
        "outputId": "418e6fee-8622-4ebe-ecc3-5a4c521cd85e"
      },
      "source": [
        "X_test.shape"
      ],
      "execution_count": 272,
      "outputs": [
        {
          "output_type": "execute_result",
          "data": {
            "text/plain": [
              "(19137, 84)"
            ]
          },
          "metadata": {},
          "execution_count": 272
        }
      ]
    },
    {
      "cell_type": "code",
      "metadata": {
        "colab": {
          "base_uri": "https://localhost:8080/"
        },
        "id": "IPujnLUn3Z-g",
        "outputId": "1b039b69-0cd2-4b16-d49c-14f50854ac28"
      },
      "source": [
        "from sklearn.linear_model import LinearRegression\n",
        "\n",
        "linear_model = LinearRegression()\n",
        "linear_model.fit(X_train, y_train)"
      ],
      "execution_count": 273,
      "outputs": [
        {
          "output_type": "execute_result",
          "data": {
            "text/plain": [
              "LinearRegression()"
            ]
          },
          "metadata": {},
          "execution_count": 273
        }
      ]
    },
    {
      "cell_type": "code",
      "metadata": {
        "id": "Sop2T0qwYn4W"
      },
      "source": [
        "import pickle\n",
        "\n",
        "model_filename = '/content/drive/MyDrive/Colab/PhanTichVaTrucQuanDuLieu_DS105.M11/linear_model.pkl'"
      ],
      "execution_count": 274,
      "outputs": []
    },
    {
      "cell_type": "code",
      "metadata": {
        "id": "rPJQISFGYu2Q"
      },
      "source": [
        "with open(model_filename, 'wb') as file:  \n",
        "    pickle.dump(linear_model, file)"
      ],
      "execution_count": 275,
      "outputs": []
    },
    {
      "cell_type": "code",
      "metadata": {
        "id": "I198jKThYt-G"
      },
      "source": [
        "with open(model_filename, 'rb') as file:  \n",
        "    linear_model = pickle.load(file)"
      ],
      "execution_count": 276,
      "outputs": []
    },
    {
      "cell_type": "code",
      "metadata": {
        "id": "4Rjv6oui3-yw"
      },
      "source": [
        "y_pred = linear_model.predict(X_test)\n",
        "r2, mse, rmse, mae = evaluate_model(y_test, y_pred)"
      ],
      "execution_count": 277,
      "outputs": []
    },
    {
      "cell_type": "code",
      "metadata": {
        "colab": {
          "base_uri": "https://localhost:8080/"
        },
        "id": "dGCS2iqv6yRR",
        "outputId": "a5c4a0c7-71e3-4812-bcd0-d2020b6eecbe"
      },
      "source": [
        "print('R2 score:', r2)\n",
        "print('Mean Square Error (MSE):', mse)\n",
        "print('Root Mean Square Error (RMSE):', rmse)\n",
        "print('Mean Absolute Error (MAE):', mae)"
      ],
      "execution_count": 278,
      "outputs": [
        {
          "output_type": "stream",
          "name": "stdout",
          "text": [
            "R2 score: 0.6357759758523369\n",
            "Mean Square Error (MSE): 46.32114808390451\n",
            "Root Mean Square Error (RMSE): 6.805964155349668\n",
            "Mean Absolute Error (MAE): 4.019550620928977\n"
          ]
        }
      ]
    },
    {
      "cell_type": "code",
      "metadata": {
        "colab": {
          "base_uri": "https://localhost:8080/"
        },
        "id": "iir08zgiSigS",
        "outputId": "5a448d51-48fb-41e6-8faf-9cfd86399e95"
      },
      "source": [
        "print('Actual \\t Predict')\n",
        "for i, (true, pred) in enumerate(zip(y_test, y_pred)):\n",
        "    print(true, '\\t', pred)\n",
        "    if i > 20:\n",
        "        break"
      ],
      "execution_count": 279,
      "outputs": [
        {
          "output_type": "stream",
          "name": "stdout",
          "text": [
            "Actual \t Predict\n",
            "[3.8] \t [3.75429372]\n",
            "[1.7] \t [2.45788168]\n",
            "[6.4] \t [8.52875208]\n",
            "[1.75] \t [7.1762562]\n",
            "[5.] \t [11.51631029]\n",
            "[6.7] \t [4.90775485]\n",
            "[3.4] \t [17.15954147]\n",
            "[4.5] \t [10.74242]\n",
            "[45.] \t [33.45781948]\n",
            "[6.2] \t [10.01723487]\n",
            "[7.3] \t [4.52161867]\n",
            "[9.6] \t [10.61245186]\n",
            "[7.6] \t [7.52860515]\n",
            "[7.2] \t [10.38901585]\n",
            "[7.6] \t [10.97148541]\n",
            "[10.9] \t [13.02524146]\n",
            "[26.] \t [23.54223099]\n",
            "[0.55] \t [3.00805483]\n",
            "[3.85] \t [3.15614156]\n",
            "[7.2] \t [10.12289817]\n",
            "[1.1] \t [4.95133912]\n",
            "[2.4] \t [7.70831305]\n"
          ]
        }
      ]
    },
    {
      "cell_type": "code",
      "metadata": {
        "colab": {
          "base_uri": "https://localhost:8080/",
          "height": 638
        },
        "id": "rFLK0-onS-ej",
        "outputId": "5d90fa66-7cd4-499a-b9f2-8245509fc8b1"
      },
      "source": [
        "import matplotlib.pyplot as plt\n",
        "import seaborn as sns\n",
        "\n",
        "sns.set_style('whitegrid')\n",
        "plt.figure(figsize=(10, 10))\n",
        "ax = sns.distplot(df1['price (billion)'], hist=False, color='r', label=\"Actual Value\")\n",
        "sns.distplot(y_pred, hist=False, color='b', label=\"Fitted Values\", ax=ax)\n",
        "plt.legend()\n",
        "plt.title(\"Distribution plot\")"
      ],
      "execution_count": 280,
      "outputs": [
        {
          "output_type": "execute_result",
          "data": {
            "text/plain": [
              "<Figure size 720x720 with 0 Axes>"
            ]
          },
          "metadata": {},
          "execution_count": 280
        },
        {
          "output_type": "execute_result",
          "data": {
            "text/plain": [
              "<matplotlib.axes._subplots.AxesSubplot at 0x7fe991d19390>"
            ]
          },
          "metadata": {},
          "execution_count": 280
        },
        {
          "output_type": "execute_result",
          "data": {
            "text/plain": [
              "<matplotlib.legend.Legend at 0x7fe993330c90>"
            ]
          },
          "metadata": {},
          "execution_count": 280
        },
        {
          "output_type": "execute_result",
          "data": {
            "text/plain": [
              "Text(0.5, 1.0, 'Distribution plot')"
            ]
          },
          "metadata": {},
          "execution_count": 280
        },
        {
          "output_type": "display_data",
          "data": {
            "image/png": "[encoded data removed]",
            "text/plain": [
              "<Figure size 720x720 with 1 Axes>"
            ]
          },
          "metadata": {}
        }
      ]
    },
    {
      "cell_type": "markdown",
      "metadata": {
        "id": "gW9GSh54_ljV"
      },
      "source": [
        "## **Polynomial**"
      ]
    },
    {
      "cell_type": "code",
      "metadata": {
        "id": "neAu5Z5bDeHP"
      },
      "source": [
        "df2 = df.copy()\n",
        "\n",
        "for column in df2.columns:\n",
        "    if df2[column].dtype == float:\n",
        "        df2 = df2[df2[column] <= df2[column].quantile(0.98)]\n",
        "\n",
        "y_data = df2['price (billion)']\n",
        "X_data = df2.drop(columns=['list_time', 'ward',  'type_details', 'direction', 'living_size (m2)', 'length (m)', 'website', 'price (billion)'])\n",
        "\n",
        "# X_data['month'] = X_data['month'].astype('str')\n",
        "# X_data['year'] = X_data['year'].astype('str')\n",
        "\n",
        "X_data = pd.get_dummies(X_data, drop_first=True)"
      ],
      "execution_count": 281,
      "outputs": []
    },
    {
      "cell_type": "code",
      "metadata": {
        "id": "rRUlNL6sDyRj"
      },
      "source": [
        "from sklearn.model_selection import train_test_split\n",
        "\n",
        "X_train, X_test, y_train, y_test = train_test_split(X_data, y_data, test_size=0.1, random_state=42)"
      ],
      "execution_count": 282,
      "outputs": []
    },
    {
      "cell_type": "code",
      "metadata": {
        "id": "WC6BdHmWD2VO"
      },
      "source": [
        "y_train = np.array(y_train).reshape(-1, 1)\n",
        "y_test = np.array(y_test).reshape(-1, 1)"
      ],
      "execution_count": 283,
      "outputs": []
    },
    {
      "cell_type": "code",
      "metadata": {
        "colab": {
          "base_uri": "https://localhost:8080/"
        },
        "id": "4-BlBtXb_Ldp",
        "outputId": "a13245f2-924c-46e5-f40c-425d7c5f3244"
      },
      "source": [
        "from sklearn.pipeline import Pipeline\n",
        "from sklearn.preprocessing import PolynomialFeatures\n",
        "from sklearn.linear_model import LinearRegression\n",
        "\n",
        "from sklearn.pipeline import Pipeline\n",
        "from sklearn.preprocessing import PolynomialFeatures, StandardScaler\n",
        "\n",
        "\n",
        "dict_result = {'Degree': [], 'R2 score': [], 'Adjusted R2': [], 'MSE':[], 'RMSE':[], 'MAE':[]}\n",
        "\n",
        "for i in range(1, 11):\n",
        "    pipe = Pipeline([('poly', PolynomialFeatures(degree=i)), ('model', LinearRegression())])\n",
        "    pipe.fit(X_train[['front_road', 'size (m2)', 'width (m)']], y_train)\n",
        "    y_pred = pipe.predict(X_test[['front_road', 'size (m2)', 'width (m)']])\n",
        "    r2, mse, rmse, mae = evaluate_model(y_test, y_pred)\n",
        "\n",
        "    adjusted_r2 = 1 - (1-r2)*(len(y_test)-1)/(len(y_test)-X_test.shape[1]-1)\n",
        "\n",
        "    dict_result['Degree'].append(i)\n",
        "    dict_result['R2 score'].append(r2)\n",
        "    dict_result['Adjusted R2'].append(adjusted_r2)\n",
        "    dict_result['MSE'].append(mse)\n",
        "    dict_result['RMSE'].append(rmse)\n",
        "    dict_result['MAE'].append(mae)"
      ],
      "execution_count": 284,
      "outputs": [
        {
          "output_type": "execute_result",
          "data": {
            "text/plain": [
              "Pipeline(steps=[('poly', PolynomialFeatures(degree=1)),\n",
              "                ('model', LinearRegression())])"
            ]
          },
          "metadata": {},
          "execution_count": 284
        },
        {
          "output_type": "execute_result",
          "data": {
            "text/plain": [
              "Pipeline(steps=[('poly', PolynomialFeatures()), ('model', LinearRegression())])"
            ]
          },
          "metadata": {},
          "execution_count": 284
        },
        {
          "output_type": "execute_result",
          "data": {
            "text/plain": [
              "Pipeline(steps=[('poly', PolynomialFeatures(degree=3)),\n",
              "                ('model', LinearRegression())])"
            ]
          },
          "metadata": {},
          "execution_count": 284
        },
        {
          "output_type": "execute_result",
          "data": {
            "text/plain": [
              "Pipeline(steps=[('poly', PolynomialFeatures(degree=4)),\n",
              "                ('model', LinearRegression())])"
            ]
          },
          "metadata": {},
          "execution_count": 284
        },
        {
          "output_type": "execute_result",
          "data": {
            "text/plain": [
              "Pipeline(steps=[('poly', PolynomialFeatures(degree=5)),\n",
              "                ('model', LinearRegression())])"
            ]
          },
          "metadata": {},
          "execution_count": 284
        },
        {
          "output_type": "execute_result",
          "data": {
            "text/plain": [
              "Pipeline(steps=[('poly', PolynomialFeatures(degree=6)),\n",
              "                ('model', LinearRegression())])"
            ]
          },
          "metadata": {},
          "execution_count": 284
        },
        {
          "output_type": "execute_result",
          "data": {
            "text/plain": [
              "Pipeline(steps=[('poly', PolynomialFeatures(degree=7)),\n",
              "                ('model', LinearRegression())])"
            ]
          },
          "metadata": {},
          "execution_count": 284
        },
        {
          "output_type": "execute_result",
          "data": {
            "text/plain": [
              "Pipeline(steps=[('poly', PolynomialFeatures(degree=8)),\n",
              "                ('model', LinearRegression())])"
            ]
          },
          "metadata": {},
          "execution_count": 284
        },
        {
          "output_type": "execute_result",
          "data": {
            "text/plain": [
              "Pipeline(steps=[('poly', PolynomialFeatures(degree=9)),\n",
              "                ('model', LinearRegression())])"
            ]
          },
          "metadata": {},
          "execution_count": 284
        },
        {
          "output_type": "execute_result",
          "data": {
            "text/plain": [
              "Pipeline(steps=[('poly', PolynomialFeatures(degree=10)),\n",
              "                ('model', LinearRegression())])"
            ]
          },
          "metadata": {},
          "execution_count": 284
        }
      ]
    },
    {
      "cell_type": "code",
      "metadata": {
        "colab": {
          "base_uri": "https://localhost:8080/",
          "height": 362
        },
        "id": "MkF1T6Zkbeg2",
        "outputId": "27df49f5-dc7d-4e91-9df5-d626058b87cd"
      },
      "source": [
        "pd.DataFrame(dict_result)"
      ],
      "execution_count": 285,
      "outputs": [
        {
          "output_type": "execute_result",
          "data": {
            "text/html": [
              "<div>\n",
              "<style scoped>\n",
              "    .dataframe tbody tr th:only-of-type {\n",
              "        vertical-align: middle;\n",
              "    }\n",
              "\n",
              "    .dataframe tbody tr th {\n",
              "        vertical-align: top;\n",
              "    }\n",
              "\n",
              "    .dataframe thead th {\n",
              "        text-align: right;\n",
              "    }\n",
              "</style>\n",
              "<table border=\"1\" class=\"dataframe\">\n",
              "  <thead>\n",
              "    <tr style=\"text-align: right;\">\n",
              "      <th></th>\n",
              "      <th>Degree</th>\n",
              "      <th>R2 score</th>\n",
              "      <th>Adjusted R2</th>\n",
              "      <th>MSE</th>\n",
              "      <th>RMSE</th>\n",
              "      <th>MAE</th>\n",
              "    </tr>\n",
              "  </thead>\n",
              "  <tbody>\n",
              "    <tr>\n",
              "      <th>0</th>\n",
              "      <td>1</td>\n",
              "      <td>0.328353</td>\n",
              "      <td>0.325391</td>\n",
              "      <td>85.418510</td>\n",
              "      <td>9.242213</td>\n",
              "      <td>5.973994</td>\n",
              "    </tr>\n",
              "    <tr>\n",
              "      <th>1</th>\n",
              "      <td>2</td>\n",
              "      <td>0.384290</td>\n",
              "      <td>0.381575</td>\n",
              "      <td>78.304566</td>\n",
              "      <td>8.848987</td>\n",
              "      <td>5.536173</td>\n",
              "    </tr>\n",
              "    <tr>\n",
              "      <th>2</th>\n",
              "      <td>3</td>\n",
              "      <td>0.425198</td>\n",
              "      <td>0.422664</td>\n",
              "      <td>73.101920</td>\n",
              "      <td>8.549966</td>\n",
              "      <td>5.277424</td>\n",
              "    </tr>\n",
              "    <tr>\n",
              "      <th>3</th>\n",
              "      <td>4</td>\n",
              "      <td>0.432078</td>\n",
              "      <td>0.429574</td>\n",
              "      <td>72.226972</td>\n",
              "      <td>8.498645</td>\n",
              "      <td>5.236598</td>\n",
              "    </tr>\n",
              "    <tr>\n",
              "      <th>4</th>\n",
              "      <td>5</td>\n",
              "      <td>0.339067</td>\n",
              "      <td>0.336153</td>\n",
              "      <td>84.055923</td>\n",
              "      <td>9.168202</td>\n",
              "      <td>5.452126</td>\n",
              "    </tr>\n",
              "    <tr>\n",
              "      <th>5</th>\n",
              "      <td>6</td>\n",
              "      <td>-1.452511</td>\n",
              "      <td>-1.463324</td>\n",
              "      <td>311.904571</td>\n",
              "      <td>17.660820</td>\n",
              "      <td>5.789783</td>\n",
              "    </tr>\n",
              "    <tr>\n",
              "      <th>6</th>\n",
              "      <td>7</td>\n",
              "      <td>-2.545897</td>\n",
              "      <td>-2.561530</td>\n",
              "      <td>450.958735</td>\n",
              "      <td>21.235789</td>\n",
              "      <td>6.262454</td>\n",
              "    </tr>\n",
              "    <tr>\n",
              "      <th>7</th>\n",
              "      <td>8</td>\n",
              "      <td>-3.084486</td>\n",
              "      <td>-3.102494</td>\n",
              "      <td>519.455235</td>\n",
              "      <td>22.791561</td>\n",
              "      <td>6.592276</td>\n",
              "    </tr>\n",
              "    <tr>\n",
              "      <th>8</th>\n",
              "      <td>9</td>\n",
              "      <td>-0.200292</td>\n",
              "      <td>-0.205584</td>\n",
              "      <td>152.650246</td>\n",
              "      <td>12.355171</td>\n",
              "      <td>7.173329</td>\n",
              "    </tr>\n",
              "    <tr>\n",
              "      <th>9</th>\n",
              "      <td>10</td>\n",
              "      <td>-3.185443</td>\n",
              "      <td>-3.203897</td>\n",
              "      <td>532.294722</td>\n",
              "      <td>23.071513</td>\n",
              "      <td>7.582525</td>\n",
              "    </tr>\n",
              "  </tbody>\n",
              "</table>\n",
              "</div>"
            ],
            "text/plain": [
              "   Degree  R2 score  Adjusted R2         MSE       RMSE       MAE\n",
              "0       1  0.328353     0.325391   85.418510   9.242213  5.973994\n",
              "1       2  0.384290     0.381575   78.304566   8.848987  5.536173\n",
              "2       3  0.425198     0.422664   73.101920   8.549966  5.277424\n",
              "3       4  0.432078     0.429574   72.226972   8.498645  5.236598\n",
              "4       5  0.339067     0.336153   84.055923   9.168202  5.452126\n",
              "5       6 -1.452511    -1.463324  311.904571  17.660820  5.789783\n",
              "6       7 -2.545897    -2.561530  450.958735  21.235789  6.262454\n",
              "7       8 -3.084486    -3.102494  519.455235  22.791561  6.592276\n",
              "8       9 -0.200292    -0.205584  152.650246  12.355171  7.173329\n",
              "9      10 -3.185443    -3.203897  532.294722  23.071513  7.582525"
            ]
          },
          "metadata": {},
          "execution_count": 285
        }
      ]
    },
    {
      "cell_type": "markdown",
      "metadata": {
        "id": "GgIIW9_uI0z7"
      },
      "source": [
        "Nhận xét: Mô hình huấn luyện trên ba thuộc tính size, width, front road cho kết quả cao nhất ở bậc 4"
      ]
    },
    {
      "cell_type": "code",
      "metadata": {
        "id": "3FfsZJH1G4jl"
      },
      "source": [
        "for i in range(2, 5):\n",
        "    for col in X_train.columns:\n",
        "        if col in ['size (m2)', 'width (m)', 'front_road']:\n",
        "            new_col = col+ '_' + str(i)\n",
        "            X_train[new_col] = X_train[col].apply(lambda x: x**i)"
      ],
      "execution_count": 286,
      "outputs": []
    },
    {
      "cell_type": "code",
      "metadata": {
        "colab": {
          "base_uri": "https://localhost:8080/"
        },
        "id": "3ug2JnD1Hmcr",
        "outputId": "5023404b-6e30-424a-a838-231a9f904067"
      },
      "source": [
        "X_train.shape"
      ],
      "execution_count": 287,
      "outputs": [
        {
          "output_type": "execute_result",
          "data": {
            "text/plain": [
              "(172229, 93)"
            ]
          },
          "metadata": {},
          "execution_count": 287
        }
      ]
    },
    {
      "cell_type": "code",
      "metadata": {
        "id": "JVLfIDv4Hg20"
      },
      "source": [
        "for i in range(2, 5):\n",
        "    for col in X_test.columns:\n",
        "        if col in ['size (m2)', 'width (m)', 'front_road']:\n",
        "            new_col = col+ '_' + str(i)\n",
        "            X_test[new_col] = X_test[col].apply(lambda x: x**i)"
      ],
      "execution_count": 288,
      "outputs": []
    },
    {
      "cell_type": "code",
      "metadata": {
        "colab": {
          "base_uri": "https://localhost:8080/",
          "height": 261
        },
        "id": "RQd8PaDXJlCK",
        "outputId": "ce65ad22-7a9c-4df6-f605-bd054d863a06"
      },
      "source": [
        "X_train.head(5)"
      ],
      "execution_count": 289,
      "outputs": [
        {
          "output_type": "execute_result",
          "data": {
            "text/html": [
              "<div>\n",
              "<style scoped>\n",
              "    .dataframe tbody tr th:only-of-type {\n",
              "        vertical-align: middle;\n",
              "    }\n",
              "\n",
              "    .dataframe tbody tr th {\n",
              "        vertical-align: top;\n",
              "    }\n",
              "\n",
              "    .dataframe thead th {\n",
              "        text-align: right;\n",
              "    }\n",
              "</style>\n",
              "<table border=\"1\" class=\"dataframe\">\n",
              "  <thead>\n",
              "    <tr style=\"text-align: right;\">\n",
              "      <th></th>\n",
              "      <th>size (m2)</th>\n",
              "      <th>width (m)</th>\n",
              "      <th>front_road</th>\n",
              "      <th>year</th>\n",
              "      <th>month</th>\n",
              "      <th>area_Huyện Bình Chánh</th>\n",
              "      <th>area_Huyện Bắc Tân Uyên</th>\n",
              "      <th>area_Huyện Cần Giờ</th>\n",
              "      <th>area_Huyện Cẩm Mỹ</th>\n",
              "      <th>area_Huyện Củ Chi</th>\n",
              "      <th>area_Huyện Dầu Tiếng</th>\n",
              "      <th>area_Huyện Hóc Môn</th>\n",
              "      <th>area_Huyện Long Thành</th>\n",
              "      <th>area_Huyện Nhà Bè</th>\n",
              "      <th>area_Huyện Nhơn Trạch</th>\n",
              "      <th>area_Huyện Phú Giáo</th>\n",
              "      <th>area_Huyện Thống Nhất</th>\n",
              "      <th>area_Huyện Trảng Bom</th>\n",
              "      <th>area_Huyện Tân Phú</th>\n",
              "      <th>area_Huyện Vĩnh Cửu</th>\n",
              "      <th>area_Huyện Xuân Lộc</th>\n",
              "      <th>area_Huyện Định Quán</th>\n",
              "      <th>area_Quận 1</th>\n",
              "      <th>area_Quận 10</th>\n",
              "      <th>area_Quận 11</th>\n",
              "      <th>area_Quận 12</th>\n",
              "      <th>area_Quận 2</th>\n",
              "      <th>area_Quận 3</th>\n",
              "      <th>area_Quận 4</th>\n",
              "      <th>area_Quận 5</th>\n",
              "      <th>area_Quận 6</th>\n",
              "      <th>area_Quận 7</th>\n",
              "      <th>area_Quận 8</th>\n",
              "      <th>area_Quận 9</th>\n",
              "      <th>area_Quận Bình Thạnh</th>\n",
              "      <th>area_Quận Bình Tân</th>\n",
              "      <th>area_Quận Gò Vấp</th>\n",
              "      <th>area_Quận Phú Nhuận</th>\n",
              "      <th>area_Quận Tân Bình</th>\n",
              "      <th>area_Quận Tân Phú</th>\n",
              "      <th>area_Thành phố Biên Hòa</th>\n",
              "      <th>area_Thành phố Dĩ An</th>\n",
              "      <th>area_Thành phố Long Khánh</th>\n",
              "      <th>area_Thành phố Thuận An</th>\n",
              "      <th>area_Thành phố Thủ Dầu Một</th>\n",
              "      <th>area_Thành phố Thủ Đức</th>\n",
              "      <th>area_Thị xã Bến Cát</th>\n",
              "      <th>area_Thị xã Tân Uyên</th>\n",
              "      <th>region_Hồ Chí Minh</th>\n",
              "      <th>region_Đồng Nai</th>\n",
              "      <th>property_legal_document_Đang chờ sổ</th>\n",
              "      <th>property_legal_document_Đã có sổ</th>\n",
              "      <th>rooms_1</th>\n",
              "      <th>rooms_10</th>\n",
              "      <th>rooms_2</th>\n",
              "      <th>rooms_3</th>\n",
              "      <th>rooms_4</th>\n",
              "      <th>rooms_5</th>\n",
              "      <th>rooms_6</th>\n",
              "      <th>rooms_7</th>\n",
              "      <th>rooms_8</th>\n",
              "      <th>rooms_9</th>\n",
              "      <th>rooms_Nhiều hơn 10</th>\n",
              "      <th>toilets_1</th>\n",
              "      <th>toilets_2</th>\n",
              "      <th>toilets_3</th>\n",
              "      <th>toilets_4</th>\n",
              "      <th>toilets_5</th>\n",
              "      <th>toilets_6</th>\n",
              "      <th>toilets_Nhiều hơn 6</th>\n",
              "      <th>floors_1</th>\n",
              "      <th>floors_10</th>\n",
              "      <th>floors_2</th>\n",
              "      <th>floors_3</th>\n",
              "      <th>floors_4</th>\n",
              "      <th>floors_5</th>\n",
              "      <th>floors_6</th>\n",
              "      <th>floors_7</th>\n",
              "      <th>floors_8</th>\n",
              "      <th>floors_9</th>\n",
              "      <th>floors_Nhiều hơn 10</th>\n",
              "      <th>type_real_estate_Khác</th>\n",
              "      <th>type_real_estate_Nhà ở</th>\n",
              "      <th>type_real_estate_Đất</th>\n",
              "      <th>size (m2)_2</th>\n",
              "      <th>width (m)_2</th>\n",
              "      <th>front_road_2</th>\n",
              "      <th>size (m2)_3</th>\n",
              "      <th>width (m)_3</th>\n",
              "      <th>front_road_3</th>\n",
              "      <th>size (m2)_4</th>\n",
              "      <th>width (m)_4</th>\n",
              "      <th>front_road_4</th>\n",
              "    </tr>\n",
              "  </thead>\n",
              "  <tbody>\n",
              "    <tr>\n",
              "      <th>34084</th>\n",
              "      <td>40.0</td>\n",
              "      <td>5.00</td>\n",
              "      <td>8.0</td>\n",
              "      <td>2021</td>\n",
              "      <td>11</td>\n",
              "      <td>0</td>\n",
              "      <td>0</td>\n",
              "      <td>0</td>\n",
              "      <td>0</td>\n",
              "      <td>0</td>\n",
              "      <td>0</td>\n",
              "      <td>0</td>\n",
              "      <td>0</td>\n",
              "      <td>0</td>\n",
              "      <td>0</td>\n",
              "      <td>0</td>\n",
              "      <td>0</td>\n",
              "      <td>0</td>\n",
              "      <td>0</td>\n",
              "      <td>0</td>\n",
              "      <td>0</td>\n",
              "      <td>0</td>\n",
              "      <td>0</td>\n",
              "      <td>0</td>\n",
              "      <td>0</td>\n",
              "      <td>0</td>\n",
              "      <td>0</td>\n",
              "      <td>0</td>\n",
              "      <td>0</td>\n",
              "      <td>0</td>\n",
              "      <td>0</td>\n",
              "      <td>0</td>\n",
              "      <td>0</td>\n",
              "      <td>0</td>\n",
              "      <td>0</td>\n",
              "      <td>0</td>\n",
              "      <td>1</td>\n",
              "      <td>0</td>\n",
              "      <td>0</td>\n",
              "      <td>0</td>\n",
              "      <td>0</td>\n",
              "      <td>0</td>\n",
              "      <td>0</td>\n",
              "      <td>0</td>\n",
              "      <td>0</td>\n",
              "      <td>0</td>\n",
              "      <td>0</td>\n",
              "      <td>0</td>\n",
              "      <td>1</td>\n",
              "      <td>0</td>\n",
              "      <td>0</td>\n",
              "      <td>1</td>\n",
              "      <td>0</td>\n",
              "      <td>0</td>\n",
              "      <td>0</td>\n",
              "      <td>0</td>\n",
              "      <td>1</td>\n",
              "      <td>0</td>\n",
              "      <td>0</td>\n",
              "      <td>0</td>\n",
              "      <td>0</td>\n",
              "      <td>0</td>\n",
              "      <td>0</td>\n",
              "      <td>0</td>\n",
              "      <td>0</td>\n",
              "      <td>1</td>\n",
              "      <td>0</td>\n",
              "      <td>0</td>\n",
              "      <td>0</td>\n",
              "      <td>0</td>\n",
              "      <td>0</td>\n",
              "      <td>0</td>\n",
              "      <td>0</td>\n",
              "      <td>0</td>\n",
              "      <td>0</td>\n",
              "      <td>0</td>\n",
              "      <td>0</td>\n",
              "      <td>0</td>\n",
              "      <td>0</td>\n",
              "      <td>0</td>\n",
              "      <td>1</td>\n",
              "      <td>0</td>\n",
              "      <td>1</td>\n",
              "      <td>0</td>\n",
              "      <td>1600.0</td>\n",
              "      <td>25.0000</td>\n",
              "      <td>64.0</td>\n",
              "      <td>64000.0</td>\n",
              "      <td>125.000000</td>\n",
              "      <td>512.0</td>\n",
              "      <td>2560000.0</td>\n",
              "      <td>625.000000</td>\n",
              "      <td>4096.0</td>\n",
              "    </tr>\n",
              "    <tr>\n",
              "      <th>1872</th>\n",
              "      <td>72.0</td>\n",
              "      <td>5.00</td>\n",
              "      <td>8.0</td>\n",
              "      <td>2021</td>\n",
              "      <td>10</td>\n",
              "      <td>0</td>\n",
              "      <td>0</td>\n",
              "      <td>0</td>\n",
              "      <td>0</td>\n",
              "      <td>0</td>\n",
              "      <td>0</td>\n",
              "      <td>0</td>\n",
              "      <td>0</td>\n",
              "      <td>0</td>\n",
              "      <td>0</td>\n",
              "      <td>0</td>\n",
              "      <td>0</td>\n",
              "      <td>0</td>\n",
              "      <td>0</td>\n",
              "      <td>0</td>\n",
              "      <td>0</td>\n",
              "      <td>0</td>\n",
              "      <td>0</td>\n",
              "      <td>0</td>\n",
              "      <td>0</td>\n",
              "      <td>0</td>\n",
              "      <td>0</td>\n",
              "      <td>0</td>\n",
              "      <td>0</td>\n",
              "      <td>0</td>\n",
              "      <td>0</td>\n",
              "      <td>0</td>\n",
              "      <td>0</td>\n",
              "      <td>0</td>\n",
              "      <td>0</td>\n",
              "      <td>0</td>\n",
              "      <td>0</td>\n",
              "      <td>0</td>\n",
              "      <td>0</td>\n",
              "      <td>0</td>\n",
              "      <td>1</td>\n",
              "      <td>0</td>\n",
              "      <td>0</td>\n",
              "      <td>0</td>\n",
              "      <td>0</td>\n",
              "      <td>0</td>\n",
              "      <td>0</td>\n",
              "      <td>0</td>\n",
              "      <td>0</td>\n",
              "      <td>1</td>\n",
              "      <td>0</td>\n",
              "      <td>0</td>\n",
              "      <td>0</td>\n",
              "      <td>0</td>\n",
              "      <td>1</td>\n",
              "      <td>0</td>\n",
              "      <td>0</td>\n",
              "      <td>0</td>\n",
              "      <td>0</td>\n",
              "      <td>0</td>\n",
              "      <td>0</td>\n",
              "      <td>0</td>\n",
              "      <td>0</td>\n",
              "      <td>1</td>\n",
              "      <td>0</td>\n",
              "      <td>0</td>\n",
              "      <td>0</td>\n",
              "      <td>0</td>\n",
              "      <td>0</td>\n",
              "      <td>0</td>\n",
              "      <td>0</td>\n",
              "      <td>0</td>\n",
              "      <td>0</td>\n",
              "      <td>0</td>\n",
              "      <td>0</td>\n",
              "      <td>0</td>\n",
              "      <td>0</td>\n",
              "      <td>0</td>\n",
              "      <td>0</td>\n",
              "      <td>0</td>\n",
              "      <td>1</td>\n",
              "      <td>0</td>\n",
              "      <td>1</td>\n",
              "      <td>0</td>\n",
              "      <td>5184.0</td>\n",
              "      <td>25.0000</td>\n",
              "      <td>64.0</td>\n",
              "      <td>373248.0</td>\n",
              "      <td>125.000000</td>\n",
              "      <td>512.0</td>\n",
              "      <td>26873856.0</td>\n",
              "      <td>625.000000</td>\n",
              "      <td>4096.0</td>\n",
              "    </tr>\n",
              "    <tr>\n",
              "      <th>67999</th>\n",
              "      <td>58.0</td>\n",
              "      <td>4.00</td>\n",
              "      <td>8.0</td>\n",
              "      <td>2021</td>\n",
              "      <td>10</td>\n",
              "      <td>0</td>\n",
              "      <td>0</td>\n",
              "      <td>0</td>\n",
              "      <td>0</td>\n",
              "      <td>0</td>\n",
              "      <td>0</td>\n",
              "      <td>1</td>\n",
              "      <td>0</td>\n",
              "      <td>0</td>\n",
              "      <td>0</td>\n",
              "      <td>0</td>\n",
              "      <td>0</td>\n",
              "      <td>0</td>\n",
              "      <td>0</td>\n",
              "      <td>0</td>\n",
              "      <td>0</td>\n",
              "      <td>0</td>\n",
              "      <td>0</td>\n",
              "      <td>0</td>\n",
              "      <td>0</td>\n",
              "      <td>0</td>\n",
              "      <td>0</td>\n",
              "      <td>0</td>\n",
              "      <td>0</td>\n",
              "      <td>0</td>\n",
              "      <td>0</td>\n",
              "      <td>0</td>\n",
              "      <td>0</td>\n",
              "      <td>0</td>\n",
              "      <td>0</td>\n",
              "      <td>0</td>\n",
              "      <td>0</td>\n",
              "      <td>0</td>\n",
              "      <td>0</td>\n",
              "      <td>0</td>\n",
              "      <td>0</td>\n",
              "      <td>0</td>\n",
              "      <td>0</td>\n",
              "      <td>0</td>\n",
              "      <td>0</td>\n",
              "      <td>0</td>\n",
              "      <td>0</td>\n",
              "      <td>0</td>\n",
              "      <td>1</td>\n",
              "      <td>0</td>\n",
              "      <td>0</td>\n",
              "      <td>1</td>\n",
              "      <td>0</td>\n",
              "      <td>0</td>\n",
              "      <td>0</td>\n",
              "      <td>1</td>\n",
              "      <td>0</td>\n",
              "      <td>0</td>\n",
              "      <td>0</td>\n",
              "      <td>0</td>\n",
              "      <td>0</td>\n",
              "      <td>0</td>\n",
              "      <td>0</td>\n",
              "      <td>0</td>\n",
              "      <td>0</td>\n",
              "      <td>1</td>\n",
              "      <td>0</td>\n",
              "      <td>0</td>\n",
              "      <td>0</td>\n",
              "      <td>0</td>\n",
              "      <td>0</td>\n",
              "      <td>0</td>\n",
              "      <td>0</td>\n",
              "      <td>0</td>\n",
              "      <td>0</td>\n",
              "      <td>0</td>\n",
              "      <td>0</td>\n",
              "      <td>0</td>\n",
              "      <td>0</td>\n",
              "      <td>0</td>\n",
              "      <td>1</td>\n",
              "      <td>0</td>\n",
              "      <td>1</td>\n",
              "      <td>0</td>\n",
              "      <td>3364.0</td>\n",
              "      <td>16.0000</td>\n",
              "      <td>64.0</td>\n",
              "      <td>195112.0</td>\n",
              "      <td>64.000000</td>\n",
              "      <td>512.0</td>\n",
              "      <td>11316496.0</td>\n",
              "      <td>256.000000</td>\n",
              "      <td>4096.0</td>\n",
              "    </tr>\n",
              "    <tr>\n",
              "      <th>41155</th>\n",
              "      <td>88.0</td>\n",
              "      <td>3.43</td>\n",
              "      <td>8.0</td>\n",
              "      <td>2021</td>\n",
              "      <td>11</td>\n",
              "      <td>0</td>\n",
              "      <td>0</td>\n",
              "      <td>0</td>\n",
              "      <td>0</td>\n",
              "      <td>0</td>\n",
              "      <td>0</td>\n",
              "      <td>0</td>\n",
              "      <td>0</td>\n",
              "      <td>1</td>\n",
              "      <td>0</td>\n",
              "      <td>0</td>\n",
              "      <td>0</td>\n",
              "      <td>0</td>\n",
              "      <td>0</td>\n",
              "      <td>0</td>\n",
              "      <td>0</td>\n",
              "      <td>0</td>\n",
              "      <td>0</td>\n",
              "      <td>0</td>\n",
              "      <td>0</td>\n",
              "      <td>0</td>\n",
              "      <td>0</td>\n",
              "      <td>0</td>\n",
              "      <td>0</td>\n",
              "      <td>0</td>\n",
              "      <td>0</td>\n",
              "      <td>0</td>\n",
              "      <td>0</td>\n",
              "      <td>0</td>\n",
              "      <td>0</td>\n",
              "      <td>0</td>\n",
              "      <td>0</td>\n",
              "      <td>0</td>\n",
              "      <td>0</td>\n",
              "      <td>0</td>\n",
              "      <td>0</td>\n",
              "      <td>0</td>\n",
              "      <td>0</td>\n",
              "      <td>0</td>\n",
              "      <td>0</td>\n",
              "      <td>0</td>\n",
              "      <td>0</td>\n",
              "      <td>0</td>\n",
              "      <td>1</td>\n",
              "      <td>0</td>\n",
              "      <td>0</td>\n",
              "      <td>1</td>\n",
              "      <td>0</td>\n",
              "      <td>0</td>\n",
              "      <td>1</td>\n",
              "      <td>0</td>\n",
              "      <td>0</td>\n",
              "      <td>0</td>\n",
              "      <td>0</td>\n",
              "      <td>0</td>\n",
              "      <td>0</td>\n",
              "      <td>0</td>\n",
              "      <td>0</td>\n",
              "      <td>0</td>\n",
              "      <td>0</td>\n",
              "      <td>1</td>\n",
              "      <td>0</td>\n",
              "      <td>0</td>\n",
              "      <td>0</td>\n",
              "      <td>0</td>\n",
              "      <td>0</td>\n",
              "      <td>0</td>\n",
              "      <td>0</td>\n",
              "      <td>0</td>\n",
              "      <td>0</td>\n",
              "      <td>0</td>\n",
              "      <td>0</td>\n",
              "      <td>0</td>\n",
              "      <td>0</td>\n",
              "      <td>0</td>\n",
              "      <td>1</td>\n",
              "      <td>0</td>\n",
              "      <td>1</td>\n",
              "      <td>0</td>\n",
              "      <td>7744.0</td>\n",
              "      <td>11.7649</td>\n",
              "      <td>64.0</td>\n",
              "      <td>681472.0</td>\n",
              "      <td>40.353607</td>\n",
              "      <td>512.0</td>\n",
              "      <td>59969536.0</td>\n",
              "      <td>138.412872</td>\n",
              "      <td>4096.0</td>\n",
              "    </tr>\n",
              "    <tr>\n",
              "      <th>63142</th>\n",
              "      <td>72.0</td>\n",
              "      <td>5.00</td>\n",
              "      <td>8.0</td>\n",
              "      <td>2021</td>\n",
              "      <td>10</td>\n",
              "      <td>0</td>\n",
              "      <td>0</td>\n",
              "      <td>0</td>\n",
              "      <td>0</td>\n",
              "      <td>0</td>\n",
              "      <td>0</td>\n",
              "      <td>0</td>\n",
              "      <td>0</td>\n",
              "      <td>0</td>\n",
              "      <td>0</td>\n",
              "      <td>0</td>\n",
              "      <td>0</td>\n",
              "      <td>0</td>\n",
              "      <td>0</td>\n",
              "      <td>0</td>\n",
              "      <td>0</td>\n",
              "      <td>0</td>\n",
              "      <td>0</td>\n",
              "      <td>0</td>\n",
              "      <td>0</td>\n",
              "      <td>0</td>\n",
              "      <td>0</td>\n",
              "      <td>0</td>\n",
              "      <td>0</td>\n",
              "      <td>0</td>\n",
              "      <td>0</td>\n",
              "      <td>0</td>\n",
              "      <td>0</td>\n",
              "      <td>0</td>\n",
              "      <td>1</td>\n",
              "      <td>0</td>\n",
              "      <td>0</td>\n",
              "      <td>0</td>\n",
              "      <td>0</td>\n",
              "      <td>0</td>\n",
              "      <td>0</td>\n",
              "      <td>0</td>\n",
              "      <td>0</td>\n",
              "      <td>0</td>\n",
              "      <td>0</td>\n",
              "      <td>0</td>\n",
              "      <td>0</td>\n",
              "      <td>0</td>\n",
              "      <td>1</td>\n",
              "      <td>0</td>\n",
              "      <td>0</td>\n",
              "      <td>1</td>\n",
              "      <td>0</td>\n",
              "      <td>0</td>\n",
              "      <td>1</td>\n",
              "      <td>0</td>\n",
              "      <td>0</td>\n",
              "      <td>0</td>\n",
              "      <td>0</td>\n",
              "      <td>0</td>\n",
              "      <td>0</td>\n",
              "      <td>0</td>\n",
              "      <td>0</td>\n",
              "      <td>1</td>\n",
              "      <td>0</td>\n",
              "      <td>0</td>\n",
              "      <td>0</td>\n",
              "      <td>0</td>\n",
              "      <td>0</td>\n",
              "      <td>0</td>\n",
              "      <td>0</td>\n",
              "      <td>0</td>\n",
              "      <td>0</td>\n",
              "      <td>0</td>\n",
              "      <td>0</td>\n",
              "      <td>0</td>\n",
              "      <td>0</td>\n",
              "      <td>0</td>\n",
              "      <td>0</td>\n",
              "      <td>0</td>\n",
              "      <td>1</td>\n",
              "      <td>0</td>\n",
              "      <td>1</td>\n",
              "      <td>0</td>\n",
              "      <td>5184.0</td>\n",
              "      <td>25.0000</td>\n",
              "      <td>64.0</td>\n",
              "      <td>373248.0</td>\n",
              "      <td>125.000000</td>\n",
              "      <td>512.0</td>\n",
              "      <td>26873856.0</td>\n",
              "      <td>625.000000</td>\n",
              "      <td>4096.0</td>\n",
              "    </tr>\n",
              "  </tbody>\n",
              "</table>\n",
              "</div>"
            ],
            "text/plain": [
              "       size (m2)  width (m)  front_road  year  month  area_Huyện Bình Chánh  \\\n",
              "34084       40.0       5.00         8.0  2021     11                      0   \n",
              "1872        72.0       5.00         8.0  2021     10                      0   \n",
              "67999       58.0       4.00         8.0  2021     10                      0   \n",
              "41155       88.0       3.43         8.0  2021     11                      0   \n",
              "63142       72.0       5.00         8.0  2021     10                      0   \n",
              "\n",
              "       area_Huyện Bắc Tân Uyên  area_Huyện Cần Giờ  area_Huyện Cẩm Mỹ  \\\n",
              "34084                        0                   0                  0   \n",
              "1872                         0                   0                  0   \n",
              "67999                        0                   0                  0   \n",
              "41155                        0                   0                  0   \n",
              "63142                        0                   0                  0   \n",
              "\n",
              "       area_Huyện Củ Chi  area_Huyện Dầu Tiếng  area_Huyện Hóc Môn  \\\n",
              "34084                  0                     0                   0   \n",
              "1872                   0                     0                   0   \n",
              "67999                  0                     0                   1   \n",
              "41155                  0                     0                   0   \n",
              "63142                  0                     0                   0   \n",
              "\n",
              "       area_Huyện Long Thành  area_Huyện Nhà Bè  area_Huyện Nhơn Trạch  \\\n",
              "34084                      0                  0                      0   \n",
              "1872                       0                  0                      0   \n",
              "67999                      0                  0                      0   \n",
              "41155                      0                  1                      0   \n",
              "63142                      0                  0                      0   \n",
              "\n",
              "       area_Huyện Phú Giáo  area_Huyện Thống Nhất  area_Huyện Trảng Bom  \\\n",
              "34084                    0                      0                     0   \n",
              "1872                     0                      0                     0   \n",
              "67999                    0                      0                     0   \n",
              "41155                    0                      0                     0   \n",
              "63142                    0                      0                     0   \n",
              "\n",
              "       area_Huyện Tân Phú  area_Huyện Vĩnh Cửu  area_Huyện Xuân Lộc  \\\n",
              "34084                   0                    0                    0   \n",
              "1872                    0                    0                    0   \n",
              "67999                   0                    0                    0   \n",
              "41155                   0                    0                    0   \n",
              "63142                   0                    0                    0   \n",
              "\n",
              "       area_Huyện Định Quán  area_Quận 1  area_Quận 10  area_Quận 11  \\\n",
              "34084                     0            0             0             0   \n",
              "1872                      0            0             0             0   \n",
              "67999                     0            0             0             0   \n",
              "41155                     0            0             0             0   \n",
              "63142                     0            0             0             0   \n",
              "\n",
              "       area_Quận 12  area_Quận 2  area_Quận 3  area_Quận 4  area_Quận 5  \\\n",
              "34084             0            0            0            0            0   \n",
              "1872              0            0            0            0            0   \n",
              "67999             0            0            0            0            0   \n",
              "41155             0            0            0            0            0   \n",
              "63142             0            0            0            0            0   \n",
              "\n",
              "       area_Quận 6  area_Quận 7  area_Quận 8  area_Quận 9  \\\n",
              "34084            0            0            0            0   \n",
              "1872             0            0            0            0   \n",
              "67999            0            0            0            0   \n",
              "41155            0            0            0            0   \n",
              "63142            0            0            0            0   \n",
              "\n",
              "       area_Quận Bình Thạnh  area_Quận Bình Tân  area_Quận Gò Vấp  \\\n",
              "34084                     0                   0                 1   \n",
              "1872                      0                   0                 0   \n",
              "67999                     0                   0                 0   \n",
              "41155                     0                   0                 0   \n",
              "63142                     1                   0                 0   \n",
              "\n",
              "       area_Quận Phú Nhuận  area_Quận Tân Bình  area_Quận Tân Phú  \\\n",
              "34084                    0                   0                  0   \n",
              "1872                     0                   0                  0   \n",
              "67999                    0                   0                  0   \n",
              "41155                    0                   0                  0   \n",
              "63142                    0                   0                  0   \n",
              "\n",
              "       area_Thành phố Biên Hòa  area_Thành phố Dĩ An  \\\n",
              "34084                        0                     0   \n",
              "1872                         1                     0   \n",
              "67999                        0                     0   \n",
              "41155                        0                     0   \n",
              "63142                        0                     0   \n",
              "\n",
              "       area_Thành phố Long Khánh  area_Thành phố Thuận An  \\\n",
              "34084                          0                        0   \n",
              "1872                           0                        0   \n",
              "67999                          0                        0   \n",
              "41155                          0                        0   \n",
              "63142                          0                        0   \n",
              "\n",
              "       area_Thành phố Thủ Dầu Một  area_Thành phố Thủ Đức  \\\n",
              "34084                           0                       0   \n",
              "1872                            0                       0   \n",
              "67999                           0                       0   \n",
              "41155                           0                       0   \n",
              "63142                           0                       0   \n",
              "\n",
              "       area_Thị xã Bến Cát  area_Thị xã Tân Uyên  region_Hồ Chí Minh  \\\n",
              "34084                    0                     0                   1   \n",
              "1872                     0                     0                   0   \n",
              "67999                    0                     0                   1   \n",
              "41155                    0                     0                   1   \n",
              "63142                    0                     0                   1   \n",
              "\n",
              "       region_Đồng Nai  property_legal_document_Đang chờ sổ  \\\n",
              "34084                0                                    0   \n",
              "1872                 1                                    0   \n",
              "67999                0                                    0   \n",
              "41155                0                                    0   \n",
              "63142                0                                    0   \n",
              "\n",
              "       property_legal_document_Đã có sổ  rooms_1  rooms_10  rooms_2  rooms_3  \\\n",
              "34084                                 1        0         0        0        0   \n",
              "1872                                  0        0         0        1        0   \n",
              "67999                                 1        0         0        0        1   \n",
              "41155                                 1        0         0        1        0   \n",
              "63142                                 1        0         0        1        0   \n",
              "\n",
              "       rooms_4  rooms_5  rooms_6  rooms_7  rooms_8  rooms_9  \\\n",
              "34084        1        0        0        0        0        0   \n",
              "1872         0        0        0        0        0        0   \n",
              "67999        0        0        0        0        0        0   \n",
              "41155        0        0        0        0        0        0   \n",
              "63142        0        0        0        0        0        0   \n",
              "\n",
              "       rooms_Nhiều hơn 10  toilets_1  toilets_2  toilets_3  toilets_4  \\\n",
              "34084                   0          0          0          1          0   \n",
              "1872                    0          1          0          0          0   \n",
              "67999                   0          0          0          1          0   \n",
              "41155                   0          0          0          1          0   \n",
              "63142                   0          1          0          0          0   \n",
              "\n",
              "       toilets_5  toilets_6  toilets_Nhiều hơn 6  floors_1  floors_10  \\\n",
              "34084          0          0                    0         0          0   \n",
              "1872           0          0                    0         0          0   \n",
              "67999          0          0                    0         0          0   \n",
              "41155          0          0                    0         0          0   \n",
              "63142          0          0                    0         0          0   \n",
              "\n",
              "       floors_2  floors_3  floors_4  floors_5  floors_6  floors_7  floors_8  \\\n",
              "34084         0         0         0         0         0         0         0   \n",
              "1872          0         0         0         0         0         0         0   \n",
              "67999         0         0         0         0         0         0         0   \n",
              "41155         0         0         0         0         0         0         0   \n",
              "63142         0         0         0         0         0         0         0   \n",
              "\n",
              "       floors_9  floors_Nhiều hơn 10  type_real_estate_Khác  \\\n",
              "34084         0                    1                      0   \n",
              "1872          0                    1                      0   \n",
              "67999         0                    1                      0   \n",
              "41155         0                    1                      0   \n",
              "63142         0                    1                      0   \n",
              "\n",
              "       type_real_estate_Nhà ở  type_real_estate_Đất  size (m2)_2  width (m)_2  \\\n",
              "34084                       1                     0       1600.0      25.0000   \n",
              "1872                        1                     0       5184.0      25.0000   \n",
              "67999                       1                     0       3364.0      16.0000   \n",
              "41155                       1                     0       7744.0      11.7649   \n",
              "63142                       1                     0       5184.0      25.0000   \n",
              "\n",
              "       front_road_2  size (m2)_3  width (m)_3  front_road_3  size (m2)_4  \\\n",
              "34084          64.0      64000.0   125.000000         512.0    2560000.0   \n",
              "1872           64.0     373248.0   125.000000         512.0   26873856.0   \n",
              "67999          64.0     195112.0    64.000000         512.0   11316496.0   \n",
              "41155          64.0     681472.0    40.353607         512.0   59969536.0   \n",
              "63142          64.0     373248.0   125.000000         512.0   26873856.0   \n",
              "\n",
              "       width (m)_4  front_road_4  \n",
              "34084   625.000000        4096.0  \n",
              "1872    625.000000        4096.0  \n",
              "67999   256.000000        4096.0  \n",
              "41155   138.412872        4096.0  \n",
              "63142   625.000000        4096.0  "
            ]
          },
          "metadata": {},
          "execution_count": 289
        }
      ]
    },
    {
      "cell_type": "code",
      "metadata": {
        "colab": {
          "base_uri": "https://localhost:8080/"
        },
        "id": "3hAu0GYLHo3r",
        "outputId": "57a384bf-525f-4bb3-fe72-d02bc82bfa8c"
      },
      "source": [
        "X_test.shape"
      ],
      "execution_count": 290,
      "outputs": [
        {
          "output_type": "execute_result",
          "data": {
            "text/plain": [
              "(19137, 93)"
            ]
          },
          "metadata": {},
          "execution_count": 290
        }
      ]
    },
    {
      "cell_type": "code",
      "metadata": {
        "colab": {
          "base_uri": "https://localhost:8080/"
        },
        "id": "YMVqLwHqJutU",
        "outputId": "9257f79b-d0fa-424b-a691-58bca56581f7"
      },
      "source": [
        "from sklearn.linear_model import LinearRegression\n",
        "\n",
        "poly_model = LinearRegression()\n",
        "poly_model.fit(X_train, y_train)"
      ],
      "execution_count": 291,
      "outputs": [
        {
          "output_type": "execute_result",
          "data": {
            "text/plain": [
              "LinearRegression()"
            ]
          },
          "metadata": {},
          "execution_count": 291
        }
      ]
    },
    {
      "cell_type": "code",
      "metadata": {
        "id": "geVS8gFKYksH"
      },
      "source": [
        "import pickle\n",
        "\n",
        "model_filename = '/content/drive/MyDrive/Colab/PhanTichVaTrucQuanDuLieu_DS105.M11/poly_model.pkl'"
      ],
      "execution_count": 292,
      "outputs": []
    },
    {
      "cell_type": "code",
      "metadata": {
        "id": "kOumIK4iZNv3"
      },
      "source": [
        "with open(model_filename, 'wb') as file:  \n",
        "    pickle.dump(poly_model, file)"
      ],
      "execution_count": 293,
      "outputs": []
    },
    {
      "cell_type": "code",
      "metadata": {
        "id": "okVxSGTmZM0W"
      },
      "source": [
        "with open(model_filename, 'rb') as file:  \n",
        "    poly_model = pickle.load(file)"
      ],
      "execution_count": 294,
      "outputs": []
    },
    {
      "cell_type": "code",
      "metadata": {
        "id": "NIQ0KulkNf4y"
      },
      "source": [
        "y_pred = poly_model.predict(X_test)\n",
        "r2, mse, rmse, mae = evaluate_model(y_test, y_pred)"
      ],
      "execution_count": 295,
      "outputs": []
    },
    {
      "cell_type": "code",
      "metadata": {
        "colab": {
          "base_uri": "https://localhost:8080/"
        },
        "id": "EHxREbh1H8G8",
        "outputId": "979af959-234f-4953-d3fa-489ad9729e6b"
      },
      "source": [
        "print('R2 score:', r2)\n",
        "print('Mean Square Error (MSE):', mse)\n",
        "print('Root Mean Square Error (RMSE):', rmse)\n",
        "print('Mean Absolute Error (MAE):', mae)"
      ],
      "execution_count": 296,
      "outputs": [
        {
          "output_type": "stream",
          "name": "stdout",
          "text": [
            "R2 score: 0.685111332769617\n",
            "Mean Square Error (MSE): 40.04679432899921\n",
            "Root Mean Square Error (RMSE): 6.328253655551364\n",
            "Mean Absolute Error (MAE): 3.8973117085307423\n"
          ]
        }
      ]
    },
    {
      "cell_type": "code",
      "metadata": {
        "colab": {
          "base_uri": "https://localhost:8080/"
        },
        "id": "YVmhRwbeSPVb",
        "outputId": "57fccc89-9b70-41cc-d42f-925088b1e2f8"
      },
      "source": [
        "print('Actual \\t Predict')\n",
        "for i, (true, pred) in enumerate(zip(y_test, y_pred)):\n",
        "    print(true, '\\t', pred)\n",
        "    if i > 20:\n",
        "        break"
      ],
      "execution_count": 297,
      "outputs": [
        {
          "output_type": "stream",
          "name": "stdout",
          "text": [
            "Actual \t Predict\n",
            "[3.8] \t [1.46679338]\n",
            "[1.7] \t [2.64550774]\n",
            "[6.4] \t [7.89475291]\n",
            "[1.75] \t [5.63905158]\n",
            "[5.] \t [9.23133762]\n",
            "[6.7] \t [6.65352718]\n",
            "[3.4] \t [16.4587484]\n",
            "[4.5] \t [8.6513605]\n",
            "[45.] \t [33.09100365]\n",
            "[6.2] \t [7.43327474]\n",
            "[7.3] \t [3.47238309]\n",
            "[9.6] \t [10.89230177]\n",
            "[7.6] \t [7.33381249]\n",
            "[7.2] \t [8.96361656]\n",
            "[7.6] \t [11.85068125]\n",
            "[10.9] \t [13.04615988]\n",
            "[26.] \t [24.0140075]\n",
            "[0.55] \t [0.75452252]\n",
            "[3.85] \t [4.20743356]\n",
            "[7.2] \t [9.83795566]\n",
            "[1.1] \t [5.0251535]\n",
            "[2.4] \t [8.28433703]\n"
          ]
        }
      ]
    },
    {
      "cell_type": "code",
      "metadata": {
        "colab": {
          "base_uri": "https://localhost:8080/",
          "height": 638
        },
        "id": "rBLEVYLjTYet",
        "outputId": "485bff22-fa4b-4bc5-b311-7dd9db562fde"
      },
      "source": [
        "import matplotlib.pyplot as plt\n",
        "import seaborn as sns\n",
        "\n",
        "sns.set_style('whitegrid')\n",
        "plt.figure(figsize=(10, 10))\n",
        "ax = sns.distplot(df1['price (billion)'], hist=False, color='r', label=\"Actual Value\")\n",
        "sns.distplot(y_pred, hist=False, color='b', label=\"Fitted Values\", ax=ax)\n",
        "plt.legend()\n",
        "plt.title(\"Distribution plot\")"
      ],
      "execution_count": 298,
      "outputs": [
        {
          "output_type": "execute_result",
          "data": {
            "text/plain": [
              "<Figure size 720x720 with 0 Axes>"
            ]
          },
          "metadata": {},
          "execution_count": 298
        },
        {
          "output_type": "execute_result",
          "data": {
            "text/plain": [
              "<matplotlib.axes._subplots.AxesSubplot at 0x7fe99265b1d0>"
            ]
          },
          "metadata": {},
          "execution_count": 298
        },
        {
          "output_type": "execute_result",
          "data": {
            "text/plain": [
              "<matplotlib.legend.Legend at 0x7fe99296fed0>"
            ]
          },
          "metadata": {},
          "execution_count": 298
        },
        {
          "output_type": "execute_result",
          "data": {
            "text/plain": [
              "Text(0.5, 1.0, 'Distribution plot')"
            ]
          },
          "metadata": {},
          "execution_count": 298
        },
        {
          "output_type": "display_data",
          "data": {
            "image/png": "[encoded data removed]",
            "text/plain": [
              "<Figure size 720x720 with 1 Axes>"
            ]
          },
          "metadata": {}
        }
      ]
    },
    {
      "cell_type": "markdown",
      "metadata": {
        "id": "Nrsmt_PQ_pUE"
      },
      "source": [
        "## **Random Forest**"
      ]
    },
    {
      "cell_type": "code",
      "metadata": {
        "id": "1N6vPotCIe8j"
      },
      "source": [
        "df3 = df.copy()\n",
        "\n",
        "for column in df.columns:\n",
        "    if df3[column].dtype == float:\n",
        "        df3 = df3[df3[column] <= df3[column].quantile(0.98)]\n",
        "\n",
        "y_data = df3['price (billion)']\n",
        "X_data = df3.drop(columns=['list_time', 'ward',  'type_details', 'direction', 'living_size (m2)', 'length (m)', 'website', 'price (billion)'])\n",
        "\n",
        "# X_data = pd.get_dummies(X_data, drop_first=True)"
      ],
      "execution_count": 321,
      "outputs": []
    },
    {
      "cell_type": "code",
      "metadata": {
        "id": "l3SRUccGLwoS"
      },
      "source": [
        "from sklearn.model_selection import train_test_split\n",
        "\n",
        "X_train, X_test, y_train, y_test = train_test_split(X_data, y_data, test_size=0.1, random_state=42)"
      ],
      "execution_count": 319,
      "outputs": []
    },
    {
      "cell_type": "code",
      "metadata": {
        "colab": {
          "base_uri": "https://localhost:8080/"
        },
        "id": "2v1HVsoobVLM",
        "outputId": "0f3537cf-de2a-4dd2-8da0-fd2477c08142"
      },
      "source": [
        "X_test.columns"
      ],
      "execution_count": 357,
      "outputs": [
        {
          "output_type": "execute_result",
          "data": {
            "text/plain": [
              "Index(['size (m2)', 'width (m)', 'front_road', 'year', 'month',\n",
              "       'area_Huyện Bình Chánh', 'area_Huyện Bắc Tân Uyên',\n",
              "       'area_Huyện Cần Giờ', 'area_Huyện Cẩm Mỹ', 'area_Huyện Củ Chi',\n",
              "       'area_Huyện Dầu Tiếng', 'area_Huyện Hóc Môn', 'area_Huyện Long Thành',\n",
              "       'area_Huyện Nhà Bè', 'area_Huyện Nhơn Trạch', 'area_Huyện Phú Giáo',\n",
              "       'area_Huyện Thống Nhất', 'area_Huyện Trảng Bom', 'area_Huyện Tân Phú',\n",
              "       'area_Huyện Vĩnh Cửu', 'area_Huyện Xuân Lộc', 'area_Huyện Định Quán',\n",
              "       'area_Quận 1', 'area_Quận 10', 'area_Quận 11', 'area_Quận 12',\n",
              "       'area_Quận 2', 'area_Quận 3', 'area_Quận 4', 'area_Quận 5',\n",
              "       'area_Quận 6', 'area_Quận 7', 'area_Quận 8', 'area_Quận 9',\n",
              "       'area_Quận Bình Thạnh', 'area_Quận Bình Tân', 'area_Quận Gò Vấp',\n",
              "       'area_Quận Phú Nhuận', 'area_Quận Tân Bình', 'area_Quận Tân Phú',\n",
              "       'area_Thành phố Biên Hòa', 'area_Thành phố Dĩ An',\n",
              "       'area_Thành phố Long Khánh', 'area_Thành phố Thuận An',\n",
              "       'area_Thành phố Thủ Dầu Một', 'area_Thành phố Thủ Đức',\n",
              "       'area_Thị xã Bến Cát', 'area_Thị xã Tân Uyên', 'region_Hồ Chí Minh',\n",
              "       'region_Đồng Nai', 'property_legal_document_Đang chờ sổ',\n",
              "       'property_legal_document_Đã có sổ', 'rooms_1', 'rooms_10', 'rooms_2',\n",
              "       'rooms_3', 'rooms_4', 'rooms_5', 'rooms_6', 'rooms_7', 'rooms_8',\n",
              "       'rooms_9', 'rooms_Nhiều hơn 10', 'toilets_1', 'toilets_2', 'toilets_3',\n",
              "       'toilets_4', 'toilets_5', 'toilets_6', 'toilets_Nhiều hơn 6',\n",
              "       'floors_1', 'floors_10', 'floors_2', 'floors_3', 'floors_4', 'floors_5',\n",
              "       'floors_6', 'floors_7', 'floors_8', 'floors_9', 'floors_Nhiều hơn 10',\n",
              "       'type_real_estate_Khác', 'type_real_estate_Nhà ở',\n",
              "       'type_real_estate_Đất'],\n",
              "      dtype='object')"
            ]
          },
          "metadata": {},
          "execution_count": 357
        }
      ]
    },
    {
      "cell_type": "code",
      "metadata": {
        "id": "z5Ypn6ThLzQA"
      },
      "source": [
        "y_train = np.array(y_train).reshape(-1, 1)\n",
        "y_test = np.array(y_test).reshape(-1, 1)"
      ],
      "execution_count": 302,
      "outputs": []
    },
    {
      "cell_type": "code",
      "metadata": {
        "colab": {
          "base_uri": "https://localhost:8080/"
        },
        "id": "NBsNRu4FgjFy",
        "outputId": "b82f9470-bedd-4471-e340-830b9baddab4"
      },
      "source": [
        "from sklearn.ensemble import RandomForestRegressor\n",
        "\n",
        "rf_model = RandomForestRegressor()\n",
        "rf_model.fit(X_train, y_train)"
      ],
      "execution_count": 303,
      "outputs": [
        {
          "output_type": "execute_result",
          "data": {
            "text/plain": [
              "RandomForestRegressor()"
            ]
          },
          "metadata": {},
          "execution_count": 303
        }
      ]
    },
    {
      "cell_type": "code",
      "metadata": {
        "id": "Ww4iH8MvYR5n"
      },
      "source": [
        "import pickle\n",
        "\n",
        "model_filename = '/content/drive/MyDrive/Colab/PhanTichVaTrucQuanDuLieu_DS105.M11/rf_model.pkl'"
      ],
      "execution_count": 311,
      "outputs": []
    },
    {
      "cell_type": "code",
      "metadata": {
        "id": "ZDtxbQzaYYmP"
      },
      "source": [
        "with open(model_filename, 'wb') as file:  \n",
        "    pickle.dump(rf_model, file)"
      ],
      "execution_count": 312,
      "outputs": []
    },
    {
      "cell_type": "code",
      "metadata": {
        "id": "m80IjE0AYZ2-"
      },
      "source": [
        "with open(model_filename, 'rb') as file:  \n",
        "    rf_model = pickle.load(file)"
      ],
      "execution_count": 313,
      "outputs": []
    },
    {
      "cell_type": "code",
      "metadata": {
        "id": "4DoVNDrQgwyC"
      },
      "source": [
        "y_pred = rf_model.predict(X_test)\n",
        "r2, mse, rmse, mae = evaluate_model(y_test, y_pred)"
      ],
      "execution_count": 314,
      "outputs": []
    },
    {
      "cell_type": "code",
      "metadata": {
        "colab": {
          "base_uri": "https://localhost:8080/"
        },
        "id": "94rW4Z36gxLn",
        "outputId": "0bc0438d-8a19-4ec5-91b4-f20390fd221c"
      },
      "source": [
        "print('R2 score:', r2)\n",
        "print('Mean Square Error (MSE):', mse)\n",
        "print('Root Mean Square Error (RMSE):', rmse)\n",
        "print('Mean Absolute Error (MAE):', mae)"
      ],
      "execution_count": 315,
      "outputs": [
        {
          "output_type": "stream",
          "name": "stdout",
          "text": [
            "R2 score: 0.8438847810165002\n",
            "Mean Square Error (MSE): 19.854363515993995\n",
            "Root Mean Square Error (RMSE): 4.455823550814596\n",
            "Mean Absolute Error (MAE): 2.1177607170099746\n"
          ]
        }
      ]
    },
    {
      "cell_type": "code",
      "metadata": {
        "colab": {
          "base_uri": "https://localhost:8080/"
        },
        "id": "1RDYS7ZIhMRb",
        "outputId": "cfdaeac0-259b-46ea-b8ce-d61632534a4a"
      },
      "source": [
        "print('Actual \\t Predict')\n",
        "for i, (true, pred) in enumerate(zip(y_test, y_pred)):\n",
        "    print(true, '\\t', pred)\n",
        "    if i > 20:\n",
        "        break"
      ],
      "execution_count": 316,
      "outputs": [
        {
          "output_type": "stream",
          "name": "stdout",
          "text": [
            "Actual \t Predict\n",
            "[3.8] \t 3.364397499999999\n",
            "[1.7] \t 1.5564211624649864\n",
            "[6.4] \t 7.388841666666659\n",
            "[1.75] \t 1.8742\n",
            "[5.] \t 6.124499999999997\n",
            "[6.7] \t 5.796126666666667\n",
            "[3.4] \t 3.8467399999999983\n",
            "[4.5] \t 6.763300000000002\n",
            "[45.] \t 46.12466666666667\n",
            "[6.2] \t 6.419365714285715\n",
            "[7.3] \t 6.5306933333333355\n",
            "[9.6] \t 8.09826666666667\n",
            "[7.6] \t 6.249333333333334\n",
            "[7.2] \t 8.365293650793655\n",
            "[7.6] \t 7.320000000000002\n",
            "[10.9] \t 13.225316666666671\n",
            "[26.] \t 22.319000000000003\n",
            "[0.55] \t 0.9168426190476187\n",
            "[3.85] \t 3.5925100000000008\n",
            "[7.2] \t 6.222049999999999\n",
            "[1.1] \t 1.8737077873015868\n",
            "[2.4] \t 4.400071051200374\n"
          ]
        }
      ]
    },
    {
      "cell_type": "code",
      "metadata": {
        "colab": {
          "base_uri": "https://localhost:8080/",
          "height": 638
        },
        "id": "mWAKpP0yTuRn",
        "outputId": "52d861c5-41b7-4756-a60d-b455cab13fb5"
      },
      "source": [
        "import matplotlib.pyplot as plt\n",
        "import seaborn as sns\n",
        "\n",
        "sns.set_style('whitegrid')\n",
        "plt.figure(figsize=(10, 10))\n",
        "ax = sns.distplot(df1['price (billion)'], hist=False, color='r', label=\"Actual Value\")\n",
        "sns.distplot(y_pred, hist=False, color='b', label=\"Fitted Values\", ax=ax)\n",
        "plt.legend()\n",
        "plt.title(\"Distribution plot\")"
      ],
      "execution_count": 317,
      "outputs": [
        {
          "output_type": "execute_result",
          "data": {
            "text/plain": [
              "<Figure size 720x720 with 0 Axes>"
            ]
          },
          "metadata": {},
          "execution_count": 317
        },
        {
          "output_type": "execute_result",
          "data": {
            "text/plain": [
              "<matplotlib.axes._subplots.AxesSubplot at 0x7fe993415450>"
            ]
          },
          "metadata": {},
          "execution_count": 317
        },
        {
          "output_type": "execute_result",
          "data": {
            "text/plain": [
              "<matplotlib.legend.Legend at 0x7fe9934158d0>"
            ]
          },
          "metadata": {},
          "execution_count": 317
        },
        {
          "output_type": "execute_result",
          "data": {
            "text/plain": [
              "Text(0.5, 1.0, 'Distribution plot')"
            ]
          },
          "metadata": {},
          "execution_count": 317
        },
        {
          "output_type": "display_data",
          "data": {
            "image/png": "[encoded data removed]",
            "text/plain": [
              "<Figure size 720x720 with 1 Axes>"
            ]
          },
          "metadata": {}
        }
      ]
    },
    {
      "cell_type": "markdown",
      "metadata": {
        "id": "tPJOwEln_r-j"
      },
      "source": [
        "## **KNN**"
      ]
    },
    {
      "cell_type": "code",
      "metadata": {
        "id": "eati26U-fGGb"
      },
      "source": [
        "df4 = df.copy()\n",
        "\n",
        "for column in df.columns:\n",
        "    if df4[column].dtype == float:\n",
        "        df4 = df4[df4[column] <= df4[column].quantile(0.98)]\n",
        "\n",
        "y_data = df4['price (billion)']\n",
        "X_data = df4.drop(columns=['list_time', 'ward',  'type_details', 'direction', 'living_size (m2)', 'length (m)', 'website', 'price (billion)'])\n",
        "\n",
        "X_data = pd.get_dummies(X_data, drop_first=True)"
      ],
      "execution_count": 10,
      "outputs": []
    },
    {
      "cell_type": "code",
      "metadata": {
        "id": "_QQ6uJnSOm-G"
      },
      "source": [
        "from sklearn.model_selection import train_test_split\n",
        "\n",
        "X_train, X_test, y_train, y_test = train_test_split(X_data, y_data, test_size=0.1, random_state=42)"
      ],
      "execution_count": 11,
      "outputs": []
    },
    {
      "cell_type": "code",
      "metadata": {
        "id": "7SxCSjcROqdP"
      },
      "source": [
        "y_train = np.array(y_train).reshape(-1, 1)\n",
        "y_test = np.array(y_test).reshape(-1, 1)"
      ],
      "execution_count": 12,
      "outputs": []
    },
    {
      "cell_type": "code",
      "metadata": {
        "colab": {
          "base_uri": "https://localhost:8080/"
        },
        "id": "OgM0tIMegR46",
        "outputId": "360b431f-f3a7-49fc-8b5d-658774e7a0fb"
      },
      "source": [
        "from sklearn.neighbors import KNeighborsRegressor\n",
        "\n",
        "knn_model = KNeighborsRegressor(n_neighbors=9, weights='distance', metric='manhattan')\n",
        "knn_model.fit(X_train, y_train)"
      ],
      "execution_count": 13,
      "outputs": [
        {
          "output_type": "execute_result",
          "data": {
            "text/plain": [
              "KNeighborsRegressor(metric='manhattan', n_neighbors=9, weights='distance')"
            ]
          },
          "metadata": {},
          "execution_count": 13
        }
      ]
    },
    {
      "cell_type": "code",
      "metadata": {
        "id": "6RJJV1oNXYJ_"
      },
      "source": [
        "import pickle\n",
        "\n",
        "model_filename = '/content/drive/MyDrive/Colab/PhanTichVaTrucQuanDuLieu_DS105.M11/knn_model.pkl'"
      ],
      "execution_count": 20,
      "outputs": []
    },
    {
      "cell_type": "code",
      "metadata": {
        "id": "5qR49MFOYMXv"
      },
      "source": [
        "with open(model_filename, 'wb') as file:  \n",
        "    pickle.dump(knn_model, file)"
      ],
      "execution_count": 21,
      "outputs": []
    },
    {
      "cell_type": "code",
      "metadata": {
        "id": "lv3Dr9iOYJ13"
      },
      "source": [
        "with open(model_filename, 'rb') as file:  \n",
        "    knn_model = pickle.load(file)"
      ],
      "execution_count": 22,
      "outputs": []
    },
    {
      "cell_type": "code",
      "metadata": {
        "id": "CKer45O-gcjb"
      },
      "source": [
        "y_pred = knn_model.predict(X_test)\n",
        "r2, mse, rmse, mae = evaluate_model(y_test, y_pred)"
      ],
      "execution_count": null,
      "outputs": []
    },
    {
      "cell_type": "code",
      "metadata": {
        "id": "IS8cEteaAINo"
      },
      "source": [
        "r2, mse, rmse, mae = evaluate_model(y_test, y_pred)"
      ],
      "execution_count": 16,
      "outputs": []
    },
    {
      "cell_type": "code",
      "metadata": {
        "colab": {
          "base_uri": "https://localhost:8080/"
        },
        "id": "paGBFGfrgd_6",
        "outputId": "f10d253f-cdc1-402c-beae-9bb629f11bd8"
      },
      "source": [
        "print('R2 score:', r2)\n",
        "print('Mean Square Error (MSE):', mse)\n",
        "print('Root Mean Square Error (RMSE):', rmse)\n",
        "print('Mean Absolute Error (MAE):', mae)"
      ],
      "execution_count": 17,
      "outputs": [
        {
          "output_type": "stream",
          "name": "stdout",
          "text": [
            "R2 score: 0.7140767920562558\n",
            "Mean Square Error (MSE): 36.36303587271805\n",
            "Root Mean Square Error (RMSE): 6.030177101273067\n",
            "Mean Absolute Error (MAE): 2.7814710841361134\n"
          ]
        }
      ]
    },
    {
      "cell_type": "code",
      "metadata": {
        "colab": {
          "base_uri": "https://localhost:8080/"
        },
        "id": "O1RcwkaehJOS",
        "outputId": "ea24b90f-938d-43ea-efb6-66bd55ce225e"
      },
      "source": [
        "print('Actual \\t Predict')\n",
        "for i, (true, pred) in enumerate(zip(y_test, y_pred)):\n",
        "    print(true, '\\t', pred)\n",
        "    if i > 20:\n",
        "        break"
      ],
      "execution_count": 258,
      "outputs": [
        {
          "output_type": "stream",
          "name": "stdout",
          "text": [
            "Actual \t Predict\n",
            "[3.8] \t [6.61]\n",
            "[1.7] \t [1.858]\n",
            "[6.4] \t [6.61]\n",
            "[1.75] \t [1.868]\n",
            "[5.] \t [6.08]\n",
            "[6.7] \t [6.59]\n",
            "[3.4] \t [3.308]\n",
            "[4.5] \t [10.72]\n",
            "[45.] \t [45.6]\n",
            "[6.2] \t [5.79]\n",
            "[7.3] \t [7.12]\n",
            "[9.6] \t [6.97]\n",
            "[7.6] \t [7.12]\n",
            "[7.2] \t [7.62]\n",
            "[7.6] \t [7.36]\n",
            "[10.9] \t [12.26]\n",
            "[26.] \t [13.82]\n",
            "[0.55] \t [1.002]\n",
            "[3.85] \t [4.07]\n",
            "[7.2] \t [5.19]\n",
            "[1.1] \t [3.11372]\n",
            "[2.4] \t [4.16]\n"
          ]
        }
      ]
    },
    {
      "cell_type": "code",
      "metadata": {
        "colab": {
          "base_uri": "https://localhost:8080/",
          "height": 638
        },
        "id": "1rS_3BsAT0ja",
        "outputId": "0b20342e-452f-4cc1-ded3-fca57d3981ad"
      },
      "source": [
        "import matplotlib.pyplot as plt\n",
        "import seaborn as sns\n",
        "\n",
        "sns.set_style('whitegrid')\n",
        "plt.figure(figsize=(10, 10))\n",
        "ax = sns.distplot(df4['price (billion)'], hist=False, color='r', label=\"Actual Value\")\n",
        "sns.distplot(y_pred, hist=False, color='b', label=\"Fitted Values\", ax=ax)\n",
        "plt.legend()\n",
        "plt.title(\"Distribution plot\")"
      ],
      "execution_count": 19,
      "outputs": [
        {
          "output_type": "execute_result",
          "data": {
            "text/plain": [
              "<Figure size 720x720 with 0 Axes>"
            ]
          },
          "metadata": {},
          "execution_count": 19
        },
        {
          "output_type": "execute_result",
          "data": {
            "text/plain": [
              "<matplotlib.axes._subplots.AxesSubplot at 0x7ff39089aed0>"
            ]
          },
          "metadata": {},
          "execution_count": 19
        },
        {
          "output_type": "execute_result",
          "data": {
            "text/plain": [
              "<matplotlib.legend.Legend at 0x7ff3a5592c90>"
            ]
          },
          "metadata": {},
          "execution_count": 19
        },
        {
          "output_type": "execute_result",
          "data": {
            "text/plain": [
              "Text(0.5, 1.0, 'Distribution plot')"
            ]
          },
          "metadata": {},
          "execution_count": 19
        },
        {
          "output_type": "display_data",
          "data": {
            "image/png": "[encoded data removed]",
            "text/plain": [
              "<Figure size 720x720 with 1 Axes>"
            ]
          },
          "metadata": {}
        }
      ]
    },
    {
      "cell_type": "code",
      "metadata": {
        "id": "dZjqW-TNi3kI"
      },
      "source": [
        "def load_model(file_name):\n",
        "    with open(model_filename, 'rb') as file:  \n",
        "        model = pickle.load(file)\n",
        "    return model\n",
        "\n",
        "def predict_input(area, region, property_legal_document, size, rooms, toilets, floors, width, front_road, type_real_estate, year, month):\n",
        "    type_real_estate = \"type_real_estate_\" + type_real_estate\n",
        "    area = \"area_\" + area\n",
        "    property_legal_document = 'property_legal_document_' + property_legal_document\n",
        "    rooms = \"rooms_\"+ rooms\n",
        "    toilets = \"toilets_\"+ toilets\n",
        "    floors = \"floors_\"+ floors\n",
        "\n",
        "    feature_name = ['size', 'width', 'front_road', 'year', 'month',\n",
        "                    'area_Huyện Bình Chánh', 'area_Huyện Bắc Tân Uyên',\n",
        "                    'area_Huyện Cần Giờ', 'area_Huyện Cẩm Mỹ', 'area_Huyện Củ Chi',\n",
        "                    'area_Huyện Dầu Tiếng', 'area_Huyện Hóc Môn', 'area_Huyện Long Thành',\n",
        "                    'area_Huyện Nhà Bè', 'area_Huyện Nhơn Trạch', 'area_Huyện Phú Giáo',\n",
        "                    'area_Huyện Thống Nhất', 'area_Huyện Trảng Bom', 'area_Huyện Tân Phú',\n",
        "                    'area_Huyện Vĩnh Cửu', 'area_Huyện Xuân Lộc', 'area_Huyện Định Quán',\n",
        "                    'area_Quận 1', 'area_Quận 10', 'area_Quận 11', 'area_Quận 12',\n",
        "                    'area_Quận 2', 'area_Quận 3', 'area_Quận 4', 'area_Quận 5',\n",
        "                    'area_Quận 6', 'area_Quận 7', 'area_Quận 8', 'area_Quận 9',\n",
        "                    'area_Quận Bình Thạnh', 'area_Quận Bình Tân', 'area_Quận Gò Vấp',\n",
        "                    'area_Quận Phú Nhuận', 'area_Quận Tân Bình', 'area_Quận Tân Phú',\n",
        "                    'area_Thành phố Biên Hòa', 'area_Thành phố Dĩ An',\n",
        "                    'area_Thành phố Long Khánh', 'area_Thành phố Thuận An',\n",
        "                    'area_Thành phố Thủ Dầu Một', 'area_Thành phố Thủ Đức',\n",
        "                    'area_Thị xã Bến Cát', 'area_Thị xã Tân Uyên', 'region_Hồ Chí Minh',\n",
        "                    'region_Đồng Nai', 'property_legal_document_Đang chờ sổ',\n",
        "                    'property_legal_document_Đã có sổ', 'rooms_1', 'rooms_10', 'rooms_2',\n",
        "                    'rooms_3', 'rooms_4', 'rooms_5', 'rooms_6', 'rooms_7', 'rooms_8',\n",
        "                    'rooms_9', 'rooms_Nhiều hơn 10', 'toilets_1', 'toilets_2', 'toilets_3',\n",
        "                    'toilets_4', 'toilets_5', 'toilets_6', 'toilets_Nhiều hơn 6',\n",
        "                    'floors_1', 'floors_10', 'floors_2', 'floors_3', 'floors_4', 'floors_5',\n",
        "                    'floors_6', 'floors_7', 'floors_8', 'floors_9', 'floors_Nhiều hơn 10',\n",
        "                    'type_real_estate_Khác', 'type_real_estate_Nhà ở',\n",
        "                    'type_real_estate_Đất']\n",
        "\n",
        "    df = pd.DataFrame(columns=feature_name)\n",
        "    df.at[0, :] = 0\n",
        "\n",
        "    if type_real_estate in df.columns:\n",
        "        df[type_real_estate] = 1\n",
        "    if area in df.columns:\n",
        "        df[area] = 1\n",
        "    if rooms in df.columns:\n",
        "        df[rooms] = 1\n",
        "    if toilets in df.columns:\n",
        "        df[toilets] = 1\n",
        "    if property_legal_document in df.columns:\n",
        "        df[property_legal_document] = 1\n",
        "    if floors in df.columns:\n",
        "        df[floors] = 1\n",
        "\n",
        "    df['width'] = width_m\n",
        "    df['size'] = size\n",
        "    df['front_road'] = front_road\n",
        "    df['year'] = year\n",
        "    df['month'] = month\n",
        "\n",
        "    model = load_model('/content/drive/MyDrive/Colab/PhanTichVaTrucQuanDuLieu_DS105.M11/rf_model.pkl')\n",
        "\n",
        "    price_predict = round(model.predict(df)[0], 2)\n",
        "    print(f\"Giá dự đoán cho bất động sản là: {price_predict} tỷ đồng\")"
      ],
      "execution_count": 449,
      "outputs": []
    },
    {
      "cell_type": "markdown",
      "metadata": {
        "id": "8aYZ6iVAa5LM"
      },
      "source": [
        "# **Demo**"
      ]
    },
    {
      "cell_type": "code",
      "metadata": {
        "cellView": "form",
        "id": "oSlz0M6ibmB9"
      },
      "source": [
        "type_real_estate = \"Nh\\xE0 \\u1EDF\" #@param ['Căn hộ/Chung cư', 'Nhà ở', 'Đất', 'Khác']\n",
        "\n",
        "area = \"Huy\\u1EC7n V\\u0129nh C\\u1EEDu\" #@param [\"Thành phố Biên Hòa\", 'Huyện Nhơn Trạch', 'Huyện Long Thành', 'Huyện Vĩnh Cửu', 'Huyện Trảng Bom', 'Thành phố Long Khánh', 'Huyện Thống Nhất', 'Huyện Định Quán', 'Huyện Xuân Lộc', 'Huyện Cẩm Mỹ', 'Huyện Tân Phú', 'Thành phố Thuận An', 'Thành phố Dĩ An', 'Thị xã Tân Uyên', 'Thành phố Thủ Dầu Một', 'Thị xã Bến Cát', 'Huyện Bàu Bàng', 'Huyện Phú Giáo', 'Huyện Dầu Tiếng', 'Huyện Bắc Tân Uyên', 'Quận 9', 'Quận Bình Tân', 'Thành phố Thủ Đức', 'Quận Bình Thạnh', 'Quận 12', 'Quận Tân Phú', 'Quận 7', 'Huyện Nhà Bè', 'Quận Phú Nhuận', 'Quận 8', 'Quận 2', 'Quận Tân Bình', 'Quận 6', 'Quận 10', 'Quận 3', 'Quận Gò Vấp', 'Huyện Bình Chánh', 'Quận 4', 'Quận 5', 'Quận 1', 'Huyện Hóc Môn', 'Quận 11', 'Huyện Củ Chi', 'Huyện Cần Giờ']\n",
        "\n",
        "region = \"\\u0110\\u1ED3ng Nai\" #@param [\"Đồng Nai\", \"Bình Dương\", \"Hồ Chí Minh\"]\n",
        "\n",
        "month =  2#@param {type:\"slider\", min:1, max:12}\n",
        "\n",
        "year =  2016#@param {type:\"slider\", min:2015, max:2025}\n",
        "\n",
        "property_legal_document = \"Gi\\u1EA5y t\\u1EDD kh\\xE1c\" #@param [\"Đang chờ sổ\", \"Đã có sổ\", \"Giấy tờ khác\"]\n",
        "\n",
        "rooms = \"1\" #@param ['0', '1', '2', '3', '4', '5', '6', '7', '8', '9', '10', 'Nhiều hơn 10']\n",
        "\n",
        "toilets = \"0\" #@param ['0', '1', '2', '3', '4', '5', '6', 'Nhiều hơn 6']\n",
        "\n",
        "floors = \"6\" #@param ['0', '1', '2', '3', '4', '5', '6', '7', '8', '9', '10', 'Nhiều hơn 10']\n",
        "\n",
        "width = 0.4 #@param {type:\"slider\", min:0, max:30, step:0.2}\n",
        "\n",
        "size = 26.5 #@param {type:\"slider\", min:1, max:2500, step:0.5}\n",
        "\n",
        "front_road = 0.4 #@param {type:\"slider\", min:0, max:30, step:0.2}\n",
        "\n"
      ],
      "execution_count": 467,
      "outputs": []
    },
    {
      "cell_type": "code",
      "metadata": {
        "colab": {
          "base_uri": "https://localhost:8080/"
        },
        "id": "_BVEPU1Cog48",
        "outputId": "5edcbac5-ff8e-4449-ca36-39b9250585cb"
      },
      "source": [
        "predict_input(area, region, property_legal_document, size, rooms, toilets, floors, width, front_road, type_real_estate, year, month)"
      ],
      "execution_count": 468,
      "outputs": [
        {
          "output_type": "stream",
          "name": "stdout",
          "text": [
            "Giá dự đoán cho bất động sản là: 1.68 tỷ đồng\n"
          ]
        }
      ]
    }
  ]
}