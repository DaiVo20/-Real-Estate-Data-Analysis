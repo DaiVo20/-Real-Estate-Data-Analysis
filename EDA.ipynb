{
 "cells": [
  {
   "cell_type": "code",
   "execution_count": 1,
   "metadata": {},
   "outputs": [],
   "source": [
    "from IPython.core.interactiveshell import InteractiveShell\n",
    "import numpy as np\n",
    "import pandas as pd\n",
    "import warnings\n",
    "import matplotlib.pyplot as plt\n",
    "import seaborn as sns\n",
    "import DataPreProcessor as DPP\n",
    "\n",
    "warnings.filterwarnings('ignore')\n",
    "InteractiveShell.ast_node_interactivity = \"all\"\n",
    "\n",
    "pd.set_option('display.max_rows', None)\n",
    "pd.set_option('display.max_columns', None)\n",
    "pd.set_option('display.width', None)\n",
    "pd.set_option('display.max_colwidth', None)\n",
    "pd.options.display.max_rows\n"
   ]
  },
  {
   "cell_type": "markdown",
   "metadata": {},
   "source": [
    "# 1. Load data\n"
   ]
  },
  {
   "cell_type": "code",
   "execution_count": 2,
   "metadata": {},
   "outputs": [],
   "source": [
    "chotot_df = pd.read_csv(\"chotot_cleaned.csv\")\n"
   ]
  },
  {
   "cell_type": "code",
   "execution_count": 3,
   "metadata": {},
   "outputs": [],
   "source": [
    "alonhadat_df = pd.read_csv(\"alonhadat.csv\")\n"
   ]
  },
  {
   "cell_type": "code",
   "execution_count": 4,
   "metadata": {},
   "outputs": [
    {
     "data": {
      "text/html": [
       "<div>\n",
       "<style scoped>\n",
       "    .dataframe tbody tr th:only-of-type {\n",
       "        vertical-align: middle;\n",
       "    }\n",
       "\n",
       "    .dataframe tbody tr th {\n",
       "        vertical-align: top;\n",
       "    }\n",
       "\n",
       "    .dataframe thead th {\n",
       "        text-align: right;\n",
       "    }\n",
       "</style>\n",
       "<table border=\"1\" class=\"dataframe\">\n",
       "  <thead>\n",
       "    <tr style=\"text-align: right;\">\n",
       "      <th></th>\n",
       "      <th>list_time</th>\n",
       "      <th>ward</th>\n",
       "      <th>area</th>\n",
       "      <th>region</th>\n",
       "      <th>property_status</th>\n",
       "      <th>direction</th>\n",
       "      <th>balconydirection</th>\n",
       "      <th>property_legal_document</th>\n",
       "      <th>size (m2)</th>\n",
       "      <th>floornumber</th>\n",
       "      <th>furnishing_sell</th>\n",
       "      <th>apartment_feature</th>\n",
       "      <th>rooms</th>\n",
       "      <th>toilets</th>\n",
       "      <th>floors</th>\n",
       "      <th>living_size (m2)</th>\n",
       "      <th>width (m)</th>\n",
       "      <th>length (m)</th>\n",
       "      <th>price (million)</th>\n",
       "      <th>type_real_estate</th>\n",
       "      <th>website</th>\n",
       "      <th>front_road</th>\n",
       "    </tr>\n",
       "  </thead>\n",
       "  <tbody>\n",
       "    <tr>\n",
       "      <th>0</th>\n",
       "      <td>05/11/2021</td>\n",
       "      <td>Phường Tam Hòa</td>\n",
       "      <td>Thành phố Biên Hòa</td>\n",
       "      <td>Đồng Nai</td>\n",
       "      <td>Đã bàn giao</td>\n",
       "      <td>NaN</td>\n",
       "      <td>NaN</td>\n",
       "      <td>Đang chờ sổ</td>\n",
       "      <td>70.0</td>\n",
       "      <td>NaN</td>\n",
       "      <td>NaN</td>\n",
       "      <td>NaN</td>\n",
       "      <td>2</td>\n",
       "      <td>2</td>\n",
       "      <td>Nhiều hơn 10</td>\n",
       "      <td>NaN</td>\n",
       "      <td>NaN</td>\n",
       "      <td>NaN</td>\n",
       "      <td>1150.0</td>\n",
       "      <td>Chung cư</td>\n",
       "      <td>Chotot</td>\n",
       "      <td>NaN</td>\n",
       "    </tr>\n",
       "    <tr>\n",
       "      <th>1</th>\n",
       "      <td>05/11/2021</td>\n",
       "      <td>Phường Thống Nhất</td>\n",
       "      <td>Thành phố Biên Hòa</td>\n",
       "      <td>Đồng Nai</td>\n",
       "      <td>Đã bàn giao</td>\n",
       "      <td>Bắc</td>\n",
       "      <td>Nam</td>\n",
       "      <td>Đã có sổ</td>\n",
       "      <td>48.0</td>\n",
       "      <td>NaN</td>\n",
       "      <td>Nội thất đầy đủ</td>\n",
       "      <td>NaN</td>\n",
       "      <td>1</td>\n",
       "      <td>1</td>\n",
       "      <td>Nhiều hơn 10</td>\n",
       "      <td>NaN</td>\n",
       "      <td>NaN</td>\n",
       "      <td>NaN</td>\n",
       "      <td>1550.0</td>\n",
       "      <td>Chung cư</td>\n",
       "      <td>Chotot</td>\n",
       "      <td>NaN</td>\n",
       "    </tr>\n",
       "    <tr>\n",
       "      <th>2</th>\n",
       "      <td>05/11/2021</td>\n",
       "      <td>Phường Hố Nai</td>\n",
       "      <td>Thành phố Biên Hòa</td>\n",
       "      <td>Đồng Nai</td>\n",
       "      <td>Chưa bàn giao</td>\n",
       "      <td>NaN</td>\n",
       "      <td>NaN</td>\n",
       "      <td>Giấy tờ khác</td>\n",
       "      <td>67.0</td>\n",
       "      <td>NaN</td>\n",
       "      <td>Hoàn thiện cơ bản</td>\n",
       "      <td>NaN</td>\n",
       "      <td>2</td>\n",
       "      <td>2</td>\n",
       "      <td>Nhiều hơn 10</td>\n",
       "      <td>NaN</td>\n",
       "      <td>NaN</td>\n",
       "      <td>NaN</td>\n",
       "      <td>360.0</td>\n",
       "      <td>Chung cư</td>\n",
       "      <td>Chotot</td>\n",
       "      <td>NaN</td>\n",
       "    </tr>\n",
       "  </tbody>\n",
       "</table>\n",
       "</div>"
      ],
      "text/plain": [
       "    list_time               ward                area    region  \\\n",
       "0  05/11/2021     Phường Tam Hòa  Thành phố Biên Hòa  Đồng Nai   \n",
       "1  05/11/2021  Phường Thống Nhất  Thành phố Biên Hòa  Đồng Nai   \n",
       "2  05/11/2021      Phường Hố Nai  Thành phố Biên Hòa  Đồng Nai   \n",
       "\n",
       "  property_status direction balconydirection property_legal_document  \\\n",
       "0     Đã bàn giao       NaN              NaN             Đang chờ sổ   \n",
       "1     Đã bàn giao       Bắc              Nam                Đã có sổ   \n",
       "2   Chưa bàn giao       NaN              NaN            Giấy tờ khác   \n",
       "\n",
       "   size (m2)  floornumber    furnishing_sell apartment_feature rooms toilets  \\\n",
       "0       70.0          NaN                NaN               NaN     2       2   \n",
       "1       48.0          NaN    Nội thất đầy đủ               NaN     1       1   \n",
       "2       67.0          NaN  Hoàn thiện cơ bản               NaN     2       2   \n",
       "\n",
       "         floors  living_size (m2)  width (m)  length (m)  price (million)  \\\n",
       "0  Nhiều hơn 10               NaN        NaN         NaN           1150.0   \n",
       "1  Nhiều hơn 10               NaN        NaN         NaN           1550.0   \n",
       "2  Nhiều hơn 10               NaN        NaN         NaN            360.0   \n",
       "\n",
       "  type_real_estate website  front_road  \n",
       "0         Chung cư  Chotot         NaN  \n",
       "1         Chung cư  Chotot         NaN  \n",
       "2         Chung cư  Chotot         NaN  "
      ]
     },
     "execution_count": 4,
     "metadata": {},
     "output_type": "execute_result"
    }
   ],
   "source": [
    "chotot_df.drop(columns=['address', 'type_real_estate'], inplace=True)\n",
    "chotot_df.rename(columns={'ahl_type': 'type_real_estate'}, inplace=True)\n",
    "chotot_df['website'] = 'Chotot'\n",
    "chotot_df['front_road'] = np.nan\n",
    "chotot_df.head(3)\n"
   ]
  },
  {
   "cell_type": "code",
   "execution_count": 5,
   "metadata": {},
   "outputs": [
    {
     "data": {
      "text/html": [
       "<div>\n",
       "<style scoped>\n",
       "    .dataframe tbody tr th:only-of-type {\n",
       "        vertical-align: middle;\n",
       "    }\n",
       "\n",
       "    .dataframe tbody tr th {\n",
       "        vertical-align: top;\n",
       "    }\n",
       "\n",
       "    .dataframe thead th {\n",
       "        text-align: right;\n",
       "    }\n",
       "</style>\n",
       "<table border=\"1\" class=\"dataframe\">\n",
       "  <thead>\n",
       "    <tr style=\"text-align: right;\">\n",
       "      <th></th>\n",
       "      <th>city</th>\n",
       "      <th>date</th>\n",
       "      <th>direction</th>\n",
       "      <th>district</th>\n",
       "      <th>floors</th>\n",
       "      <th>front_road</th>\n",
       "      <th>length</th>\n",
       "      <th>price (million)</th>\n",
       "      <th>property_legal_document</th>\n",
       "      <th>rooms</th>\n",
       "      <th>size</th>\n",
       "      <th>type_real_estate</th>\n",
       "      <th>ward</th>\n",
       "      <th>width</th>\n",
       "      <th>website</th>\n",
       "    </tr>\n",
       "  </thead>\n",
       "  <tbody>\n",
       "    <tr>\n",
       "      <th>0</th>\n",
       "      <td>Bình Dương</td>\n",
       "      <td>08/11/2021</td>\n",
       "      <td>NaN</td>\n",
       "      <td>Thành phố Thủ Dầu Một</td>\n",
       "      <td>2.0</td>\n",
       "      <td>12.0</td>\n",
       "      <td>12.0</td>\n",
       "      <td>3200.0</td>\n",
       "      <td>NaN</td>\n",
       "      <td>3.0</td>\n",
       "      <td>120.0</td>\n",
       "      <td>Nhà mặt tiền</td>\n",
       "      <td>Phường Hiệp An</td>\n",
       "      <td>6.0</td>\n",
       "      <td>alonhadat</td>\n",
       "    </tr>\n",
       "    <tr>\n",
       "      <th>1</th>\n",
       "      <td>Bình Dương</td>\n",
       "      <td>08/11/2021</td>\n",
       "      <td>NaN</td>\n",
       "      <td>Thành phố Thuận An</td>\n",
       "      <td>NaN</td>\n",
       "      <td>10.0</td>\n",
       "      <td>70.0</td>\n",
       "      <td>32000.0</td>\n",
       "      <td>Sổ hồng/ Sổ đỏ</td>\n",
       "      <td>NaN</td>\n",
       "      <td>900.0</td>\n",
       "      <td>Nhà mặt tiền</td>\n",
       "      <td>Phường An Phú</td>\n",
       "      <td>17.0</td>\n",
       "      <td>alonhadat</td>\n",
       "    </tr>\n",
       "    <tr>\n",
       "      <th>2</th>\n",
       "      <td>Bình Dương</td>\n",
       "      <td>08/11/2021</td>\n",
       "      <td>NaN</td>\n",
       "      <td>Thành phố Dĩ An</td>\n",
       "      <td>1.0</td>\n",
       "      <td>4.0</td>\n",
       "      <td>12.0</td>\n",
       "      <td>2550.0</td>\n",
       "      <td>Sổ hồng/ Sổ đỏ</td>\n",
       "      <td>3.0</td>\n",
       "      <td>60.0</td>\n",
       "      <td>Nhà trong hẻm</td>\n",
       "      <td>Phường Đông Hòa</td>\n",
       "      <td>5.0</td>\n",
       "      <td>alonhadat</td>\n",
       "    </tr>\n",
       "  </tbody>\n",
       "</table>\n",
       "</div>"
      ],
      "text/plain": [
       "         city        date direction               district  floors  \\\n",
       "0  Bình Dương  08/11/2021       NaN  Thành phố Thủ Dầu Một     2.0   \n",
       "1  Bình Dương  08/11/2021       NaN     Thành phố Thuận An     NaN   \n",
       "2  Bình Dương  08/11/2021       NaN        Thành phố Dĩ An     1.0   \n",
       "\n",
       "   front_road  length price (million) property_legal_document  rooms   size  \\\n",
       "0        12.0    12.0          3200.0                     NaN    3.0  120.0   \n",
       "1        10.0    70.0         32000.0          Sổ hồng/ Sổ đỏ    NaN  900.0   \n",
       "2         4.0    12.0          2550.0          Sổ hồng/ Sổ đỏ    3.0   60.0   \n",
       "\n",
       "  type_real_estate             ward  width    website  \n",
       "0     Nhà mặt tiền   Phường Hiệp An    6.0  alonhadat  \n",
       "1     Nhà mặt tiền    Phường An Phú   17.0  alonhadat  \n",
       "2    Nhà trong hẻm  Phường Đông Hòa    5.0  alonhadat  "
      ]
     },
     "execution_count": 5,
     "metadata": {},
     "output_type": "execute_result"
    }
   ],
   "source": [
    "alonhadat_df['website'] = 'alonhadat'\n",
    "alonhadat_df.head(3)\n"
   ]
  },
  {
   "cell_type": "code",
   "execution_count": 8,
   "metadata": {},
   "outputs": [],
   "source": [
    "agreement_df =alonhadat_df[alonhadat_df['price (million)'] == \"Thỏa thuận\"].copy()"
   ]
  },
  {
   "cell_type": "code",
   "execution_count": 9,
   "metadata": {},
   "outputs": [
    {
     "data": {
      "text/html": [
       "<div>\n",
       "<style scoped>\n",
       "    .dataframe tbody tr th:only-of-type {\n",
       "        vertical-align: middle;\n",
       "    }\n",
       "\n",
       "    .dataframe tbody tr th {\n",
       "        vertical-align: top;\n",
       "    }\n",
       "\n",
       "    .dataframe thead th {\n",
       "        text-align: right;\n",
       "    }\n",
       "</style>\n",
       "<table border=\"1\" class=\"dataframe\">\n",
       "  <thead>\n",
       "    <tr style=\"text-align: right;\">\n",
       "      <th></th>\n",
       "      <th>city</th>\n",
       "      <th>date</th>\n",
       "      <th>direction</th>\n",
       "      <th>district</th>\n",
       "      <th>floors</th>\n",
       "      <th>front_road</th>\n",
       "      <th>length</th>\n",
       "      <th>price (million)</th>\n",
       "      <th>property_legal_document</th>\n",
       "      <th>rooms</th>\n",
       "      <th>size</th>\n",
       "      <th>type_real_estate</th>\n",
       "      <th>ward</th>\n",
       "      <th>width</th>\n",
       "      <th>website</th>\n",
       "    </tr>\n",
       "  </thead>\n",
       "  <tbody>\n",
       "    <tr>\n",
       "      <th>1401</th>\n",
       "      <td>Bình Dương</td>\n",
       "      <td>28/10/2021</td>\n",
       "      <td>NaN</td>\n",
       "      <td>Huyện Bắc Tân Uyên</td>\n",
       "      <td>NaN</td>\n",
       "      <td>10.0</td>\n",
       "      <td>150.0</td>\n",
       "      <td>Thỏa thuận</td>\n",
       "      <td>Sổ hồng/ Sổ đỏ</td>\n",
       "      <td>NaN</td>\n",
       "      <td>15800.0</td>\n",
       "      <td>Kho, xưởng</td>\n",
       "      <td>Xã Đất Cuốc</td>\n",
       "      <td>100.0</td>\n",
       "      <td>alonhadat</td>\n",
       "    </tr>\n",
       "    <tr>\n",
       "      <th>2777</th>\n",
       "      <td>Bình Dương</td>\n",
       "      <td>05/11/2021</td>\n",
       "      <td>Đông Nam</td>\n",
       "      <td>Thành phố Thuận An</td>\n",
       "      <td>NaN</td>\n",
       "      <td>16.0</td>\n",
       "      <td>30.0</td>\n",
       "      <td>Thỏa thuận</td>\n",
       "      <td>Sổ hồng/ Sổ đỏ</td>\n",
       "      <td>NaN</td>\n",
       "      <td>450.0</td>\n",
       "      <td>Đất nền, liền kề, đất dự án</td>\n",
       "      <td>Phường Thuận Giao</td>\n",
       "      <td>15.0</td>\n",
       "      <td>alonhadat</td>\n",
       "    </tr>\n",
       "    <tr>\n",
       "      <th>2964</th>\n",
       "      <td>Bình Dương</td>\n",
       "      <td>06/11/2021</td>\n",
       "      <td>NaN</td>\n",
       "      <td>Thị xã Tân Uyên</td>\n",
       "      <td>NaN</td>\n",
       "      <td>NaN</td>\n",
       "      <td>NaN</td>\n",
       "      <td>Thỏa thuận</td>\n",
       "      <td>NaN</td>\n",
       "      <td>NaN</td>\n",
       "      <td>140000.0</td>\n",
       "      <td>Kho, xưởng</td>\n",
       "      <td>Phường Khánh Bình</td>\n",
       "      <td>NaN</td>\n",
       "      <td>alonhadat</td>\n",
       "    </tr>\n",
       "    <tr>\n",
       "      <th>3758</th>\n",
       "      <td>Bình Dương</td>\n",
       "      <td>07/11/2021</td>\n",
       "      <td>NaN</td>\n",
       "      <td>Thị xã Tân Uyên</td>\n",
       "      <td>NaN</td>\n",
       "      <td>8.0</td>\n",
       "      <td>100.0</td>\n",
       "      <td>Thỏa thuận</td>\n",
       "      <td>Sổ hồng/ Sổ đỏ</td>\n",
       "      <td>NaN</td>\n",
       "      <td>22000.0</td>\n",
       "      <td>Kho, xưởng</td>\n",
       "      <td>Xã Vĩnh Tân</td>\n",
       "      <td>100.0</td>\n",
       "      <td>alonhadat</td>\n",
       "    </tr>\n",
       "    <tr>\n",
       "      <th>3779</th>\n",
       "      <td>Bình Dương</td>\n",
       "      <td>07/11/2021</td>\n",
       "      <td>Tây</td>\n",
       "      <td>Huyện Bắc Tân Uyên</td>\n",
       "      <td>NaN</td>\n",
       "      <td>18.0</td>\n",
       "      <td>130.0</td>\n",
       "      <td>Thỏa thuận</td>\n",
       "      <td>NaN</td>\n",
       "      <td>NaN</td>\n",
       "      <td>15800.0</td>\n",
       "      <td>Kho, xưởng</td>\n",
       "      <td>Xã Đất Cuốc</td>\n",
       "      <td>120.0</td>\n",
       "      <td>alonhadat</td>\n",
       "    </tr>\n",
       "  </tbody>\n",
       "</table>\n",
       "</div>"
      ],
      "text/plain": [
       "            city        date direction            district  floors  \\\n",
       "1401  Bình Dương  28/10/2021       NaN  Huyện Bắc Tân Uyên     NaN   \n",
       "2777  Bình Dương  05/11/2021  Đông Nam  Thành phố Thuận An     NaN   \n",
       "2964  Bình Dương  06/11/2021       NaN     Thị xã Tân Uyên     NaN   \n",
       "3758  Bình Dương  07/11/2021       NaN     Thị xã Tân Uyên     NaN   \n",
       "3779  Bình Dương  07/11/2021       Tây  Huyện Bắc Tân Uyên     NaN   \n",
       "\n",
       "      front_road  length price (million) property_legal_document  rooms  \\\n",
       "1401        10.0   150.0      Thỏa thuận          Sổ hồng/ Sổ đỏ    NaN   \n",
       "2777        16.0    30.0      Thỏa thuận          Sổ hồng/ Sổ đỏ    NaN   \n",
       "2964         NaN     NaN      Thỏa thuận                     NaN    NaN   \n",
       "3758         8.0   100.0      Thỏa thuận          Sổ hồng/ Sổ đỏ    NaN   \n",
       "3779        18.0   130.0      Thỏa thuận                     NaN    NaN   \n",
       "\n",
       "          size             type_real_estate               ward  width  \\\n",
       "1401   15800.0                   Kho, xưởng        Xã Đất Cuốc  100.0   \n",
       "2777     450.0  Đất nền, liền kề, đất dự án  Phường Thuận Giao   15.0   \n",
       "2964  140000.0                   Kho, xưởng  Phường Khánh Bình    NaN   \n",
       "3758   22000.0                   Kho, xưởng        Xã Vĩnh Tân  100.0   \n",
       "3779   15800.0                   Kho, xưởng        Xã Đất Cuốc  120.0   \n",
       "\n",
       "        website  \n",
       "1401  alonhadat  \n",
       "2777  alonhadat  \n",
       "2964  alonhadat  \n",
       "3758  alonhadat  \n",
       "3779  alonhadat  "
      ]
     },
     "execution_count": 9,
     "metadata": {},
     "output_type": "execute_result"
    }
   ],
   "source": [
    "agreement_df.head()"
   ]
  },
  {
   "cell_type": "code",
   "execution_count": 58,
   "metadata": {},
   "outputs": [],
   "source": [
    "alonhadat_df['price (million)'] = alonhadat_df['price (million)'].apply(\n",
    "    lambda x: np.nan if x == 'Thỏa thuận' else float(x))\n"
   ]
  },
  {
   "cell_type": "markdown",
   "metadata": {},
   "source": [
    "# 2. Merge Data\n"
   ]
  },
  {
   "cell_type": "code",
   "execution_count": 59,
   "metadata": {},
   "outputs": [
    {
     "data": {
      "text/plain": [
       "Index(['city', 'date', 'direction', 'district', 'floors', 'front_road',\n",
       "       'length', 'price (million)', 'property_legal_document', 'rooms', 'size',\n",
       "       'type_real_estate', 'ward', 'width', 'website'],\n",
       "      dtype='object')"
      ]
     },
     "execution_count": 59,
     "metadata": {},
     "output_type": "execute_result"
    }
   ],
   "source": [
    "alonhadat_df.columns\n"
   ]
  },
  {
   "cell_type": "code",
   "execution_count": 60,
   "metadata": {},
   "outputs": [
    {
     "data": {
      "text/plain": [
       "Index(['list_time', 'ward', 'area', 'region', 'property_status', 'direction',\n",
       "       'balconydirection', 'property_legal_document', 'size (m2)',\n",
       "       'floornumber', 'furnishing_sell', 'apartment_feature', 'rooms',\n",
       "       'toilets', 'floors', 'living_size (m2)', 'width (m)', 'length (m)',\n",
       "       'price (million)', 'type_real_estate', 'website', 'front_road'],\n",
       "      dtype='object')"
      ]
     },
     "execution_count": 60,
     "metadata": {},
     "output_type": "execute_result"
    }
   ],
   "source": [
    "chotot_df.columns\n"
   ]
  },
  {
   "cell_type": "code",
   "execution_count": 61,
   "metadata": {},
   "outputs": [
    {
     "data": {
      "text/plain": [
       "Index(['city', 'date', 'district', 'length', 'size', 'width'], dtype='object')"
      ]
     },
     "execution_count": 61,
     "metadata": {},
     "output_type": "execute_result"
    }
   ],
   "source": [
    "alonhadat_df.columns.difference(chotot_df.columns)\n"
   ]
  },
  {
   "cell_type": "code",
   "execution_count": 62,
   "metadata": {},
   "outputs": [],
   "source": [
    "alonhadat_df.rename(columns={\"city\": \"region\", \"date\": \"list_time\", \"size\": \"size (m2)\",\n",
    "                    'district': \"area\", 'length': \"length (m)\", 'width': \"width (m)\"}, inplace=True)\n"
   ]
  },
  {
   "cell_type": "code",
   "execution_count": 63,
   "metadata": {},
   "outputs": [],
   "source": [
    "# merge 2 data lai thanh BDS_df\n",
    "BDS_df = pd.concat([chotot_df, alonhadat_df], ignore_index=True)\n"
   ]
  },
  {
   "cell_type": "code",
   "execution_count": 64,
   "metadata": {},
   "outputs": [
    {
     "data": {
      "text/html": [
       "<div>\n",
       "<style scoped>\n",
       "    .dataframe tbody tr th:only-of-type {\n",
       "        vertical-align: middle;\n",
       "    }\n",
       "\n",
       "    .dataframe tbody tr th {\n",
       "        vertical-align: top;\n",
       "    }\n",
       "\n",
       "    .dataframe thead th {\n",
       "        text-align: right;\n",
       "    }\n",
       "</style>\n",
       "<table border=\"1\" class=\"dataframe\">\n",
       "  <thead>\n",
       "    <tr style=\"text-align: right;\">\n",
       "      <th></th>\n",
       "      <th>list_time</th>\n",
       "      <th>ward</th>\n",
       "      <th>area</th>\n",
       "      <th>region</th>\n",
       "      <th>property_status</th>\n",
       "      <th>direction</th>\n",
       "      <th>balconydirection</th>\n",
       "      <th>property_legal_document</th>\n",
       "      <th>size (m2)</th>\n",
       "      <th>floornumber</th>\n",
       "      <th>furnishing_sell</th>\n",
       "      <th>apartment_feature</th>\n",
       "      <th>rooms</th>\n",
       "      <th>toilets</th>\n",
       "      <th>floors</th>\n",
       "      <th>living_size (m2)</th>\n",
       "      <th>width (m)</th>\n",
       "      <th>length (m)</th>\n",
       "      <th>price (million)</th>\n",
       "      <th>type_real_estate</th>\n",
       "      <th>website</th>\n",
       "      <th>front_road</th>\n",
       "    </tr>\n",
       "  </thead>\n",
       "  <tbody>\n",
       "    <tr>\n",
       "      <th>0</th>\n",
       "      <td>05/11/2021</td>\n",
       "      <td>Phường Tam Hòa</td>\n",
       "      <td>Thành phố Biên Hòa</td>\n",
       "      <td>Đồng Nai</td>\n",
       "      <td>Đã bàn giao</td>\n",
       "      <td>NaN</td>\n",
       "      <td>NaN</td>\n",
       "      <td>Đang chờ sổ</td>\n",
       "      <td>70.0</td>\n",
       "      <td>NaN</td>\n",
       "      <td>NaN</td>\n",
       "      <td>NaN</td>\n",
       "      <td>2</td>\n",
       "      <td>2</td>\n",
       "      <td>Nhiều hơn 10</td>\n",
       "      <td>NaN</td>\n",
       "      <td>NaN</td>\n",
       "      <td>NaN</td>\n",
       "      <td>1150.0</td>\n",
       "      <td>Chung cư</td>\n",
       "      <td>Chotot</td>\n",
       "      <td>NaN</td>\n",
       "    </tr>\n",
       "    <tr>\n",
       "      <th>1</th>\n",
       "      <td>05/11/2021</td>\n",
       "      <td>Phường Thống Nhất</td>\n",
       "      <td>Thành phố Biên Hòa</td>\n",
       "      <td>Đồng Nai</td>\n",
       "      <td>Đã bàn giao</td>\n",
       "      <td>Bắc</td>\n",
       "      <td>Nam</td>\n",
       "      <td>Đã có sổ</td>\n",
       "      <td>48.0</td>\n",
       "      <td>NaN</td>\n",
       "      <td>Nội thất đầy đủ</td>\n",
       "      <td>NaN</td>\n",
       "      <td>1</td>\n",
       "      <td>1</td>\n",
       "      <td>Nhiều hơn 10</td>\n",
       "      <td>NaN</td>\n",
       "      <td>NaN</td>\n",
       "      <td>NaN</td>\n",
       "      <td>1550.0</td>\n",
       "      <td>Chung cư</td>\n",
       "      <td>Chotot</td>\n",
       "      <td>NaN</td>\n",
       "    </tr>\n",
       "    <tr>\n",
       "      <th>2</th>\n",
       "      <td>05/11/2021</td>\n",
       "      <td>Phường Hố Nai</td>\n",
       "      <td>Thành phố Biên Hòa</td>\n",
       "      <td>Đồng Nai</td>\n",
       "      <td>Chưa bàn giao</td>\n",
       "      <td>NaN</td>\n",
       "      <td>NaN</td>\n",
       "      <td>Giấy tờ khác</td>\n",
       "      <td>67.0</td>\n",
       "      <td>NaN</td>\n",
       "      <td>Hoàn thiện cơ bản</td>\n",
       "      <td>NaN</td>\n",
       "      <td>2</td>\n",
       "      <td>2</td>\n",
       "      <td>Nhiều hơn 10</td>\n",
       "      <td>NaN</td>\n",
       "      <td>NaN</td>\n",
       "      <td>NaN</td>\n",
       "      <td>360.0</td>\n",
       "      <td>Chung cư</td>\n",
       "      <td>Chotot</td>\n",
       "      <td>NaN</td>\n",
       "    </tr>\n",
       "    <tr>\n",
       "      <th>3</th>\n",
       "      <td>05/11/2021</td>\n",
       "      <td>Phường Hố Nai</td>\n",
       "      <td>Thành phố Biên Hòa</td>\n",
       "      <td>Đồng Nai</td>\n",
       "      <td>Chưa bàn giao</td>\n",
       "      <td>NaN</td>\n",
       "      <td>NaN</td>\n",
       "      <td>Đã có sổ</td>\n",
       "      <td>70.0</td>\n",
       "      <td>NaN</td>\n",
       "      <td>NaN</td>\n",
       "      <td>NaN</td>\n",
       "      <td>2</td>\n",
       "      <td>2</td>\n",
       "      <td>Nhiều hơn 10</td>\n",
       "      <td>NaN</td>\n",
       "      <td>NaN</td>\n",
       "      <td>NaN</td>\n",
       "      <td>1700.0</td>\n",
       "      <td>Chung cư</td>\n",
       "      <td>Chotot</td>\n",
       "      <td>NaN</td>\n",
       "    </tr>\n",
       "    <tr>\n",
       "      <th>4</th>\n",
       "      <td>05/11/2021</td>\n",
       "      <td>Phường Thống Nhất</td>\n",
       "      <td>Thành phố Biên Hòa</td>\n",
       "      <td>Đồng Nai</td>\n",
       "      <td>Đã bàn giao</td>\n",
       "      <td>NaN</td>\n",
       "      <td>NaN</td>\n",
       "      <td>Đã có sổ</td>\n",
       "      <td>48.0</td>\n",
       "      <td>NaN</td>\n",
       "      <td>NaN</td>\n",
       "      <td>NaN</td>\n",
       "      <td>2</td>\n",
       "      <td>1</td>\n",
       "      <td>Nhiều hơn 10</td>\n",
       "      <td>NaN</td>\n",
       "      <td>NaN</td>\n",
       "      <td>NaN</td>\n",
       "      <td>10.0</td>\n",
       "      <td>Chung cư</td>\n",
       "      <td>Chotot</td>\n",
       "      <td>NaN</td>\n",
       "    </tr>\n",
       "  </tbody>\n",
       "</table>\n",
       "</div>"
      ],
      "text/plain": [
       "    list_time               ward                area    region  \\\n",
       "0  05/11/2021     Phường Tam Hòa  Thành phố Biên Hòa  Đồng Nai   \n",
       "1  05/11/2021  Phường Thống Nhất  Thành phố Biên Hòa  Đồng Nai   \n",
       "2  05/11/2021      Phường Hố Nai  Thành phố Biên Hòa  Đồng Nai   \n",
       "3  05/11/2021      Phường Hố Nai  Thành phố Biên Hòa  Đồng Nai   \n",
       "4  05/11/2021  Phường Thống Nhất  Thành phố Biên Hòa  Đồng Nai   \n",
       "\n",
       "  property_status direction balconydirection property_legal_document  \\\n",
       "0     Đã bàn giao       NaN              NaN             Đang chờ sổ   \n",
       "1     Đã bàn giao       Bắc              Nam                Đã có sổ   \n",
       "2   Chưa bàn giao       NaN              NaN            Giấy tờ khác   \n",
       "3   Chưa bàn giao       NaN              NaN                Đã có sổ   \n",
       "4     Đã bàn giao       NaN              NaN                Đã có sổ   \n",
       "\n",
       "   size (m2)  floornumber    furnishing_sell apartment_feature rooms toilets  \\\n",
       "0       70.0          NaN                NaN               NaN     2       2   \n",
       "1       48.0          NaN    Nội thất đầy đủ               NaN     1       1   \n",
       "2       67.0          NaN  Hoàn thiện cơ bản               NaN     2       2   \n",
       "3       70.0          NaN                NaN               NaN     2       2   \n",
       "4       48.0          NaN                NaN               NaN     2       1   \n",
       "\n",
       "         floors  living_size (m2)  width (m)  length (m)  price (million)  \\\n",
       "0  Nhiều hơn 10               NaN        NaN         NaN           1150.0   \n",
       "1  Nhiều hơn 10               NaN        NaN         NaN           1550.0   \n",
       "2  Nhiều hơn 10               NaN        NaN         NaN            360.0   \n",
       "3  Nhiều hơn 10               NaN        NaN         NaN           1700.0   \n",
       "4  Nhiều hơn 10               NaN        NaN         NaN             10.0   \n",
       "\n",
       "  type_real_estate website  front_road  \n",
       "0         Chung cư  Chotot         NaN  \n",
       "1         Chung cư  Chotot         NaN  \n",
       "2         Chung cư  Chotot         NaN  \n",
       "3         Chung cư  Chotot         NaN  \n",
       "4         Chung cư  Chotot         NaN  "
      ]
     },
     "execution_count": 64,
     "metadata": {},
     "output_type": "execute_result"
    }
   ],
   "source": [
    "BDS_df.head(5)\n"
   ]
  },
  {
   "cell_type": "markdown",
   "metadata": {},
   "source": [
    "# 3. EDA\n"
   ]
  },
  {
   "cell_type": "markdown",
   "metadata": {},
   "source": [
    "## 3.0 Repreprocessing\n"
   ]
  },
  {
   "cell_type": "markdown",
   "metadata": {},
   "source": [
    "### Website"
   ]
  },
  {
   "cell_type": "code",
   "execution_count": 83,
   "metadata": {},
   "outputs": [
    {
     "data": {
      "text/plain": [
       "array(['Chotot', 'alonhadat'], dtype=object)"
      ]
     },
     "execution_count": 83,
     "metadata": {},
     "output_type": "execute_result"
    }
   ],
   "source": [
    "BDS_df['website'].unique()"
   ]
  },
  {
   "cell_type": "code",
   "execution_count": 91,
   "metadata": {},
   "outputs": [
    {
     "data": {
      "text/plain": [
       "<Figure size 1080x360 with 0 Axes>"
      ]
     },
     "execution_count": 91,
     "metadata": {},
     "output_type": "execute_result"
    },
    {
     "data": {
      "text/plain": [
       "<Figure size 1080x360 with 0 Axes>"
      ]
     },
     "metadata": {},
     "output_type": "display_data"
    },
    {
     "data": {
      "image/png": "[encoded data removed]",
      "text/plain": [
       "<Figure size 288x360 with 1 Axes>"
      ]
     },
     "metadata": {
      "needs_background": "light"
     },
     "output_type": "display_data"
    }
   ],
   "source": [
    "plt.figure(figsize=(15,5))\n"
   ]
  },
  {
   "cell_type": "markdown",
   "metadata": {},
   "source": [
    "### Region"
   ]
  },
  {
   "cell_type": "code",
   "execution_count": 65,
   "metadata": {},
   "outputs": [
    {
     "data": {
      "text/plain": [
       "array(['Đồng Nai', 'Bình Dương', 'Tp Hồ Chí Minh', 'Hồ Chí Minh'],\n",
       "      dtype=object)"
      ]
     },
     "execution_count": 65,
     "metadata": {},
     "output_type": "execute_result"
    }
   ],
   "source": [
    "BDS_df['region'].unique()\n"
   ]
  },
  {
   "cell_type": "code",
   "execution_count": 66,
   "metadata": {},
   "outputs": [],
   "source": [
    "BDS_df['region'].replace({'Tp Hồ Chí Minh': 'Hồ Chí Minh'}, inplace=True)\n"
   ]
  },
  {
   "cell_type": "code",
   "execution_count": 76,
   "metadata": {},
   "outputs": [
    {
     "data": {
      "text/plain": [
       "count    2.208630e+05\n",
       "mean     7.903109e+06\n",
       "std      3.707341e+09\n",
       "min      3.700000e-01\n",
       "25%      2.750000e+03\n",
       "50%      5.300000e+03\n",
       "75%      1.100000e+04\n",
       "max      1.742304e+12\n",
       "Name: price (million), dtype: float64"
      ]
     },
     "execution_count": 76,
     "metadata": {},
     "output_type": "execute_result"
    }
   ],
   "source": [
    "BDS_df['price (million)'].describe()"
   ]
  },
  {
   "cell_type": "code",
   "execution_count": 82,
   "metadata": {},
   "outputs": [
    {
     "data": {
      "text/html": [
       "<div>\n",
       "<style scoped>\n",
       "    .dataframe tbody tr th:only-of-type {\n",
       "        vertical-align: middle;\n",
       "    }\n",
       "\n",
       "    .dataframe tbody tr th {\n",
       "        vertical-align: top;\n",
       "    }\n",
       "\n",
       "    .dataframe thead th {\n",
       "        text-align: right;\n",
       "    }\n",
       "</style>\n",
       "<table border=\"1\" class=\"dataframe\">\n",
       "  <thead>\n",
       "    <tr style=\"text-align: right;\">\n",
       "      <th></th>\n",
       "      <th>list_time</th>\n",
       "      <th>ward</th>\n",
       "      <th>area</th>\n",
       "      <th>region</th>\n",
       "      <th>property_status</th>\n",
       "      <th>direction</th>\n",
       "      <th>balconydirection</th>\n",
       "      <th>property_legal_document</th>\n",
       "      <th>size (m2)</th>\n",
       "      <th>floornumber</th>\n",
       "      <th>furnishing_sell</th>\n",
       "      <th>apartment_feature</th>\n",
       "      <th>rooms</th>\n",
       "      <th>toilets</th>\n",
       "      <th>floors</th>\n",
       "      <th>living_size (m2)</th>\n",
       "      <th>width (m)</th>\n",
       "      <th>length (m)</th>\n",
       "      <th>price (million)</th>\n",
       "      <th>type_real_estate</th>\n",
       "      <th>website</th>\n",
       "      <th>front_road</th>\n",
       "    </tr>\n",
       "  </thead>\n",
       "  <tbody>\n",
       "    <tr>\n",
       "      <th>47178</th>\n",
       "      <td>01/11/2021</td>\n",
       "      <td>Phường 15</td>\n",
       "      <td>Quận Tân Bình</td>\n",
       "      <td>Hồ Chí Minh</td>\n",
       "      <td>NaN</td>\n",
       "      <td>NaN</td>\n",
       "      <td>NaN</td>\n",
       "      <td>Đã có sổ</td>\n",
       "      <td>56.0</td>\n",
       "      <td>NaN</td>\n",
       "      <td>NaN</td>\n",
       "      <td>NaN</td>\n",
       "      <td>2</td>\n",
       "      <td>1</td>\n",
       "      <td>Nhiều hơn 10</td>\n",
       "      <td>56.0</td>\n",
       "      <td>4.0</td>\n",
       "      <td>14.0</td>\n",
       "      <td>1.742304e+12</td>\n",
       "      <td>Nhà ngõ</td>\n",
       "      <td>Chotot</td>\n",
       "      <td>NaN</td>\n",
       "    </tr>\n",
       "  </tbody>\n",
       "</table>\n",
       "</div>"
      ],
      "text/plain": [
       "        list_time       ward           area       region property_status  \\\n",
       "47178  01/11/2021  Phường 15  Quận Tân Bình  Hồ Chí Minh             NaN   \n",
       "\n",
       "      direction balconydirection property_legal_document  size (m2)  \\\n",
       "47178       NaN              NaN                Đã có sổ       56.0   \n",
       "\n",
       "       floornumber furnishing_sell apartment_feature rooms toilets  \\\n",
       "47178          NaN             NaN               NaN     2       1   \n",
       "\n",
       "             floors  living_size (m2)  width (m)  length (m)  price (million)  \\\n",
       "47178  Nhiều hơn 10              56.0        4.0        14.0     1.742304e+12   \n",
       "\n",
       "      type_real_estate website  front_road  \n",
       "47178          Nhà ngõ  Chotot         NaN  "
      ]
     },
     "execution_count": 82,
     "metadata": {},
     "output_type": "execute_result"
    }
   ],
   "source": [
    "BDS_df[BDS_df['price (million)'] == max(BDS_df['price (million)'])]"
   ]
  },
  {
   "cell_type": "code",
   "execution_count": 75,
   "metadata": {},
   "outputs": [
    {
     "data": {
      "text/plain": [
       "<Figure size 1080x360 with 0 Axes>"
      ]
     },
     "execution_count": 75,
     "metadata": {},
     "output_type": "execute_result"
    },
    {
     "data": {
      "text/plain": [
       "<AxesSubplot:xlabel='region', ylabel='price (million)'>"
      ]
     },
     "execution_count": 75,
     "metadata": {},
     "output_type": "execute_result"
    },
    {
     "data": {
      "image/png": "[encoded data removed]",
      "text/plain": [
       "<Figure size 1080x360 with 1 Axes>"
      ]
     },
     "metadata": {
      "needs_background": "light"
     },
     "output_type": "display_data"
    }
   ],
   "source": [
    "plt.figure(figsize=(15,5))\n",
    "# sns.countplot(x='region',data=BDS_df)\n",
    "sns.boxplot(x='region',y='price (million)',data=BDS_df)"
   ]
  },
  {
   "cell_type": "markdown",
   "metadata": {},
   "source": [
    "=> Vì chỉ có 1 outlier làm giảm khả năng quan sát giá đất trên Đồng Nai, Bình Dương, Hồ Chí Minh nên cần làm xếp riêng trường hợp này để dễ quan sát"
   ]
  },
  {
   "cell_type": "code",
   "execution_count": 81,
   "metadata": {},
   "outputs": [
    {
     "data": {
      "text/plain": [
       "<Figure size 1080x360 with 0 Axes>"
      ]
     },
     "execution_count": 81,
     "metadata": {},
     "output_type": "execute_result"
    },
    {
     "data": {
      "text/plain": [
       "<AxesSubplot:xlabel='region', ylabel='price (million)'>"
      ]
     },
     "execution_count": 81,
     "metadata": {},
     "output_type": "execute_result"
    },
    {
     "data": {
      "image/png": "[encoded data removed]",
      "text/plain": [
       "<Figure size 1080x360 with 1 Axes>"
      ]
     },
     "metadata": {
      "needs_background": "light"
     },
     "output_type": "display_data"
    }
   ],
   "source": [
    "plt.figure(figsize=(15,5))\n",
    "sns.boxplot(x='region',y='price (million)',data=BDS_df[BDS_df['price (million)']<= 1.6e7])# mức 16.000 tỷ"
   ]
  },
  {
   "cell_type": "markdown",
   "metadata": {},
   "source": [
    "### Property legal document"
   ]
  },
  {
   "cell_type": "code",
   "execution_count": 35,
   "metadata": {},
   "outputs": [
    {
     "data": {
      "text/html": [
       "<div>\n",
       "<style scoped>\n",
       "    .dataframe tbody tr th:only-of-type {\n",
       "        vertical-align: middle;\n",
       "    }\n",
       "\n",
       "    .dataframe tbody tr th {\n",
       "        vertical-align: top;\n",
       "    }\n",
       "\n",
       "    .dataframe thead th {\n",
       "        text-align: right;\n",
       "    }\n",
       "</style>\n",
       "<table border=\"1\" class=\"dataframe\">\n",
       "  <thead>\n",
       "    <tr style=\"text-align: right;\">\n",
       "      <th></th>\n",
       "      <th>website</th>\n",
       "    </tr>\n",
       "    <tr>\n",
       "      <th>property_legal_document</th>\n",
       "      <th></th>\n",
       "    </tr>\n",
       "  </thead>\n",
       "  <tbody>\n",
       "    <tr>\n",
       "      <th>Giấy phép KD</th>\n",
       "      <td>22</td>\n",
       "    </tr>\n",
       "    <tr>\n",
       "      <th>Giấy phép XD</th>\n",
       "      <td>154</td>\n",
       "    </tr>\n",
       "    <tr>\n",
       "      <th>Giấy tờ hợp lệ</th>\n",
       "      <td>4122</td>\n",
       "    </tr>\n",
       "    <tr>\n",
       "      <th>Giấy tờ khác</th>\n",
       "      <td>4642</td>\n",
       "    </tr>\n",
       "    <tr>\n",
       "      <th>Đang chờ sổ</th>\n",
       "      <td>5943</td>\n",
       "    </tr>\n",
       "    <tr>\n",
       "      <th>Đã có sổ</th>\n",
       "      <td>71462</td>\n",
       "    </tr>\n",
       "    <tr>\n",
       "      <th>Sổ hồng/ Sổ đỏ</th>\n",
       "      <td>89009</td>\n",
       "    </tr>\n",
       "  </tbody>\n",
       "</table>\n",
       "</div>"
      ],
      "text/plain": [
       "                         website\n",
       "property_legal_document         \n",
       "Giấy phép KD                  22\n",
       "Giấy phép XD                 154\n",
       "Giấy tờ hợp lệ              4122\n",
       "Giấy tờ khác                4642\n",
       "Đang chờ sổ                 5943\n",
       "Đã có sổ                   71462\n",
       "Sổ hồng/ Sổ đỏ             89009"
      ]
     },
     "execution_count": 35,
     "metadata": {},
     "output_type": "execute_result"
    }
   ],
   "source": [
    "property_doc = ['property_legal_document', 'website']\n",
    "BDS_df[property_doc].groupby(property_doc[0]).count().sort_values(by=['website'])"
   ]
  },
  {
   "cell_type": "code",
   "execution_count": 14,
   "metadata": {},
   "outputs": [],
   "source": [
    "BDS_df['property_legal_document'].replace({\"Sổ hồng/ Sổ đỏ\": 'Đã có sổ'},inplace=True)"
   ]
  },
  {
   "cell_type": "code",
   "execution_count": 37,
   "metadata": {},
   "outputs": [
    {
     "data": {
      "text/plain": [
       "<Figure size 1080x576 with 0 Axes>"
      ]
     },
     "execution_count": 37,
     "metadata": {},
     "output_type": "execute_result"
    },
    {
     "data": {
      "text/plain": [
       "<AxesSubplot:xlabel='property_legal_document', ylabel='count'>"
      ]
     },
     "execution_count": 37,
     "metadata": {},
     "output_type": "execute_result"
    },
    {
     "data": {
      "image/png": "[encoded data removed]",
      "text/plain": [
       "<Figure size 1080x576 with 1 Axes>"
      ]
     },
     "metadata": {
      "needs_background": "light"
     },
     "output_type": "display_data"
    }
   ],
   "source": [
    "plt.figure(figsize=(15,8))\n",
    "sns.countplot(x='property_legal_document',\n",
    "              hue='website', data=BDS_df)\n"
   ]
  },
  {
   "cell_type": "code",
   "execution_count": 94,
   "metadata": {},
   "outputs": [
    {
     "data": {
      "text/plain": [
       "<Figure size 1080x576 with 0 Axes>"
      ]
     },
     "execution_count": 94,
     "metadata": {},
     "output_type": "execute_result"
    },
    {
     "data": {
      "text/plain": [
       "<AxesSubplot:xlabel='property_legal_document', ylabel='price (million)'>"
      ]
     },
     "execution_count": 94,
     "metadata": {},
     "output_type": "execute_result"
    },
    {
     "data": {
      "image/png": "[encoded data removed]",
      "text/plain": [
       "<Figure size 1080x576 with 1 Axes>"
      ]
     },
     "metadata": {
      "needs_background": "light"
     },
     "output_type": "display_data"
    }
   ],
   "source": [
    "plt.figure(figsize=(15,8))\n",
    "sns.histplot(x='property_legal_document',y='price (million)', data=BDS_df[BDS_df['price (million)']<=50000])"
   ]
  },
  {
   "cell_type": "code",
   "execution_count": 38,
   "metadata": {},
   "outputs": [
    {
     "data": {
      "text/plain": [
       "Index(['list_time', 'ward', 'area', 'region', 'property_status', 'direction',\n",
       "       'balconydirection', 'property_legal_document', 'size (m2)',\n",
       "       'floornumber', 'furnishing_sell', 'apartment_feature', 'rooms',\n",
       "       'toilets', 'floors', 'living_size (m2)', 'width (m)', 'length (m)',\n",
       "       'price (million)', 'type_real_estate', 'website', 'front_road'],\n",
       "      dtype='object')"
      ]
     },
     "execution_count": 38,
     "metadata": {},
     "output_type": "execute_result"
    }
   ],
   "source": [
    "BDS_df.columns"
   ]
  },
  {
   "cell_type": "code",
   "execution_count": 92,
   "metadata": {},
   "outputs": [
    {
     "data": {
      "text/plain": [
       "array(['Đang chờ sổ', 'Đã có sổ', 'Giấy tờ khác', nan, 'Sổ hồng/ Sổ đỏ',\n",
       "       'Giấy tờ hợp lệ', 'Giấy phép XD', 'Giấy phép KD'], dtype=object)"
      ]
     },
     "execution_count": 92,
     "metadata": {},
     "output_type": "execute_result"
    }
   ],
   "source": [
    "BDS_df['property_legal_document'].unique()"
   ]
  },
  {
   "cell_type": "code",
   "execution_count": 90,
   "metadata": {},
   "outputs": [
    {
     "data": {
      "text/plain": [
       "array(['Nhiều hơn 10', 1, 3, 2, 4, 5, 6, 7, 10, 9, 8, nan, 18, 23, 26, 35,\n",
       "       30, 15, 12, 40, 38, 29, 19, 31, 22, 25, 33, 17, 20, 13, 24, 11, 14,\n",
       "       27, 16, 28, 21, 36, 32, 34, 37, 151, 50, 61, 39, 48, 42, 44, 222,\n",
       "       75, 2000, 68, 988, 333, 163, 45, 144, 43, 91, 46, 55, 52],\n",
       "      dtype=object)"
      ]
     },
     "execution_count": 90,
     "metadata": {},
     "output_type": "execute_result"
    }
   ],
   "source": [
    "BDS_df['floors'].unique()\n"
   ]
  },
  {
   "cell_type": "code",
   "execution_count": 71,
   "metadata": {},
   "outputs": [],
   "source": [
    "BDS_df['floors'] = BDS_df['floors'].apply(\n",
    "    DPP.convertNum2Int, convert_dtype=False)\n"
   ]
  },
  {
   "cell_type": "code",
   "execution_count": 74,
   "metadata": {},
   "outputs": [
    {
     "data": {
      "text/plain": [
       "array([ nan,  16.,   7.,   4.,  12.,   1.,  14.,  18.,  11.,  10.,   9.,\n",
       "         3.,  29.,   2.,  15.,  22.,  21.,   8.,  19.,   6.,  20.,  35.,\n",
       "        23.,  27.,  28.,   5.,  25.,  24.,  34.,  13.,  30.,  17.,  26.,\n",
       "        40.,  37.,  36.,  32.,  33.,  38.,  47.,  39.,  31.,  41.,  45.,\n",
       "       456.,  48., 320., 132.,  44.])"
      ]
     },
     "execution_count": 74,
     "metadata": {},
     "output_type": "execute_result"
    }
   ],
   "source": [
    "BDS_df['floornumber'].unique()\n"
   ]
  },
  {
   "cell_type": "code",
   "execution_count": 82,
   "metadata": {},
   "outputs": [],
   "source": [
    "BDS_df['floornumber'] = BDS_df['floornumber'].apply(\n",
    "    DPP.convertNum2Int, convert_dtype=False)\n"
   ]
  },
  {
   "cell_type": "code",
   "execution_count": 76,
   "metadata": {},
   "outputs": [
    {
     "name": "stdout",
     "output_type": "stream",
     "text": [
      "<class 'pandas.core.frame.DataFrame'>\n",
      "RangeIndex: 220903 entries, 0 to 220902\n",
      "Data columns (total 22 columns):\n",
      " #   Column                   Non-Null Count   Dtype  \n",
      "---  ------                   --------------   -----  \n",
      " 0   list_time                220903 non-null  object \n",
      " 1   ward                     220805 non-null  object \n",
      " 2   area                     220901 non-null  object \n",
      " 3   region                   220903 non-null  object \n",
      " 4   property_status          13038 non-null   object \n",
      " 5   direction                55567 non-null   object \n",
      " 6   balconydirection         4305 non-null    object \n",
      " 7   property_legal_document  175354 non-null  object \n",
      " 8   size (m2)                220743 non-null  float64\n",
      " 9   floornumber              3876 non-null    object \n",
      " 10  furnishing_sell          26166 non-null   object \n",
      " 11  apartment_feature        2881 non-null    object \n",
      " 12  rooms                    170759 non-null  object \n",
      " 13  toilets                  65152 non-null   object \n",
      " 14  floors                   171266 non-null  object \n",
      " 15  living_size (m2)         42737 non-null   float64\n",
      " 16  width (m)                176026 non-null  float64\n",
      " 17  length (m)               172069 non-null  float64\n",
      " 18  price (million)          220863 non-null  float64\n",
      " 19  type_real_estate         220898 non-null  object \n",
      " 20  website                  220903 non-null  object \n",
      " 21  front_road               123161 non-null  float64\n",
      "dtypes: float64(6), object(16)\n",
      "memory usage: 37.1+ MB\n"
     ]
    }
   ],
   "source": [
    "BDS_df.info()\n"
   ]
  },
  {
   "cell_type": "code",
   "execution_count": 68,
   "metadata": {},
   "outputs": [
    {
     "data": {
      "text/html": [
       "<div>\n",
       "<style scoped>\n",
       "    .dataframe tbody tr th:only-of-type {\n",
       "        vertical-align: middle;\n",
       "    }\n",
       "\n",
       "    .dataframe tbody tr th {\n",
       "        vertical-align: top;\n",
       "    }\n",
       "\n",
       "    .dataframe thead th {\n",
       "        text-align: right;\n",
       "    }\n",
       "</style>\n",
       "<table border=\"1\" class=\"dataframe\">\n",
       "  <thead>\n",
       "    <tr style=\"text-align: right;\">\n",
       "      <th></th>\n",
       "      <th>list_time</th>\n",
       "      <th>ward</th>\n",
       "      <th>area</th>\n",
       "      <th>region</th>\n",
       "      <th>property_status</th>\n",
       "      <th>direction</th>\n",
       "      <th>balconydirection</th>\n",
       "      <th>property_legal_document</th>\n",
       "      <th>size (m2)</th>\n",
       "      <th>floornumber</th>\n",
       "      <th>furnishing_sell</th>\n",
       "      <th>apartment_feature</th>\n",
       "      <th>rooms</th>\n",
       "      <th>toilets</th>\n",
       "      <th>floors</th>\n",
       "      <th>living_size (m2)</th>\n",
       "      <th>width (m)</th>\n",
       "      <th>length (m)</th>\n",
       "      <th>price (million)</th>\n",
       "      <th>type_real_estate</th>\n",
       "      <th>website</th>\n",
       "      <th>front_road</th>\n",
       "    </tr>\n",
       "  </thead>\n",
       "  <tbody>\n",
       "    <tr>\n",
       "      <th>count</th>\n",
       "      <td>220903</td>\n",
       "      <td>220805</td>\n",
       "      <td>220901</td>\n",
       "      <td>220903</td>\n",
       "      <td>13038</td>\n",
       "      <td>55567</td>\n",
       "      <td>4305</td>\n",
       "      <td>175354</td>\n",
       "      <td>2.207430e+05</td>\n",
       "      <td>3876.000000</td>\n",
       "      <td>26166</td>\n",
       "      <td>2881</td>\n",
       "      <td>170759</td>\n",
       "      <td>65152</td>\n",
       "      <td>171266</td>\n",
       "      <td>42737.000000</td>\n",
       "      <td>176026.000000</td>\n",
       "      <td>172069.000000</td>\n",
       "      <td>2.208630e+05</td>\n",
       "      <td>220898</td>\n",
       "      <td>220903</td>\n",
       "      <td>123161.000000</td>\n",
       "    </tr>\n",
       "    <tr>\n",
       "      <th>unique</th>\n",
       "      <td>374</td>\n",
       "      <td>690</td>\n",
       "      <td>48</td>\n",
       "      <td>3</td>\n",
       "      <td>2</td>\n",
       "      <td>8</td>\n",
       "      <td>8</td>\n",
       "      <td>7</td>\n",
       "      <td>NaN</td>\n",
       "      <td>NaN</td>\n",
       "      <td>4</td>\n",
       "      <td>1</td>\n",
       "      <td>144</td>\n",
       "      <td>7</td>\n",
       "      <td>71</td>\n",
       "      <td>NaN</td>\n",
       "      <td>NaN</td>\n",
       "      <td>NaN</td>\n",
       "      <td>NaN</td>\n",
       "      <td>29</td>\n",
       "      <td>2</td>\n",
       "      <td>NaN</td>\n",
       "    </tr>\n",
       "    <tr>\n",
       "      <th>top</th>\n",
       "      <td>07/11/2021</td>\n",
       "      <td>Phường 12</td>\n",
       "      <td>Quận Gò Vấp</td>\n",
       "      <td>Hồ Chí Minh</td>\n",
       "      <td>Đã bàn giao</td>\n",
       "      <td>Đông Nam</td>\n",
       "      <td>Đông Nam</td>\n",
       "      <td>Sổ hồng/ Sổ đỏ</td>\n",
       "      <td>NaN</td>\n",
       "      <td>NaN</td>\n",
       "      <td>Nội thất đầy đủ</td>\n",
       "      <td>Căn góc</td>\n",
       "      <td>2</td>\n",
       "      <td>2</td>\n",
       "      <td>Nhiều hơn 10</td>\n",
       "      <td>NaN</td>\n",
       "      <td>NaN</td>\n",
       "      <td>NaN</td>\n",
       "      <td>NaN</td>\n",
       "      <td>Nhà trong hẻm</td>\n",
       "      <td>alonhadat</td>\n",
       "      <td>NaN</td>\n",
       "    </tr>\n",
       "    <tr>\n",
       "      <th>freq</th>\n",
       "      <td>27914</td>\n",
       "      <td>7559</td>\n",
       "      <td>20650</td>\n",
       "      <td>185480</td>\n",
       "      <td>9125</td>\n",
       "      <td>10767</td>\n",
       "      <td>1154</td>\n",
       "      <td>89009</td>\n",
       "      <td>NaN</td>\n",
       "      <td>NaN</td>\n",
       "      <td>9634</td>\n",
       "      <td>2881</td>\n",
       "      <td>27630</td>\n",
       "      <td>26926</td>\n",
       "      <td>51502</td>\n",
       "      <td>NaN</td>\n",
       "      <td>NaN</td>\n",
       "      <td>NaN</td>\n",
       "      <td>NaN</td>\n",
       "      <td>56155</td>\n",
       "      <td>125494</td>\n",
       "      <td>NaN</td>\n",
       "    </tr>\n",
       "    <tr>\n",
       "      <th>mean</th>\n",
       "      <td>NaN</td>\n",
       "      <td>NaN</td>\n",
       "      <td>NaN</td>\n",
       "      <td>NaN</td>\n",
       "      <td>NaN</td>\n",
       "      <td>NaN</td>\n",
       "      <td>NaN</td>\n",
       "      <td>NaN</td>\n",
       "      <td>1.499812e+04</td>\n",
       "      <td>12.199690</td>\n",
       "      <td>NaN</td>\n",
       "      <td>NaN</td>\n",
       "      <td>NaN</td>\n",
       "      <td>NaN</td>\n",
       "      <td>NaN</td>\n",
       "      <td>166.610159</td>\n",
       "      <td>13.660408</td>\n",
       "      <td>29.863471</td>\n",
       "      <td>7.903109e+06</td>\n",
       "      <td>NaN</td>\n",
       "      <td>NaN</td>\n",
       "      <td>10.998878</td>\n",
       "    </tr>\n",
       "    <tr>\n",
       "      <th>std</th>\n",
       "      <td>NaN</td>\n",
       "      <td>NaN</td>\n",
       "      <td>NaN</td>\n",
       "      <td>NaN</td>\n",
       "      <td>NaN</td>\n",
       "      <td>NaN</td>\n",
       "      <td>NaN</td>\n",
       "      <td>NaN</td>\n",
       "      <td>2.917641e+06</td>\n",
       "      <td>12.160109</td>\n",
       "      <td>NaN</td>\n",
       "      <td>NaN</td>\n",
       "      <td>NaN</td>\n",
       "      <td>NaN</td>\n",
       "      <td>NaN</td>\n",
       "      <td>1126.917752</td>\n",
       "      <td>781.931429</td>\n",
       "      <td>586.439799</td>\n",
       "      <td>3.707341e+09</td>\n",
       "      <td>NaN</td>\n",
       "      <td>NaN</td>\n",
       "      <td>17.637787</td>\n",
       "    </tr>\n",
       "    <tr>\n",
       "      <th>min</th>\n",
       "      <td>NaN</td>\n",
       "      <td>NaN</td>\n",
       "      <td>NaN</td>\n",
       "      <td>NaN</td>\n",
       "      <td>NaN</td>\n",
       "      <td>NaN</td>\n",
       "      <td>NaN</td>\n",
       "      <td>NaN</td>\n",
       "      <td>1.000000e+00</td>\n",
       "      <td>1.000000</td>\n",
       "      <td>NaN</td>\n",
       "      <td>NaN</td>\n",
       "      <td>NaN</td>\n",
       "      <td>NaN</td>\n",
       "      <td>NaN</td>\n",
       "      <td>1.000000</td>\n",
       "      <td>0.000000</td>\n",
       "      <td>0.000000</td>\n",
       "      <td>3.700000e-01</td>\n",
       "      <td>NaN</td>\n",
       "      <td>NaN</td>\n",
       "      <td>0.000000</td>\n",
       "    </tr>\n",
       "    <tr>\n",
       "      <th>25%</th>\n",
       "      <td>NaN</td>\n",
       "      <td>NaN</td>\n",
       "      <td>NaN</td>\n",
       "      <td>NaN</td>\n",
       "      <td>NaN</td>\n",
       "      <td>NaN</td>\n",
       "      <td>NaN</td>\n",
       "      <td>NaN</td>\n",
       "      <td>5.500000e+01</td>\n",
       "      <td>6.000000</td>\n",
       "      <td>NaN</td>\n",
       "      <td>NaN</td>\n",
       "      <td>NaN</td>\n",
       "      <td>NaN</td>\n",
       "      <td>NaN</td>\n",
       "      <td>64.000000</td>\n",
       "      <td>4.000000</td>\n",
       "      <td>12.000000</td>\n",
       "      <td>2.750000e+03</td>\n",
       "      <td>NaN</td>\n",
       "      <td>NaN</td>\n",
       "      <td>5.000000</td>\n",
       "    </tr>\n",
       "    <tr>\n",
       "      <th>50%</th>\n",
       "      <td>NaN</td>\n",
       "      <td>NaN</td>\n",
       "      <td>NaN</td>\n",
       "      <td>NaN</td>\n",
       "      <td>NaN</td>\n",
       "      <td>NaN</td>\n",
       "      <td>NaN</td>\n",
       "      <td>NaN</td>\n",
       "      <td>8.000000e+01</td>\n",
       "      <td>10.000000</td>\n",
       "      <td>NaN</td>\n",
       "      <td>NaN</td>\n",
       "      <td>NaN</td>\n",
       "      <td>NaN</td>\n",
       "      <td>NaN</td>\n",
       "      <td>100.000000</td>\n",
       "      <td>5.000000</td>\n",
       "      <td>17.000000</td>\n",
       "      <td>5.300000e+03</td>\n",
       "      <td>NaN</td>\n",
       "      <td>NaN</td>\n",
       "      <td>8.000000</td>\n",
       "    </tr>\n",
       "    <tr>\n",
       "      <th>75%</th>\n",
       "      <td>NaN</td>\n",
       "      <td>NaN</td>\n",
       "      <td>NaN</td>\n",
       "      <td>NaN</td>\n",
       "      <td>NaN</td>\n",
       "      <td>NaN</td>\n",
       "      <td>NaN</td>\n",
       "      <td>NaN</td>\n",
       "      <td>1.310000e+02</td>\n",
       "      <td>17.000000</td>\n",
       "      <td>NaN</td>\n",
       "      <td>NaN</td>\n",
       "      <td>NaN</td>\n",
       "      <td>NaN</td>\n",
       "      <td>NaN</td>\n",
       "      <td>180.000000</td>\n",
       "      <td>6.500000</td>\n",
       "      <td>22.000000</td>\n",
       "      <td>1.100000e+04</td>\n",
       "      <td>NaN</td>\n",
       "      <td>NaN</td>\n",
       "      <td>13.000000</td>\n",
       "    </tr>\n",
       "    <tr>\n",
       "      <th>max</th>\n",
       "      <td>NaN</td>\n",
       "      <td>NaN</td>\n",
       "      <td>NaN</td>\n",
       "      <td>NaN</td>\n",
       "      <td>NaN</td>\n",
       "      <td>NaN</td>\n",
       "      <td>NaN</td>\n",
       "      <td>NaN</td>\n",
       "      <td>9.000000e+08</td>\n",
       "      <td>456.000000</td>\n",
       "      <td>NaN</td>\n",
       "      <td>NaN</td>\n",
       "      <td>NaN</td>\n",
       "      <td>NaN</td>\n",
       "      <td>NaN</td>\n",
       "      <td>123456.000000</td>\n",
       "      <td>315375.000000</td>\n",
       "      <td>135000.000000</td>\n",
       "      <td>1.742304e+12</td>\n",
       "      <td>NaN</td>\n",
       "      <td>NaN</td>\n",
       "      <td>825.000000</td>\n",
       "    </tr>\n",
       "  </tbody>\n",
       "</table>\n",
       "</div>"
      ],
      "text/plain": [
       "         list_time       ward         area       region property_status  \\\n",
       "count       220903     220805       220901       220903           13038   \n",
       "unique         374        690           48            3               2   \n",
       "top     07/11/2021  Phường 12  Quận Gò Vấp  Hồ Chí Minh     Đã bàn giao   \n",
       "freq         27914       7559        20650       185480            9125   \n",
       "mean           NaN        NaN          NaN          NaN             NaN   \n",
       "std            NaN        NaN          NaN          NaN             NaN   \n",
       "min            NaN        NaN          NaN          NaN             NaN   \n",
       "25%            NaN        NaN          NaN          NaN             NaN   \n",
       "50%            NaN        NaN          NaN          NaN             NaN   \n",
       "75%            NaN        NaN          NaN          NaN             NaN   \n",
       "max            NaN        NaN          NaN          NaN             NaN   \n",
       "\n",
       "       direction balconydirection property_legal_document     size (m2)  \\\n",
       "count      55567             4305                  175354  2.207430e+05   \n",
       "unique         8                8                       7           NaN   \n",
       "top     Đông Nam         Đông Nam          Sổ hồng/ Sổ đỏ           NaN   \n",
       "freq       10767             1154                   89009           NaN   \n",
       "mean         NaN              NaN                     NaN  1.499812e+04   \n",
       "std          NaN              NaN                     NaN  2.917641e+06   \n",
       "min          NaN              NaN                     NaN  1.000000e+00   \n",
       "25%          NaN              NaN                     NaN  5.500000e+01   \n",
       "50%          NaN              NaN                     NaN  8.000000e+01   \n",
       "75%          NaN              NaN                     NaN  1.310000e+02   \n",
       "max          NaN              NaN                     NaN  9.000000e+08   \n",
       "\n",
       "        floornumber  furnishing_sell apartment_feature   rooms toilets  \\\n",
       "count   3876.000000            26166              2881  170759   65152   \n",
       "unique          NaN                4                 1     144       7   \n",
       "top             NaN  Nội thất đầy đủ           Căn góc       2       2   \n",
       "freq            NaN             9634              2881   27630   26926   \n",
       "mean      12.199690              NaN               NaN     NaN     NaN   \n",
       "std       12.160109              NaN               NaN     NaN     NaN   \n",
       "min        1.000000              NaN               NaN     NaN     NaN   \n",
       "25%        6.000000              NaN               NaN     NaN     NaN   \n",
       "50%       10.000000              NaN               NaN     NaN     NaN   \n",
       "75%       17.000000              NaN               NaN     NaN     NaN   \n",
       "max      456.000000              NaN               NaN     NaN     NaN   \n",
       "\n",
       "              floors  living_size (m2)      width (m)     length (m)  \\\n",
       "count         171266      42737.000000  176026.000000  172069.000000   \n",
       "unique            71               NaN            NaN            NaN   \n",
       "top     Nhiều hơn 10               NaN            NaN            NaN   \n",
       "freq           51502               NaN            NaN            NaN   \n",
       "mean             NaN        166.610159      13.660408      29.863471   \n",
       "std              NaN       1126.917752     781.931429     586.439799   \n",
       "min              NaN          1.000000       0.000000       0.000000   \n",
       "25%              NaN         64.000000       4.000000      12.000000   \n",
       "50%              NaN        100.000000       5.000000      17.000000   \n",
       "75%              NaN        180.000000       6.500000      22.000000   \n",
       "max              NaN     123456.000000  315375.000000  135000.000000   \n",
       "\n",
       "        price (million) type_real_estate    website     front_road  \n",
       "count      2.208630e+05           220898     220903  123161.000000  \n",
       "unique              NaN               29          2            NaN  \n",
       "top                 NaN    Nhà trong hẻm  alonhadat            NaN  \n",
       "freq                NaN            56155     125494            NaN  \n",
       "mean       7.903109e+06              NaN        NaN      10.998878  \n",
       "std        3.707341e+09              NaN        NaN      17.637787  \n",
       "min        3.700000e-01              NaN        NaN       0.000000  \n",
       "25%        2.750000e+03              NaN        NaN       5.000000  \n",
       "50%        5.300000e+03              NaN        NaN       8.000000  \n",
       "75%        1.100000e+04              NaN        NaN      13.000000  \n",
       "max        1.742304e+12              NaN        NaN     825.000000  "
      ]
     },
     "execution_count": 68,
     "metadata": {},
     "output_type": "execute_result"
    }
   ],
   "source": [
    "BDS_df.describe(include='all')\n"
   ]
  },
  {
   "cell_type": "code",
   "execution_count": 78,
   "metadata": {},
   "outputs": [],
   "source": [
    "BDS_df.replace({'Thị xã Dĩ An': 'Thành phố Dĩ An',\n",
    "                'Thành phố Biên Hoà': 'Thành phố Biên Hòa',\n",
    "                'Quận Thủ Đức': 'Thành phố Thủ Đức'}, inplace=True)\n"
   ]
  },
  {
   "cell_type": "code",
   "execution_count": 79,
   "metadata": {},
   "outputs": [
    {
     "data": {
      "text/html": [
       "<div>\n",
       "<style scoped>\n",
       "    .dataframe tbody tr th:only-of-type {\n",
       "        vertical-align: middle;\n",
       "    }\n",
       "\n",
       "    .dataframe tbody tr th {\n",
       "        vertical-align: top;\n",
       "    }\n",
       "\n",
       "    .dataframe thead th {\n",
       "        text-align: right;\n",
       "    }\n",
       "</style>\n",
       "<table border=\"1\" class=\"dataframe\">\n",
       "  <thead>\n",
       "    <tr style=\"text-align: right;\">\n",
       "      <th></th>\n",
       "      <th></th>\n",
       "    </tr>\n",
       "    <tr>\n",
       "      <th>area</th>\n",
       "      <th>region</th>\n",
       "    </tr>\n",
       "  </thead>\n",
       "  <tbody>\n",
       "    <tr>\n",
       "      <th>Huyện Bàu Bàng</th>\n",
       "      <th>Bình Dương</th>\n",
       "    </tr>\n",
       "    <tr>\n",
       "      <th>Thành phố Thủ Dầu Một</th>\n",
       "      <th>Bình Dương</th>\n",
       "    </tr>\n",
       "    <tr>\n",
       "      <th>Thành phố Thuận An</th>\n",
       "      <th>Bình Dương</th>\n",
       "    </tr>\n",
       "    <tr>\n",
       "      <th>Thành phố Dĩ An</th>\n",
       "      <th>Bình Dương</th>\n",
       "    </tr>\n",
       "    <tr>\n",
       "      <th>Thị xã Bến Cát</th>\n",
       "      <th>Bình Dương</th>\n",
       "    </tr>\n",
       "    <tr>\n",
       "      <th>Huyện Phú Giáo</th>\n",
       "      <th>Bình Dương</th>\n",
       "    </tr>\n",
       "    <tr>\n",
       "      <th>Thị xã Tân Uyên</th>\n",
       "      <th>Bình Dương</th>\n",
       "    </tr>\n",
       "    <tr>\n",
       "      <th>Huyện Dầu Tiếng</th>\n",
       "      <th>Bình Dương</th>\n",
       "    </tr>\n",
       "    <tr>\n",
       "      <th>Huyện Bắc Tân Uyên</th>\n",
       "      <th>Bình Dương</th>\n",
       "    </tr>\n",
       "    <tr>\n",
       "      <th>Quận 7</th>\n",
       "      <th>Hồ Chí Minh</th>\n",
       "    </tr>\n",
       "    <tr>\n",
       "      <th>Quận 8</th>\n",
       "      <th>Hồ Chí Minh</th>\n",
       "    </tr>\n",
       "    <tr>\n",
       "      <th>Quận 9</th>\n",
       "      <th>Hồ Chí Minh</th>\n",
       "    </tr>\n",
       "    <tr>\n",
       "      <th>Quận Bình Thạnh</th>\n",
       "      <th>Hồ Chí Minh</th>\n",
       "    </tr>\n",
       "    <tr>\n",
       "      <th>Quận Bình Tân</th>\n",
       "      <th>Hồ Chí Minh</th>\n",
       "    </tr>\n",
       "    <tr>\n",
       "      <th>Quận Bắc Từ Liêm</th>\n",
       "      <th>Hồ Chí Minh</th>\n",
       "    </tr>\n",
       "    <tr>\n",
       "      <th>Huyện Hóc Môn</th>\n",
       "      <th>Hồ Chí Minh</th>\n",
       "    </tr>\n",
       "    <tr>\n",
       "      <th>Quận Phú Nhuận</th>\n",
       "      <th>Hồ Chí Minh</th>\n",
       "    </tr>\n",
       "    <tr>\n",
       "      <th>Quận Tân Bình</th>\n",
       "      <th>Hồ Chí Minh</th>\n",
       "    </tr>\n",
       "    <tr>\n",
       "      <th>Quận Tân Phú</th>\n",
       "      <th>Hồ Chí Minh</th>\n",
       "    </tr>\n",
       "    <tr>\n",
       "      <th>Huyện Cần Giờ</th>\n",
       "      <th>Hồ Chí Minh</th>\n",
       "    </tr>\n",
       "    <tr>\n",
       "      <th>Huyện Bình Chánh</th>\n",
       "      <th>Hồ Chí Minh</th>\n",
       "    </tr>\n",
       "    <tr>\n",
       "      <th>Thành phố Thủ Đức</th>\n",
       "      <th>Hồ Chí Minh</th>\n",
       "    </tr>\n",
       "    <tr>\n",
       "      <th>Quận 6</th>\n",
       "      <th>Hồ Chí Minh</th>\n",
       "    </tr>\n",
       "    <tr>\n",
       "      <th>Quận Gò Vấp</th>\n",
       "      <th>Hồ Chí Minh</th>\n",
       "    </tr>\n",
       "    <tr>\n",
       "      <th>Quận 5</th>\n",
       "      <th>Hồ Chí Minh</th>\n",
       "    </tr>\n",
       "    <tr>\n",
       "      <th>Quận 3</th>\n",
       "      <th>Hồ Chí Minh</th>\n",
       "    </tr>\n",
       "    <tr>\n",
       "      <th>Huyện Nhà Bè</th>\n",
       "      <th>Hồ Chí Minh</th>\n",
       "    </tr>\n",
       "    <tr>\n",
       "      <th>Huyện Củ Chi</th>\n",
       "      <th>Hồ Chí Minh</th>\n",
       "    </tr>\n",
       "    <tr>\n",
       "      <th>Quận 4</th>\n",
       "      <th>Hồ Chí Minh</th>\n",
       "    </tr>\n",
       "    <tr>\n",
       "      <th>Quận 1</th>\n",
       "      <th>Hồ Chí Minh</th>\n",
       "    </tr>\n",
       "    <tr>\n",
       "      <th>Quận 2</th>\n",
       "      <th>Hồ Chí Minh</th>\n",
       "    </tr>\n",
       "    <tr>\n",
       "      <th>Quận 11</th>\n",
       "      <th>Hồ Chí Minh</th>\n",
       "    </tr>\n",
       "    <tr>\n",
       "      <th>Quận 12</th>\n",
       "      <th>Hồ Chí Minh</th>\n",
       "    </tr>\n",
       "    <tr>\n",
       "      <th>Quận 10</th>\n",
       "      <th>Hồ Chí Minh</th>\n",
       "    </tr>\n",
       "    <tr>\n",
       "      <th>Huyện Định Quán</th>\n",
       "      <th>Đồng Nai</th>\n",
       "    </tr>\n",
       "    <tr>\n",
       "      <th>Huyện Xuân Lộc</th>\n",
       "      <th>Đồng Nai</th>\n",
       "    </tr>\n",
       "    <tr>\n",
       "      <th>Huyện Vĩnh Cửu</th>\n",
       "      <th>Đồng Nai</th>\n",
       "    </tr>\n",
       "    <tr>\n",
       "      <th>Huyện Trảng Bom</th>\n",
       "      <th>Đồng Nai</th>\n",
       "    </tr>\n",
       "    <tr>\n",
       "      <th>Huyện Thống Nhất</th>\n",
       "      <th>Đồng Nai</th>\n",
       "    </tr>\n",
       "    <tr>\n",
       "      <th>Thành phố Biên Hòa</th>\n",
       "      <th>Đồng Nai</th>\n",
       "    </tr>\n",
       "    <tr>\n",
       "      <th>Thành phố Long Khánh</th>\n",
       "      <th>Đồng Nai</th>\n",
       "    </tr>\n",
       "    <tr>\n",
       "      <th>Huyện Nhơn Trạch</th>\n",
       "      <th>Đồng Nai</th>\n",
       "    </tr>\n",
       "    <tr>\n",
       "      <th>Huyện Cẩm Mỹ</th>\n",
       "      <th>Đồng Nai</th>\n",
       "    </tr>\n",
       "    <tr>\n",
       "      <th>Huyện Long Thành</th>\n",
       "      <th>Đồng Nai</th>\n",
       "    </tr>\n",
       "    <tr>\n",
       "      <th>Huyện Tân Phú</th>\n",
       "      <th>Đồng Nai</th>\n",
       "    </tr>\n",
       "  </tbody>\n",
       "</table>\n",
       "</div>"
      ],
      "text/plain": [
       "Empty DataFrame\n",
       "Columns: []\n",
       "Index: [(Huyện Bàu Bàng, Bình Dương), (Thành phố Thủ Dầu Một, Bình Dương), (Thành phố Thuận An, Bình Dương), (Thành phố Dĩ An, Bình Dương), (Thị xã Bến Cát, Bình Dương), (Huyện Phú Giáo, Bình Dương), (Thị xã Tân Uyên, Bình Dương), (Huyện Dầu Tiếng, Bình Dương), (Huyện Bắc Tân Uyên, Bình Dương), (Quận 7, Hồ Chí Minh), (Quận 8, Hồ Chí Minh), (Quận 9, Hồ Chí Minh), (Quận Bình Thạnh, Hồ Chí Minh), (Quận Bình Tân, Hồ Chí Minh), (Quận Bắc Từ Liêm, Hồ Chí Minh), (Huyện Hóc Môn, Hồ Chí Minh), (Quận Phú Nhuận, Hồ Chí Minh), (Quận Tân Bình, Hồ Chí Minh), (Quận Tân Phú, Hồ Chí Minh), (Huyện Cần Giờ, Hồ Chí Minh), (Huyện Bình Chánh, Hồ Chí Minh), (Thành phố Thủ Đức, Hồ Chí Minh), (Quận 6, Hồ Chí Minh), (Quận Gò Vấp, Hồ Chí Minh), (Quận 5, Hồ Chí Minh), (Quận 3, Hồ Chí Minh), (Huyện Nhà Bè, Hồ Chí Minh), (Huyện Củ Chi, Hồ Chí Minh), (Quận 4, Hồ Chí Minh), (Quận 1, Hồ Chí Minh), (Quận 2, Hồ Chí Minh), (Quận 11, Hồ Chí Minh), (Quận 12, Hồ Chí Minh), (Quận 10, Hồ Chí Minh), (Huyện Định Quán, Đồng Nai), (Huyện Xuân Lộc, Đồng Nai), (Huyện Vĩnh Cửu, Đồng Nai), (Huyện Trảng Bom, Đồng Nai), (Huyện Thống Nhất, Đồng Nai), (Thành phố Biên Hòa, Đồng Nai), (Thành phố Long Khánh, Đồng Nai), (Huyện Nhơn Trạch, Đồng Nai), (Huyện Cẩm Mỹ, Đồng Nai), (Huyện Long Thành, Đồng Nai), (Huyện Tân Phú, Đồng Nai)]"
      ]
     },
     "execution_count": 79,
     "metadata": {},
     "output_type": "execute_result"
    }
   ],
   "source": [
    "region_cols = ['area', 'region']\n",
    "BDS_df[region_cols].groupby(\n",
    "    region_cols).sum().sort_values(axis=0, by=['region'])\n"
   ]
  },
  {
   "cell_type": "code",
   "execution_count": 83,
   "metadata": {},
   "outputs": [
    {
     "data": {
      "text/plain": [
       "array([nan, 16, 7, 4, 12, 1, 14, 18, 11, 10, 9, 3, 29, 2, 15, 22, 21, 8,\n",
       "       19, 6, 20, 35, 23, 27, 28, 5, 25, 24, 34, 13, 30, 17, 26, 40, 37,\n",
       "       36, 32, 33, 38, 47, 39, 31, 41, 45, 456, 48, 320, 132, 44],\n",
       "      dtype=object)"
      ]
     },
     "execution_count": 83,
     "metadata": {},
     "output_type": "execute_result"
    }
   ],
   "source": [
    "BDS_df['floornumber'].unique()"
   ]
  },
  {
   "cell_type": "code",
   "execution_count": 89,
   "metadata": {},
   "outputs": [
    {
     "data": {
      "text/plain": [
       "array([16, 7, 4, 12, 1, 14, 18, 11, 10, 9, 3, 29, 2, 15, 22, 21, 8, 19, 6,\n",
       "       20, 35, 23, 27, 28, 5, 25, 24, 34, 13, 30, 17, 26, 40, 37, 36, 32,\n",
       "       33, 38, 47, 39, 31, 41, 45, 48, 44], dtype=object)"
      ]
     },
     "execution_count": 89,
     "metadata": {},
     "output_type": "execute_result"
    }
   ],
   "source": [
    "BDS_df.loc[BDS_df['floornumber']<= 48,'floornumber'].unique()"
   ]
  },
  {
   "cell_type": "code",
   "execution_count": 25,
   "metadata": {},
   "outputs": [],
   "source": [
    "BDS_df.to_csv('BDS.csv')\n"
   ]
  },
  {
   "cell_type": "markdown",
   "metadata": {},
   "source": [
    "## 3.1 Overview\n"
   ]
  },
  {
   "cell_type": "code",
   "execution_count": 26,
   "metadata": {},
   "outputs": [
    {
     "data": {
      "text/html": [
       "<div>\n",
       "<style scoped>\n",
       "    .dataframe tbody tr th:only-of-type {\n",
       "        vertical-align: middle;\n",
       "    }\n",
       "\n",
       "    .dataframe tbody tr th {\n",
       "        vertical-align: top;\n",
       "    }\n",
       "\n",
       "    .dataframe thead th {\n",
       "        text-align: right;\n",
       "    }\n",
       "</style>\n",
       "<table border=\"1\" class=\"dataframe\">\n",
       "  <thead>\n",
       "    <tr style=\"text-align: right;\">\n",
       "      <th></th>\n",
       "      <th>list_time</th>\n",
       "      <th>ward</th>\n",
       "      <th>area</th>\n",
       "      <th>region</th>\n",
       "      <th>property_status</th>\n",
       "      <th>direction</th>\n",
       "      <th>balconydirection</th>\n",
       "      <th>property_legal_document</th>\n",
       "      <th>size (m2)</th>\n",
       "      <th>floornumber</th>\n",
       "      <th>furnishing_sell</th>\n",
       "      <th>apartment_feature</th>\n",
       "      <th>rooms</th>\n",
       "      <th>toilets</th>\n",
       "      <th>floors</th>\n",
       "      <th>living_size (m2)</th>\n",
       "      <th>width (m)</th>\n",
       "      <th>length (m)</th>\n",
       "      <th>price (million)</th>\n",
       "      <th>type_real_estate</th>\n",
       "      <th>website</th>\n",
       "      <th>front_road</th>\n",
       "    </tr>\n",
       "  </thead>\n",
       "  <tbody>\n",
       "    <tr>\n",
       "      <th>47178</th>\n",
       "      <td>01/11/2021</td>\n",
       "      <td>Phường 15</td>\n",
       "      <td>Quận Tân Bình</td>\n",
       "      <td>Hồ Chí Minh</td>\n",
       "      <td>NaN</td>\n",
       "      <td>NaN</td>\n",
       "      <td>NaN</td>\n",
       "      <td>Đã có sổ</td>\n",
       "      <td>56.0</td>\n",
       "      <td>NaN</td>\n",
       "      <td>NaN</td>\n",
       "      <td>NaN</td>\n",
       "      <td>2</td>\n",
       "      <td>1</td>\n",
       "      <td>Nhiều hơn 10</td>\n",
       "      <td>56.0</td>\n",
       "      <td>4.0</td>\n",
       "      <td>14.0</td>\n",
       "      <td>1.742304e+12</td>\n",
       "      <td>Nhà ngõ</td>\n",
       "      <td>Chotot</td>\n",
       "      <td>NaN</td>\n",
       "    </tr>\n",
       "  </tbody>\n",
       "</table>\n",
       "</div>"
      ],
      "text/plain": [
       "        list_time       ward           area       region property_status  \\\n",
       "47178  01/11/2021  Phường 15  Quận Tân Bình  Hồ Chí Minh             NaN   \n",
       "\n",
       "      direction balconydirection property_legal_document  size (m2)  \\\n",
       "47178       NaN              NaN                Đã có sổ       56.0   \n",
       "\n",
       "       floornumber furnishing_sell apartment_feature rooms toilets  \\\n",
       "47178          NaN             NaN               NaN     2       1   \n",
       "\n",
       "             floors  living_size (m2)  width (m)  length (m)  price (million)  \\\n",
       "47178  Nhiều hơn 10              56.0        4.0        14.0     1.742304e+12   \n",
       "\n",
       "      type_real_estate website  front_road  \n",
       "47178          Nhà ngõ  Chotot         NaN  "
      ]
     },
     "execution_count": 26,
     "metadata": {},
     "output_type": "execute_result"
    }
   ],
   "source": [
    "BDS_df.loc[BDS_df['price (million)'] == max(BDS_df['price (million)']), :]\n"
   ]
  },
  {
   "cell_type": "code",
   "execution_count": 27,
   "metadata": {},
   "outputs": [
    {
     "data": {
      "text/plain": [
       "0.9512319887009231"
      ]
     },
     "execution_count": 27,
     "metadata": {},
     "output_type": "execute_result"
    }
   ],
   "source": [
    "len(BDS_df[BDS_df['price (million)'] < 50000]) / len(BDS_df)  # nho hon 50 ty\n"
   ]
  },
  {
   "cell_type": "code",
   "execution_count": 28,
   "metadata": {},
   "outputs": [
    {
     "name": "stdout",
     "output_type": "stream",
     "text": [
      "count    2.208630e+05\n",
      "mean     7.903109e+06\n",
      "std      3.707341e+09\n",
      "min      3.700000e-01\n",
      "25%      2.750000e+03\n",
      "50%      5.300000e+03\n",
      "75%      1.100000e+04\n",
      "max      1.742304e+12\n",
      "Name: price (million), dtype: float64\n"
     ]
    },
    {
     "data": {
      "text/plain": [
       "<Figure size 1440x576 with 0 Axes>"
      ]
     },
     "execution_count": 28,
     "metadata": {},
     "output_type": "execute_result"
    },
    {
     "data": {
      "text/plain": [
       "<AxesSubplot:xlabel='price (million)', ylabel='Count'>"
      ]
     },
     "execution_count": 28,
     "metadata": {},
     "output_type": "execute_result"
    },
    {
     "data": {
      "image/png": "[encoded data removed]",
      "text/plain": [
       "<Figure size 1440x576 with 1 Axes>"
      ]
     },
     "metadata": {
      "needs_background": "light"
     },
     "output_type": "display_data"
    }
   ],
   "source": [
    "print(BDS_df['price (million)'].describe())\n",
    "plt.figure(figsize=(20, 8))\n",
    "sns.histplot(BDS_df[BDS_df['price (million)'] < 50000]\n",
    "             ['price (million)'], bins=\"auto\")\n"
   ]
  },
  {
   "cell_type": "markdown",
   "metadata": {},
   "source": [
    "## 3.2 Numeric variables\n"
   ]
  },
  {
   "cell_type": "code",
   "execution_count": 29,
   "metadata": {},
   "outputs": [
    {
     "data": {
      "text/plain": [
       "<Figure size 1440x576 with 0 Axes>"
      ]
     },
     "execution_count": 29,
     "metadata": {},
     "output_type": "execute_result"
    },
    {
     "data": {
      "text/plain": [
       "<AxesSubplot:xlabel='size (m2)', ylabel='Count'>"
      ]
     },
     "execution_count": 29,
     "metadata": {},
     "output_type": "execute_result"
    },
    {
     "data": {
      "text/plain": [
       "<Figure size 1440x576 with 0 Axes>"
      ]
     },
     "execution_count": 29,
     "metadata": {},
     "output_type": "execute_result"
    },
    {
     "data": {
      "text/plain": [
       "<AxesSubplot:xlabel='floornumber', ylabel='Count'>"
      ]
     },
     "execution_count": 29,
     "metadata": {},
     "output_type": "execute_result"
    },
    {
     "data": {
      "text/plain": [
       "<Figure size 1440x576 with 0 Axes>"
      ]
     },
     "execution_count": 29,
     "metadata": {},
     "output_type": "execute_result"
    },
    {
     "data": {
      "text/plain": [
       "<AxesSubplot:xlabel='living_size (m2)', ylabel='Count'>"
      ]
     },
     "execution_count": 29,
     "metadata": {},
     "output_type": "execute_result"
    },
    {
     "data": {
      "text/plain": [
       "<Figure size 1440x576 with 0 Axes>"
      ]
     },
     "execution_count": 29,
     "metadata": {},
     "output_type": "execute_result"
    },
    {
     "data": {
      "text/plain": [
       "<AxesSubplot:xlabel='width (m)', ylabel='Count'>"
      ]
     },
     "execution_count": 29,
     "metadata": {},
     "output_type": "execute_result"
    },
    {
     "data": {
      "text/plain": [
       "<Figure size 1440x576 with 0 Axes>"
      ]
     },
     "execution_count": 29,
     "metadata": {},
     "output_type": "execute_result"
    },
    {
     "data": {
      "text/plain": [
       "<AxesSubplot:xlabel='length (m)', ylabel='Count'>"
      ]
     },
     "execution_count": 29,
     "metadata": {},
     "output_type": "execute_result"
    },
    {
     "data": {
      "text/plain": [
       "<Figure size 1440x576 with 0 Axes>"
      ]
     },
     "execution_count": 29,
     "metadata": {},
     "output_type": "execute_result"
    },
    {
     "data": {
      "text/plain": [
       "<AxesSubplot:xlabel='price (million)', ylabel='Count'>"
      ]
     },
     "execution_count": 29,
     "metadata": {},
     "output_type": "execute_result"
    },
    {
     "data": {
      "text/plain": [
       "<Figure size 1440x576 with 0 Axes>"
      ]
     },
     "execution_count": 29,
     "metadata": {},
     "output_type": "execute_result"
    },
    {
     "data": {
      "text/plain": [
       "<AxesSubplot:xlabel='front_road', ylabel='Count'>"
      ]
     },
     "execution_count": 29,
     "metadata": {},
     "output_type": "execute_result"
    },
    {
     "data": {
      "image/png": "[encoded data removed]",
      "text/plain": [
       "<Figure size 1440x576 with 1 Axes>"
      ]
     },
     "metadata": {
      "needs_background": "light"
     },
     "output_type": "display_data"
    },
    {
     "data": {
      "image/png": "[encoded data removed]",
      "text/plain": [
       "<Figure size 1440x576 with 1 Axes>"
      ]
     },
     "metadata": {
      "needs_background": "light"
     },
     "output_type": "display_data"
    },
    {
     "data": {
      "image/png": "[encoded data removed]",
      "text/plain": [
       "<Figure size 1440x576 with 1 Axes>"
      ]
     },
     "metadata": {
      "needs_background": "light"
     },
     "output_type": "display_data"
    },
    {
     "data": {
      "image/png": "[encoded data removed]",
      "text/plain": [
       "<Figure size 1440x576 with 1 Axes>"
      ]
     },
     "metadata": {
      "needs_background": "light"
     },
     "output_type": "display_data"
    },
    {
     "data": {
      "image/png": "[encoded data removed]",
      "text/plain": [
       "<Figure size 1440x576 with 1 Axes>"
      ]
     },
     "metadata": {
      "needs_background": "light"
     },
     "output_type": "display_data"
    },
    {
     "data": {
      "image/png": "[encoded data removed]",
      "text/plain": [
       "<Figure size 1440x576 with 1 Axes>"
      ]
     },
     "metadata": {
      "needs_background": "light"
     },
     "output_type": "display_data"
    },
    {
     "data": {
      "image/png": "[encoded data removed]",
      "text/plain": [
       "<Figure size 1440x576 with 1 Axes>"
      ]
     },
     "metadata": {
      "needs_background": "light"
     },
     "output_type": "display_data"
    }
   ],
   "source": [
    "for col in BDS_df.columns:\n",
    "    if BDS_df[col].dtypes == 'float':\n",
    "        quant = BDS_df[col].quantile(0.95)\n",
    "        plt.figure(figsize=(20, 8))\n",
    "        sns.histplot(BDS_df[BDS_df[col] < quant][col], bins=\"auto\")\n"
   ]
  },
  {
   "cell_type": "markdown",
   "metadata": {},
   "source": [
    "## 3.3 Categorical variables\n"
   ]
  },
  {
   "cell_type": "code",
   "execution_count": null,
   "metadata": {},
   "outputs": [],
   "source": [
    "for col in BDS_df.columns:\n",
    "    if BDS_df[col].dtypes == 'object' and col not in ['list_time', 'ward']:\n",
    "        if col in ['area', 'type_real_estate', 'rooms', 'floors', 'floornumber']:\n",
    "            plt.figure(figsize=(25, 8))\n",
    "        else:\n",
    "            plt.figure(figsize=(10, 6))\n",
    "        ax = sns.boxplot(x=col, y='price (million)',\n",
    "                         data=BDS_df[BDS_df['price (million)'] < 50000])\n",
    "        plt.setp(ax.artists, alpha=.5, linewidth=2, edgecolor=\"k\")\n",
    "        plt.xticks(rotation=45)\n"
   ]
  },
  {
   "cell_type": "code",
   "execution_count": null,
   "metadata": {},
   "outputs": [],
   "source": []
  }
 ],
 "metadata": {
  "interpreter": {
   "hash": "31f2aee4e71d21fbe5cf8b01ff0e069b9275f58929596ceb00d14d90e3e16cd6"
  },
  "kernelspec": {
   "display_name": "Python 3.8.10 64-bit",
   "language": "python",
   "name": "python3"
  },
  "language_info": {
   "codemirror_mode": {
    "name": "ipython",
    "version": 3
   },
   "file_extension": ".py",
   "mimetype": "text/x-python",
   "name": "python",
   "nbconvert_exporter": "python",
   "pygments_lexer": "ipython3",
   "version": "3.8.10"
  },
  "orig_nbformat": 4
 },
 "nbformat": 4,
 "nbformat_minor": 2
}
