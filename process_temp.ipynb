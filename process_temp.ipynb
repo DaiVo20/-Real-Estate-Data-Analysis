{
 "cells": [
  {
   "cell_type": "code",
   "execution_count": 1,
   "metadata": {},
   "outputs": [
    {
     "name": "stderr",
     "output_type": "stream",
     "text": [
      "C:\\Program Files (x86)\\Python\\Python39\\lib\\site-packages\\numpy\\_distributor_init.py:30: UserWarning: loaded more than 1 DLL from .libs:\n",
      "C:\\Program Files (x86)\\Python\\Python39\\lib\\site-packages\\numpy\\.libs\\libopenblas.JPIJNSWNNAN3CE6LLI5FWSPHUT2VXMTH.gfortran-win_amd64.dll\n",
      "C:\\Program Files (x86)\\Python\\Python39\\lib\\site-packages\\numpy\\.libs\\libopenblas.WCDJNK7YVMPZQ2ME2ZZHJJRJ3JIKNDB7.gfortran-win_amd64.dll\n",
      "  warnings.warn(\"loaded more than 1 DLL from .libs:\"\n"
     ]
    }
   ],
   "source": [
    "import os\n",
    "from IPython.core.interactiveshell import InteractiveShell\n",
    "import numpy as np\n",
    "import pandas as pd\n",
    "from DataPreProcessor import DataPreProcessor\n",
    "import warnings\n",
    "\n",
    "warnings.filterwarnings('ignore')\n",
    "InteractiveShell.ast_node_interactivity = \"all\"\n",
    "\n",
    "pd.set_option('display.max_rows', None)\n",
    "pd.set_option('display.max_columns', None)\n",
    "pd.set_option('display.width', None)\n",
    "pd.set_option('display.max_colwidth', None)\n",
    "pd.options.display.max_rows"
   ]
  },
  {
   "cell_type": "code",
   "execution_count": 2,
   "metadata": {},
   "outputs": [],
   "source": [
    "ROOT = 'AloNhaDat'\n",
    "PATH_DATA = os.path.join(ROOT, 'AloNhaDat.csv')\n",
    "df = pd.read_csv(PATH_DATA)"
   ]
  },
  {
   "cell_type": "code",
   "execution_count": 3,
   "metadata": {},
   "outputs": [],
   "source": [
    "p = DataPreProcessor(df)"
   ]
  },
  {
   "cell_type": "code",
   "execution_count": 4,
   "metadata": {},
   "outputs": [],
   "source": [
    "# Xóa các khoảng trắng dư trên tên thuộc tính và toàn bộ các giá trị trong tập dữ liệu\n",
    "p.remove_excess_whitespace(on_cell=True, on_column_name=True)"
   ]
  },
  {
   "cell_type": "code",
   "execution_count": 5,
   "metadata": {},
   "outputs": [
    {
     "data": {
      "text/plain": [
       "Index(['city', 'date', 'direction', 'district', 'floors', 'front_road', 'id',\n",
       "       'length', 'price', 'property_legal_document', 'rooms', 'size',\n",
       "       'type_adv', 'type_real_estate', 'ward', 'width'],\n",
       "      dtype='object')"
      ]
     },
     "execution_count": 5,
     "metadata": {},
     "output_type": "execute_result"
    }
   ],
   "source": [
    "df.columns"
   ]
  },
  {
   "cell_type": "code",
   "execution_count": 6,
   "metadata": {},
   "outputs": [],
   "source": [
    "# Thay thế dấu \"_\" hoặc \"-\" bằng np.nan để dễ chuẩn hóa dữ liệu\n",
    "p.replace_value(features=['direction', 'floors', 'property_legal_document', 'rooms', 'length', 'width'],\n",
    "                value_to_replaces=['_', '-', '-', '-', '-', '-'],\n",
    "                replace_values=[np.nan]*6)"
   ]
  },
  {
   "cell_type": "code",
   "execution_count": 7,
   "metadata": {},
   "outputs": [],
   "source": [
    "# Chuyển các giá trị của thuộc tính floors thành kiểu int và thay đổi giá trị lớn hơn 10 thành \"Nhiều hơn 10\"\n",
    "p.convert_to_int('floors')\n",
    "p.replace_value_more_milestone('floors', 10)"
   ]
  },
  {
   "cell_type": "code",
   "execution_count": 8,
   "metadata": {},
   "outputs": [
    {
     "data": {
      "text/plain": [
       "array([2, 'Nhiều hơn 10', 1, 4, 6, 3, 10, 8, 5, 9, 7], dtype=object)"
      ]
     },
     "execution_count": 8,
     "metadata": {},
     "output_type": "execute_result"
    }
   ],
   "source": [
    "p.data['floors'].unique()"
   ]
  },
  {
   "cell_type": "code",
   "execution_count": 9,
   "metadata": {},
   "outputs": [],
   "source": [
    "# Thị xã Dĩ An => Thành phố Dĩ An\n",
    "# Thành phố Biên Hoà => Thành phố Biên Hòa\n",
    "# Quận Thủ Đức => Thành phố Thủ Đức\n",
    "\n",
    "# Chuyển các giá trị trong thuộc tính ward thành nan nếu không bắt đầu bằng Xã, Phường, Thị trấn (startswith)"
   ]
  },
  {
   "cell_type": "code",
   "execution_count": 10,
   "metadata": {},
   "outputs": [],
   "source": [
    "p.replace_value(features=['width', 'front_road', 'length', 'size', 'price'],\n",
    "                value_to_replaces=['.']*5,\n",
    "                replace_values=['']*5)\n"
   ]
  },
  {
   "cell_type": "code",
   "execution_count": null,
   "metadata": {},
   "outputs": [],
   "source": [
    "p.process_feature_unit_alonhadat('width')"
   ]
  },
  {
   "cell_type": "code",
   "execution_count": null,
   "metadata": {},
   "outputs": [],
   "source": [
    "p.process_feature_unit_alonhadat('width', 'front_road', 'length', 'size', 'price')"
   ]
  },
  {
   "cell_type": "code",
   "execution_count": null,
   "metadata": {},
   "outputs": [],
   "source": [
    "df.describe()"
   ]
  },
  {
   "cell_type": "code",
   "execution_count": null,
   "metadata": {},
   "outputs": [],
   "source": [
    "# Ngoại lệ 1: Thuộc tính city có giá trị khác 'Bình Dương', 'Đồng Nai', 'Hồ Chí Minh'\n",
    "# Ngoại lệ 2: Thuộc tính district có các giá trị ngoại lện là 'Mặt tiền Nguyễn Đình Chiểu', 'Quận Bắc Từ Liêm'"
   ]
  }
 ],
 "metadata": {
  "interpreter": {
   "hash": "5f3a43da3465484f8d08df9331c3c35fb16341a24cb5c5d7be011932600800f9"
  },
  "kernelspec": {
   "display_name": "Python 3.9.1 64-bit",
   "language": "python",
   "name": "python3"
  },
  "language_info": {
   "codemirror_mode": {
    "name": "ipython",
    "version": 3
   },
   "file_extension": ".py",
   "mimetype": "text/x-python",
   "name": "python",
   "nbconvert_exporter": "python",
   "pygments_lexer": "ipython3",
   "version": "3.9.1"
  },
  "orig_nbformat": 4
 },
 "nbformat": 4,
 "nbformat_minor": 2
}
