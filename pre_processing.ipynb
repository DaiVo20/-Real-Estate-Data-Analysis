{
 "cells": [
  {
   "cell_type": "code",
   "execution_count": 2,
   "metadata": {},
   "outputs": [],
   "source": [
    "import pandas as pd\n",
    "import numpy as np\n",
    "import os\n",
    "\n",
    "ROOT = 'BatDongSan'\n",
    "PATH_DATA = os.path.join(ROOT, 'chotot.csv')"
   ]
  },
  {
   "cell_type": "code",
   "execution_count": 3,
   "metadata": {},
   "outputs": [],
   "source": [
    "import re\n",
    "from datetime import datetime\n",
    "\n",
    "\n",
    "class DataPreProcessor():\n",
    "\n",
    "    def __init__(self, data):\n",
    "        self.data = data\n",
    "\n",
    "    def __get_number_from_string(self, x):\n",
    "        x = x.lower()\n",
    "        number = int(re.findall(r'\\d+', x)[0])\n",
    "        if 'nhiều hơn' in x:\n",
    "            return str(number) + '+'\n",
    "        return number\n",
    "\n",
    "    def split_number(self, *features):\n",
    "        for feature in features:\n",
    "            self.data[feature] = self.data[feature].apply(\n",
    "                lambda x: self.__get_number_from_string(x) if x is not np.nan else np.nan)\n",
    "\n",
    "    def drop_column(self, features):\n",
    "        self.data.drop(features, axis=1, inplace=True)\n",
    "\n",
    "    def drop_row_nan(self, subset):\n",
    "        self.data.dropna(subset=subset, inplace=True)\n",
    "\n",
    "    def convert_timestamp_to_date(self, feature, format='%d/%m/%Y'):\n",
    "        self.data[feature] = [datetime.fromtimestamp(\n",
    "            x/1000) for x in df[feature]]\n",
    "        self.data[feature] = df[feature].dt.strftime(format)\n",
    "\n",
    "    def check_unique_unit(self, feature):\n",
    "        unit_uniques = []\n",
    "        for value in self.data[feature].unique():\n",
    "            if value is np.nan or isinstance(value, int) or isinstance(value, float):\n",
    "                continue\n",
    "            spl = value.split(' ')\n",
    "            if spl[1] not in unit_uniques:\n",
    "                unit_uniques.append(spl[1])\n",
    "        return unit_uniques\n",
    "\n",
    "    def convert_to_same_unit(self, feature, uniques, converters, add_unit_name=False, unit_name=None):\n",
    "        if len(uniques) != len(converters):\n",
    "            print(\"[ERROR] - Length uniques and converters are not the same\")\n",
    "            return\n",
    "        for idx, item in enumerate(self.data[feature]):\n",
    "            if item is np.nan or isinstance(item, int) or isinstance(item, float):\n",
    "                continue\n",
    "            spl = item.split(' ')\n",
    "            for unit_unique, unit_converter in zip(uniques, converters):\n",
    "                if spl[1] == unit_unique:\n",
    "                    self.data[feature][idx] = float(\n",
    "                        spl[0].replace(',', '.')) * unit_converter\n",
    "                    break\n",
    "                \n",
    "        if add_unit_name:\n",
    "            if unit_name is None:\n",
    "                print(\"[ERROR] - Unit name can not none\")\n",
    "            else:\n",
    "                self.data.rename(columns={feature: f'{feature} ({unit_name})'}, inplace=True)\n",
    "\n",
    "    def convert_unit(self, feature, convert_rate, add_unit_name=False, unit_name=None):\n",
    "        self.data[feature] = self.data[feature].apply(\n",
    "            lambda x: x/convert_rate if x is not np.nan else np.nan)\n",
    "        \n",
    "        if add_unit_name:\n",
    "            if unit_name is None:\n",
    "                print(\"[ERROR] - Unit name can not none\")\n",
    "            else:\n",
    "                self.data.rename(columns={feature: f'{feature} ({unit_name})'}, inplace=True)\n",
    "\n",
    "    def merge_column(self, *features):\n",
    "        return\n",
    "\n",
    "    def save_as_csv(self, file_name):\n",
    "        self.data.to_csv(file_name, index=False)\n"
   ]
  },
  {
   "cell_type": "code",
   "execution_count": 4,
   "metadata": {},
   "outputs": [
    {
     "name": "stderr",
     "output_type": "stream",
     "text": [
      "C:\\Users\\dinhc\\anaconda3\\lib\\site-packages\\IPython\\core\\interactiveshell.py:3172: DtypeWarning: Columns (7,10,14,16,19,24,26) have mixed types.Specify dtype option on import or set low_memory=False.\n",
      "  has_raised = await self.run_ast_nodes(code_ast.body, cell_name,\n"
     ]
    }
   ],
   "source": [
    "df = pd.read_csv(PATH_DATA)"
   ]
  },
  {
   "cell_type": "code",
   "execution_count": 5,
   "metadata": {},
   "outputs": [
    {
     "data": {
      "text/plain": [
       "['id',\n",
       " 'list_time',\n",
       " 'type_real_estate',\n",
       " 'ward',\n",
       " 'area',\n",
       " 'region',\n",
       " 'address',\n",
       " 'property_status',\n",
       " 'price_m2',\n",
       " 'direction',\n",
       " 'balconydirection',\n",
       " 'property_legal_document',\n",
       " 'size',\n",
       " 'floornumber',\n",
       " 'apartment_type',\n",
       " 'furnishing_sell',\n",
       " 'apartment_feature',\n",
       " 'rooms',\n",
       " 'toilets',\n",
       " 'floors',\n",
       " 'house_type',\n",
       " 'living_size',\n",
       " 'width',\n",
       " 'length',\n",
       " 'land_type',\n",
       " 'property_road_condition',\n",
       " 'land_feature',\n",
       " 'property_back_condition',\n",
       " 'price']"
      ]
     },
     "execution_count": 5,
     "metadata": {},
     "output_type": "execute_result"
    }
   ],
   "source": [
    "[i for i in df.columns]"
   ]
  },
  {
   "cell_type": "code",
   "execution_count": 6,
   "metadata": {},
   "outputs": [],
   "source": [
    "p = DataPreProcessor(df)\n",
    "\n",
    "# Drop thuộc tính id và price_m2\n",
    "p.drop_column(['id', 'price_m2'])\n",
    "\n",
    "# Xóa các dòng bị missing của hai thuộc tính là price và list_time\n",
    "p.drop_row_nan(['price'])\n",
    "p.drop_row_nan(['list_time'])\n",
    "\n",
    "# Chuyển thời gian timestamp thành date\n",
    "p.convert_timestamp_to_date('list_time')\n",
    "\n",
    "# Tách lấy số của thuộc tính rooms và toilets\n",
    "p.split_number('rooms', 'toilets')"
   ]
  },
  {
   "cell_type": "code",
   "execution_count": 7,
   "metadata": {},
   "outputs": [
    {
     "data": {
      "text/plain": [
       "['m²', 'm2', 'hecta']"
      ]
     },
     "execution_count": 7,
     "metadata": {},
     "output_type": "execute_result"
    }
   ],
   "source": [
    "# Kiểm tra đơn vị của thuộc tính size\n",
    "unit_unique = p.check_unique_unit('size')\n",
    "unit_unique"
   ]
  },
  {
   "cell_type": "code",
   "execution_count": 8,
   "metadata": {},
   "outputs": [
    {
     "name": "stderr",
     "output_type": "stream",
     "text": [
      "C:\\Users\\dinhc\\AppData\\Local\\Temp/ipykernel_6280/144804426.py:53: SettingWithCopyWarning: \n",
      "A value is trying to be set on a copy of a slice from a DataFrame\n",
      "\n",
      "See the caveats in the documentation: https://pandas.pydata.org/pandas-docs/stable/user_guide/indexing.html#returning-a-view-versus-a-copy\n",
      "  self.data[feature][idx] = float(\n"
     ]
    }
   ],
   "source": [
    "# Đổi các đơn vị của thuộc tính size về cùng một đơn vị theo một tỷ lệ\n",
    "unit_convert = [1, 1, 10000]\n",
    "p.convert_to_same_unit('size', unit_unique, unit_convert, add_unit_name=True, unit_name='m2')"
   ]
  },
  {
   "cell_type": "code",
   "execution_count": 9,
   "metadata": {},
   "outputs": [
    {
     "data": {
      "text/plain": [
       "['m²']"
      ]
     },
     "execution_count": 9,
     "metadata": {},
     "output_type": "execute_result"
    }
   ],
   "source": [
    "# Kiểm tra đơn vị của thuộc tính living_size\n",
    "unit_unique = p.check_unique_unit('living_size')\n",
    "unit_unique"
   ]
  },
  {
   "cell_type": "code",
   "execution_count": 10,
   "metadata": {},
   "outputs": [
    {
     "name": "stderr",
     "output_type": "stream",
     "text": [
      "C:\\Users\\dinhc\\AppData\\Local\\Temp/ipykernel_6280/144804426.py:53: SettingWithCopyWarning: \n",
      "A value is trying to be set on a copy of a slice from a DataFrame\n",
      "\n",
      "See the caveats in the documentation: https://pandas.pydata.org/pandas-docs/stable/user_guide/indexing.html#returning-a-view-versus-a-copy\n",
      "  self.data[feature][idx] = float(\n"
     ]
    }
   ],
   "source": [
    "# Đổi các đơn vị của thuộc tính living_size về cùng một đơn vị theo một tỷ lệ\n",
    "unit_convert = [1]\n",
    "p.convert_to_same_unit('living_size', unit_unique, unit_convert, add_unit_name=True, unit_name='m2')"
   ]
  },
  {
   "cell_type": "code",
   "execution_count": 11,
   "metadata": {},
   "outputs": [
    {
     "data": {
      "text/plain": [
       "['m']"
      ]
     },
     "execution_count": 11,
     "metadata": {},
     "output_type": "execute_result"
    }
   ],
   "source": [
    "# Kiểm tra đơn vị của thuộc tính width\n",
    "unit_unique = p.check_unique_unit('width')\n",
    "unit_unique"
   ]
  },
  {
   "cell_type": "code",
   "execution_count": 12,
   "metadata": {},
   "outputs": [
    {
     "name": "stderr",
     "output_type": "stream",
     "text": [
      "C:\\Users\\dinhc\\AppData\\Local\\Temp/ipykernel_6280/144804426.py:53: SettingWithCopyWarning: \n",
      "A value is trying to be set on a copy of a slice from a DataFrame\n",
      "\n",
      "See the caveats in the documentation: https://pandas.pydata.org/pandas-docs/stable/user_guide/indexing.html#returning-a-view-versus-a-copy\n",
      "  self.data[feature][idx] = float(\n"
     ]
    }
   ],
   "source": [
    "# Đổi các đơn vị của thuộc tính width về cùng một đơn vị theo một tỷ lệ\n",
    "unit_convert = [1]\n",
    "p.convert_to_same_unit('width', unit_unique, unit_convert, add_unit_name=True, unit_name='m')"
   ]
  },
  {
   "cell_type": "code",
   "execution_count": 13,
   "metadata": {},
   "outputs": [
    {
     "data": {
      "text/plain": [
       "['m']"
      ]
     },
     "execution_count": 13,
     "metadata": {},
     "output_type": "execute_result"
    }
   ],
   "source": [
    "# Kiểm tra đơn vị của thuộc tính length\n",
    "unit_unique = p.check_unique_unit('length')\n",
    "unit_unique"
   ]
  },
  {
   "cell_type": "code",
   "execution_count": 14,
   "metadata": {},
   "outputs": [
    {
     "name": "stderr",
     "output_type": "stream",
     "text": [
      "C:\\Users\\dinhc\\AppData\\Local\\Temp/ipykernel_6280/144804426.py:53: SettingWithCopyWarning: \n",
      "A value is trying to be set on a copy of a slice from a DataFrame\n",
      "\n",
      "See the caveats in the documentation: https://pandas.pydata.org/pandas-docs/stable/user_guide/indexing.html#returning-a-view-versus-a-copy\n",
      "  self.data[feature][idx] = float(\n"
     ]
    }
   ],
   "source": [
    "# Đổi các đơn vị của thuộc tính length về cùng một đơn vị theo một tỷ lệ\n",
    "unit_convert = [1]\n",
    "p.convert_to_same_unit('length', unit_unique, unit_convert, add_unit_name=True, unit_name='m')"
   ]
  },
  {
   "cell_type": "code",
   "execution_count": 15,
   "metadata": {},
   "outputs": [],
   "source": [
    "# Chuyển đổi giá của thuộc tính size từ đơn vị đồng về triệu\n",
    "p.convert_unit('price', 1000000, add_unit_name=True, unit_name='million')"
   ]
  },
  {
   "cell_type": "code",
   "execution_count": 16,
   "metadata": {},
   "outputs": [],
   "source": [
    "# Xuất ra file csv\n",
    "p.save_as_csv('chotot_cleaned.csv')"
   ]
  },
  {
   "cell_type": "code",
   "execution_count": 17,
   "metadata": {},
   "outputs": [
    {
     "name": "stdout",
     "output_type": "stream",
     "text": [
      "Feature: list_time\n",
      "['05/11/2021' '04/11/2021' '03/11/2021' '02/11/2021' '01/11/2021'\n",
      " '31/10/2021' '30/10/2021' '29/10/2021' '28/10/2021' '27/10/2021'\n",
      " '26/10/2021' '25/10/2021' '24/10/2021' '23/10/2021' '22/10/2021'\n",
      " '21/10/2021' '20/10/2021' '19/10/2021' '18/10/2021' '17/10/2021'\n",
      " '16/10/2021' '15/10/2021' '14/10/2021' '13/10/2021' '12/10/2021'\n",
      " '11/10/2021' '10/10/2021' '09/10/2021' '08/10/2021' '07/10/2021'\n",
      " '06/10/2021' '05/10/2021' '04/10/2021' '03/10/2021' '01/10/2021'\n",
      " '30/09/2021' '29/09/2021' '28/09/2021' '27/09/2021' '26/09/2021'\n",
      " '25/09/2021' '24/09/2021' '23/09/2021' '22/09/2021' '21/09/2021'\n",
      " '18/09/2021' '17/09/2021' '16/09/2021' '15/09/2021' '13/09/2021'\n",
      " '10/09/2021' '09/09/2021' '08/09/2021' '07/09/2021' '06/09/2021'\n",
      " '16/08/2021' '02/10/2021' '20/09/2021' '19/09/2021' '14/09/2021'\n",
      " '12/09/2021' '11/09/2021' '13/08/2021' '31/07/2021' '24/05/2021'\n",
      " '11/05/2021' '13/04/2021' '11/04/2021' '07/04/2021' '28/03/2021'\n",
      " '26/03/2021' '27/05/2020' '14/08/2021' '03/09/2021' '28/08/2021'\n",
      " '12/08/2021' '22/07/2021' '07/07/2021' '06/07/2021' '05/07/2021'\n",
      " '04/07/2021' '03/07/2021' '02/07/2021' '25/06/2021' '13/06/2021'\n",
      " '30/05/2021' '27/05/2021' '26/05/2021' '21/05/2021' '19/05/2021'\n",
      " '16/05/2021' '15/05/2021' '07/05/2021' '30/04/2021' '29/04/2021'\n",
      " '28/04/2021' '27/04/2021' '16/04/2021' '12/04/2021' '05/04/2021'\n",
      " '30/03/2021' '27/03/2021' '12/03/2021' '29/11/2020' '24/11/2020'\n",
      " '10/05/2021' '27/08/2021' '23/08/2021' '20/08/2021' '19/08/2021'\n",
      " '10/08/2021' '23/06/2021' '21/06/2021' '20/06/2021' '03/06/2021'\n",
      " '25/02/2021' '05/09/2021' '25/08/2021' '24/08/2021' '21/08/2021'\n",
      " '18/08/2021' '17/08/2021' '15/08/2021' '09/08/2021' '04/08/2021'\n",
      " '29/07/2021' '17/07/2021' '15/07/2021' '10/07/2021' '27/06/2021'\n",
      " '18/05/2021' '17/05/2021' '23/04/2021' '09/04/2021' '03/08/2021'\n",
      " '31/05/2021' '25/05/2021' '26/04/2021' '06/04/2021' '02/04/2021'\n",
      " '01/04/2021' '11/02/2021' '16/01/2021' '24/09/2020' '01/09/2021'\n",
      " '30/08/2021' '11/08/2021' '08/08/2021' '19/07/2021' '08/07/2021'\n",
      " '01/07/2021' '26/06/2021' '19/06/2021' '18/06/2021' '16/06/2021'\n",
      " '15/06/2021' '12/06/2021' '10/06/2021' '09/06/2021' '07/06/2021'\n",
      " '05/06/2021' '01/06/2021' '20/05/2021' '14/05/2021' '13/05/2021'\n",
      " '09/05/2021' '04/05/2021' '03/05/2021' '24/04/2021' '22/04/2021'\n",
      " '10/04/2021' '29/03/2021' '23/03/2021' '22/03/2021' '19/03/2021'\n",
      " '17/03/2021' '11/03/2021' '03/03/2021' '01/03/2021' '22/02/2021'\n",
      " '28/01/2021' '25/01/2021' '14/01/2021' '26/12/2020' '25/12/2020'\n",
      " '20/12/2020' '10/12/2020' '30/11/2020' '28/11/2020' '13/11/2020'\n",
      " '12/11/2020' '03/11/2020' '19/10/2020' '29/09/2020' '15/09/2020'\n",
      " '09/09/2020' '30/08/2020' '30/07/2020' '14/07/2020' '09/07/2020'\n",
      " '30/06/2020' '16/06/2020' '09/06/2020' '31/05/2020' '26/05/2020'\n",
      " '18/05/2020' '16/05/2020' '14/05/2020' '17/02/2020' '04/02/2020'\n",
      " '14/12/2019' '30/10/2019' '04/09/2021' '02/09/2021' '31/08/2021'\n",
      " '29/08/2021' '26/08/2021' '22/08/2021' '07/08/2021' '06/08/2021'\n",
      " '05/08/2021' '02/08/2021' '01/08/2021' '30/07/2021' '28/07/2021'\n",
      " '27/07/2021' '26/07/2021' '25/07/2021' '24/07/2021' '23/07/2021'\n",
      " '21/07/2021' '20/07/2021' '16/07/2021' '13/07/2021' '12/07/2021'\n",
      " '11/07/2021' '09/07/2021' '30/06/2021' '29/06/2021' '28/06/2021'\n",
      " '24/06/2021' '22/06/2021' '17/06/2021' '14/06/2021' '11/06/2021'\n",
      " '08/06/2021' '06/06/2021' '04/06/2021' '02/06/2021' '29/05/2021'\n",
      " '28/05/2021' '23/05/2021' '22/05/2021' '12/05/2021' '08/05/2021'\n",
      " '06/05/2021' '05/05/2021' '02/05/2021' '21/04/2021' '20/04/2021'\n",
      " '19/04/2021' '17/04/2021' '14/04/2021' '08/04/2021' '04/04/2021'\n",
      " '03/04/2021' '31/03/2021' '25/03/2021' '24/03/2021' '20/03/2021'\n",
      " '16/03/2021' '15/03/2021' '14/03/2021' '13/03/2021' '05/03/2021'\n",
      " '04/03/2021' '02/03/2021' '24/02/2021' '20/02/2021' '19/02/2021'\n",
      " '01/02/2021' '21/01/2021' '01/01/2021' '31/12/2020' '23/12/2020'\n",
      " '22/12/2020' '21/12/2020' '18/12/2020' '15/12/2020' '03/12/2020'\n",
      " '21/11/2020' '20/11/2020' '18/11/2020' '06/11/2020' '05/11/2020'\n",
      " '01/11/2020' '30/10/2020' '28/10/2020' '26/10/2020' '25/10/2020'\n",
      " '24/10/2020' '23/10/2020' '22/10/2020' '21/10/2020' '17/10/2020'\n",
      " '14/10/2020' '13/10/2020' '10/10/2020' '06/10/2020' '04/10/2020'\n",
      " '03/10/2020' '28/09/2020' '27/09/2020' '26/09/2020' '25/09/2020'\n",
      " '23/09/2020' '21/09/2020' '19/09/2020' '18/09/2020' '17/09/2020'\n",
      " '16/09/2020' '13/09/2020' '11/09/2020' '05/09/2020' '29/08/2020'\n",
      " '21/08/2020' '19/08/2020' '17/08/2020' '09/08/2020' '08/08/2020'\n",
      " '05/08/2020' '24/07/2020' '18/07/2020' '11/07/2020' '24/06/2020'\n",
      " '13/06/2020' '10/06/2020' '30/05/2020' '29/03/2020' '14/03/2020'\n",
      " '12/03/2020' '03/10/2019' '18/09/2019' '30/06/2019' '31/05/2019'\n",
      " '06/11/2021' '18/07/2021' '14/07/2021' '18/04/2021' '21/03/2021'\n",
      " '10/03/2021' '09/03/2021' '26/02/2021' '21/02/2021' '18/02/2021'\n",
      " '29/01/2021' '22/01/2021' '15/01/2021' '02/01/2021' '24/12/2020'\n",
      " '16/12/2020' '02/12/2020' '01/12/2020' '27/11/2020' '25/11/2020'\n",
      " '23/11/2020' '16/11/2020' '15/11/2020' '14/11/2020' '05/10/2020'\n",
      " '11/08/2020' '15/05/2020']\n",
      "\n",
      "\n",
      "Feature: type_real_estate\n",
      "['Căn hộ/Chung cư' 'Nhà ở' 'Đất']\n",
      "\n",
      "\n",
      "Feature: ward\n",
      "['Phường Tam Hòa' 'Phường Thống Nhất' 'Phường Hố Nai' 'Phường Hoá An'\n",
      " 'Phường Bửu Long' 'Xã Đại Phước' 'Xã Phước An' 'Phường An Bình'\n",
      " 'Phường Phước Tân' 'Phường Hòa Bình' 'Phường Thanh Bình'\n",
      " 'Phường Quyết Thắng' 'Phường Tam Hiệp' 'Phường Tân Hiệp'\n",
      " 'Phường Tân Biên' 'Phường Quang Vinh' 'Phường Trảng Dài' 'Xã Long Đức'\n",
      " 'Thị trấn Long Thành' 'Xã Long Hưng' 'Phường Long Bình Tân'\n",
      " 'Phường Tân Vạn' 'Xã Cẩm Đường' 'Phường Tam Phước' 'Phường Tân Phong'\n",
      " 'Xã Thạnh Phú' 'Xã Hố Nai 3' 'Phường Bửu Hòa' 'Xã Tây Hoà'\n",
      " 'Phường Tân Mai' 'Phường Bình Đa' 'Phường Long Bình' 'Xã Bình Hòa'\n",
      " 'Phường Tân Tiến' 'Phường Tân Hạnh' 'Xã Bắc Sơn' 'Thị trấn Trảng Bom'\n",
      " 'Phường Bảo Vinh' 'Xã Trung Hoà' 'Phường An Hoà' 'Thị trấn Hiệp Phước'\n",
      " 'Xã An Phước' 'Phường Trung Dũng' 'Xã Quảng Tiến' 'Xã Xuân Bắc'\n",
      " 'Xã Thiện Tân' 'Xã Bình Lợi' 'Xã Hưng Thịnh' 'Xã An Viễn' 'Xã Long An'\n",
      " 'Phường Tân Hòa' 'Xã Sông Thao' 'Xã Hưng Lộc' 'Phường Xuân An'\n",
      " 'Xã Cây Gáo' 'Xã Thừa Đức' 'Xã Phú Hữu' 'Xã Bình Minh' 'Xã Vĩnh Tân'\n",
      " 'Xã Phú An' 'Xã Phú Ngọc' 'Phường Xuân Hoà' 'Xã Giang Điền'\n",
      " 'Phường Xuân Tân' 'Thị trấn Vĩnh An' 'Xã Bình Lộc' 'Xã Túc Trưng'\n",
      " 'Xã Long Phước' 'Xã Bảo Hoà' 'Xã Sông Trầu' 'Xã Phú Đông'\n",
      " 'Phường Xuân Thanh' 'Xã Xuân Tây' 'Xã Tà Lài' 'Xã Đông Hoà' 'Xã Phú Hội'\n",
      " 'Phường Hiệp Hoà' 'Xã Xuân Phú' 'Xã Bàu Hàm 2' 'Xã Bảo Quang'\n",
      " 'Thị trấn Dầu Giây' 'Xã Phú Cường' 'Xã Lộc An' 'Xã Bàu Cạn' 'Xã Gia Canh'\n",
      " 'Xã Xuân Thọ' 'Xã Phước Thiền' 'Xã Xuân Mỹ' 'Xã Gia Tân 2'\n",
      " 'Phường Xuân Trung' 'Thị trấn Gia Ray' 'Xã Vĩnh Thanh' 'Xã Phú Điền'\n",
      " 'Phường Suối Tre' 'Xã Long Tân' 'Xã Tân Bình' 'Xã Đồi 61'\n",
      " 'Xã Quang Trung' 'Xã Trị An' 'Xã Long Thọ' 'Xã Phước Bình' 'Xã Bình Sơn'\n",
      " 'Xã Xuân Hiệp' 'Xã Sông Nhạn' 'Xã Bàu Trâm' 'Xã Phú Tân' 'Xã Xuân Thiện'\n",
      " 'Thị trấn Tân Phú' 'Xã Phước Thái' 'Xã Xuân Trường' 'Xã Gia Tân 1'\n",
      " 'Xã Xuân Đông' 'Xã Xuân Tâm' 'Xã Lâm San' 'Xã Tam An' 'Phường Phú Bình'\n",
      " 'Xã Phước Khánh' 'Thị trấn Định Quán' 'Xã Xuân Đường' 'Xã Tân Hiệp'\n",
      " 'Xã Phú Bình' 'Xã Gia Kiệm' 'Xã Phú Lộc' 'Phường Xuân Lập' 'Xã Mã Đà'\n",
      " 'Xã Tân An' 'Xã Sông Ray' 'Xã Phú Túc' 'Xã Xuân Hưng' 'Xã Suối Cát'\n",
      " 'Xã Lộ 25' 'Xã La Ngà' 'Xã Suối Nho' 'Xã Phú Thịnh' 'Xã Nam Cát Tiên'\n",
      " 'Xã Bàu Hàm' 'Xã Phú Thạnh' 'Xã Hàng Gòn' 'Xã Ngọc Định' 'Xã Bảo Bình'\n",
      " 'Xã Xuân Quế' 'Xã Suối Cao' 'Xã Phú Hòa' 'Xã Thanh Bình' 'Xã Phú Lý'\n",
      " 'Xã Xuân Bảo' 'Xã Phú Lợi' 'Xã Xuân Hòa' 'Xã Nhân Nghĩa' 'Xã Bình An'\n",
      " 'Xã Phú Lập' 'Xã Long Giao' 'Xã Lang Minh' 'Xã Xuân Thành' 'Xã Phú Thanh'\n",
      " 'Xã Thanh Sơn' 'Phường Bàu Sen' 'Xã Xuân Định' 'Xã Núi Tượng'\n",
      " 'Xã Phú Trung' 'Xã Hiếu Liêm' 'Xã Trà Cổ' 'Xã Phú Lâm' nan 'Xã Gia Tân 3'\n",
      " 'Xã Phú Vinh' 'Xã Phú Xuân' 'Phường Hưng Định' 'Phường Bình Thắng'\n",
      " 'Phường Thuận Giao' 'Phường Đông Hòa' 'Phường Dĩ An'\n",
      " 'Phường Tân Đông Hiệp' 'Phường Lái Thiêu' 'Phường Bình An'\n",
      " 'Phường Bình Hòa' 'Phường An Phú' 'Phường Vĩnh Phú' 'Phường Phú Lợi'\n",
      " 'Phường Chánh Nghĩa' 'Phường Tân Định' 'Phường Hoà Phú' 'Phường Phú Mỹ'\n",
      " 'Phường Phú Hòa' 'Phường Phú Cường' 'Phường Định Hoà' 'Phường Phú Thọ'\n",
      " 'Phường Hiệp Thành' 'Phường Bình Chuẩn' 'Phường Thới Hòa'\n",
      " 'Phường Hiệp An' 'Phường Tân Bình' 'Phường Khánh Bình' 'Xã Tân Vĩnh Hiệp'\n",
      " 'Phường Hòa Lợi' 'Thị trấn Lai Uyên' 'Xã Hội Nghĩa'\n",
      " 'Phường Tân Phước Khánh' 'Phường Tương Bình Hiệp' 'Phường An Thạnh'\n",
      " 'Phường Mỹ Phước' 'Phường Chánh Phú Hòa' 'Xã An Điền' 'Phường Thái Hòa'\n",
      " 'Phường Phú Tân' 'Xã Phú Chánh' 'Xã Lai Hưng' 'Phường Tân An'\n",
      " 'Thị trấn Phước Vĩnh' 'Thị trấn Dầu Tiếng' 'Phường Chánh Mỹ'\n",
      " 'Phường Bình Nhâm' 'Xã Trừ Văn Thố' 'Xã An Sơn' 'Xã Bình Mỹ' 'Xã Tân Mỹ'\n",
      " 'Phường Uyên Hưng' 'Xã Tân Hưng' 'Xã Thanh An' 'Xã Long Hoà' 'Xã Định An'\n",
      " 'Xã Long Nguyên' 'Xã An Tây' 'Xã Thạnh Hội' 'Xã An Bình' 'Xã Tân Định'\n",
      " 'Xã Bạch Đằng' 'Xã Hưng Hòa' 'Xã Đất Cuốc' 'Xã Minh Thạnh' 'Xã An Lập'\n",
      " 'Xã Minh Tân' 'Xã Vĩnh Hoà' 'Xã Định Hiệp' 'Xã Thanh Tuyền' 'Xã Tân Lập'\n",
      " 'Xã Minh Hoà' 'Xã Phước Hoà' 'Thị trấn Tân Thành' 'Phường Thạnh Phước'\n",
      " 'Xã Định Thành' 'Xã Cây Trường II' 'Xã Thường Tân' 'Xã Phước Sang'\n",
      " 'Xã An Long' 'Xã Tân Long' 'Xã An Thái' 'Xã Tam Lập' 'Xã Lạc An'\n",
      " 'Xã An Linh' 'Phường Long Thạnh Mỹ' 'Phường An Lạc'\n",
      " 'Phường Hiệp Bình Chánh' 'Phường 22' 'Phường Thạnh Lộc'\n",
      " 'Phường Bình Trị Đông A' 'Phường Hiệp Tân' 'Phường Phú Thuận'\n",
      " 'Phường Tân Hưng' 'Xã Phước Kiển' 'Phường 9' 'Phường 8'\n",
      " 'Phường Thảo Điền' 'Phường Tân Phú' 'Phường Thạnh Xuân' 'Phường 2'\n",
      " 'Phường Bình Hưng Hoà B' 'Phường 12' 'Phường Linh Tây' 'Phường 7'\n",
      " 'Phường 6' 'Phường 5' 'Phường Tân Thuận Đông' 'Phường Phước Long B'\n",
      " 'Phường Phú Hữu' 'Phường 10' 'Phường Sơn Kỳ' 'Phường 16'\n",
      " 'Phường Trường Thọ' 'Phường Linh Đông' 'Xã Bình Hưng' 'Phường Tân Tạo A'\n",
      " 'Phường Phước Long A' 'Phường 4' 'Phường Bình Thọ' 'Phường Tam Phú'\n",
      " 'Thị trấn Tân Túc' 'Phường 26' 'Phường 21' 'Xã Tân Nhựt' 'Phường Tân Quy'\n",
      " 'Phường Tân Quý' 'Phường Thới An' 'Phường 3' 'Phường 11' 'Phường 25'\n",
      " 'Phường Thạnh Mỹ Lợi' 'Phường 19' 'Phường Bình Chiểu' 'Phường Linh Trung'\n",
      " 'Phường Tân Hưng Thuận' 'Phường 14' 'Phường Hiệp Bình Phước'\n",
      " 'Phường Tân Thuận Tây' 'Phường 1' 'Phường Bình Trị Đông B'\n",
      " 'Phường Hiệp Phú' 'Phường Long Trường' 'Phường Bình Trưng Đông'\n",
      " 'Phường Phước Bình' 'Phường Hòa Thạnh' 'Phường Bến Nghé'\n",
      " 'Phường Nguyễn Thái Bình' 'Phường Tân Thới Nhất' 'Phường Phú Trung'\n",
      " 'Phường Tân Thới Hòa' 'Phường Tân Tạo' 'Phường Bình Hưng Hoà A'\n",
      " 'Phường An Phú Đông' 'Phường Cát Lái' 'Xã Phong Phú'\n",
      " 'Phường Bình Trưng Tây' 'Phường 13' 'Phường Tam Bình' 'Phường Bình Thuận'\n",
      " 'Phường Tây Thạnh' 'Phường 15' 'Xã Tân Kiên' 'Xã Xuân Thới Đông'\n",
      " 'Phường Bình Hưng Hòa' 'Xã Bình Chánh' 'Phường Phú Thọ Hòa'\n",
      " 'Phường Tân Thành' 'Phường Tân Chánh Hiệp' 'Phường Tân Sơn Nhì'\n",
      " 'Phường 18' 'Phường Nguyễn Cư Trinh' 'Xã An Phú Tây' 'Phường Thủ Thiêm'\n",
      " 'Phường Bình Trị Đông' 'Phường Phú Thạnh' 'Phường 24' 'Phường An Lạc A'\n",
      " 'Phường Trung Mỹ Tây' 'Phường 17' 'Phường 27' 'Phường Đa Kao'\n",
      " 'Phường Tân Kiểng' 'Phường Bến Thành' 'Phường Tăng Nhơn Phú B'\n",
      " 'Phường Bình Khánh' 'Phường 28' 'Phường Linh Xuân' 'Phường An Lợi Đông'\n",
      " 'Xã Vĩnh Lộc A' 'Xã Xuân Thới Thượng' 'Phường Đông Hưng Thuận'\n",
      " 'Phường An Khánh' 'Thị trấn Nhà Bè' 'Phường Tăng Nhơn Phú A'\n",
      " 'Xã Đông Thạnh' 'Phường Cô Giang' 'Xã Nhơn Đức' 'Phường Phạm Ngũ Lão'\n",
      " 'Phường Linh Chiểu' 'Xã Xuân Thới Sơn' 'Phường Trường Thạnh'\n",
      " 'Phường Cầu Ông Lãnh' 'Phường Tân Thới Hiệp' 'Xã Hưng Long'\n",
      " 'Xã Phước Vĩnh An' 'Phường Cầu Kho' 'Xã Phước Lộc' 'Xã Trung Lập Hạ'\n",
      " 'Xã Phạm Văn Hai' 'Xã Bà Điểm' 'Xã An Nhơn Tây' 'Xã Trung Chánh'\n",
      " 'Xã Tân Thạnh Đông' 'Xã Vĩnh Lộc B' 'Thị trấn Hóc Môn' 'Xã Hiệp Phước'\n",
      " 'Xã Đa Phước' 'Xã Tân Quý Tây' 'Xã Phước Hiệp' 'Xã Long Thới'\n",
      " 'Xã Lê Minh Xuân' 'Xã Trung An' 'Xã Quy Đức' 'Phường Long Phước'\n",
      " 'Xã Tân Thới Nhì' 'Xã Thới Tam Thôn' 'Xã Tân Xuân' 'Xã Phú Hòa Đông'\n",
      " 'Xã Thái Mỹ' 'Thị trấn Cần Thạnh' 'Xã Tân Phú Trung' 'Xã Tân Thông Hội'\n",
      " 'Xã An Phú' 'Xã Tân Thạnh Tây' 'Xã Hòa Phú' 'Thị trấn Củ Chi'\n",
      " 'Xã Phước Thạnh' 'Xã Nhị Bình' 'Xã Tân An Hội' 'Xã Bình Khánh'\n",
      " 'Xã Phạm Văn Cội' 'Xã Nhuận Đức' 'Xã An Thới Đông' 'Xã Trung Lập Thượng'\n",
      " 'Xã Tam Thôn Hiệp' 'Xã Phú Mỹ Hưng' 'Xã Long Hòa' 'Xã Lý Nhơn']\n",
      "\n",
      "\n",
      "Feature: area\n",
      "['Thành phố Biên Hòa' 'Huyện Nhơn Trạch' 'Huyện Long Thành'\n",
      " 'Huyện Vĩnh Cửu' 'Huyện Trảng Bom' 'Thành phố Long Khánh'\n",
      " 'Huyện Xuân Lộc' 'Huyện Thống Nhất' 'Huyện Cẩm Mỹ' 'Huyện Tân Phú'\n",
      " 'Huyện Định Quán' 'Thành phố Thuận An' 'Thị xã Dĩ An' 'Thị xã Tân Uyên'\n",
      " 'Thành phố Thủ Dầu Một' 'Thị xã Bến Cát' 'Huyện Bàu Bàng'\n",
      " 'Huyện Phú Giáo' 'Huyện Dầu Tiếng' 'Huyện Bắc Tân Uyên' 'Quận 9'\n",
      " 'Quận Bình Tân' 'Quận Thủ Đức' 'Quận Bình Thạnh' 'Quận 12' 'Quận Tân Phú'\n",
      " 'Quận 7' 'Huyện Nhà Bè' 'Quận Phú Nhuận' 'Quận 8' 'Quận 2'\n",
      " 'Quận Tân Bình' 'Quận 6' 'Quận 10' 'Quận 3' 'Quận Gò Vấp'\n",
      " 'Huyện Bình Chánh' 'Quận 4' 'Quận 5' 'Quận 1' 'Huyện Hóc Môn' 'Quận 11'\n",
      " 'Huyện Củ Chi' 'Huyện Cần Giờ' nan]\n",
      "\n",
      "\n",
      "Feature: region\n",
      "['Đồng Nai' 'Bình Dương' 'Tp Hồ Chí Minh']\n",
      "\n",
      "\n",
      "Feature: address\n",
      "['Đường Đồng Khởi, Phường Tam Hòa, Thành phố Biên Hòa, Đồng Nai'\n",
      " 'Đường Võ Thị Sáu, Phường Thống Nhất, Thành phố Biên Hòa, Đồng Nai'\n",
      " '368 Đường Xa Lộ Hà Nội, Phường Hố Nai, Thành phố Biên Hòa, Tỉnh Đồng Nai., Phường Hố Nai, Thành phố Biên Hòa, Đồng Nai'\n",
      " ... 'ấp 3, Đường Bình Mỹ, Xã Bình Mỹ, Huyện Củ Chi, Tp Hồ Chí Minh'\n",
      " 'Đường Ba Lăng||9238, Xã Tân An Hội, Huyện Củ Chi, Tp Hồ Chí Minh'\n",
      " 'D 237, Xã Hòa Phú, Huyện Củ Chi, Tp Hồ Chí Minh']\n",
      "\n",
      "\n",
      "Feature: property_status\n",
      "['Đã bàn giao' 'Chưa bàn giao' nan]\n",
      "\n",
      "\n",
      "Feature: direction\n",
      "[nan 'Bắc' 'Đông Bắc' 'Đông Nam' 'Đông' 'Tây Bắc' 'Tây' 'Nam' 'Tây Nam']\n",
      "\n",
      "\n",
      "Feature: balconydirection\n",
      "[nan 'Nam' 'Đông Nam' 'Tây' 'Đông' 'Tây Nam' 'Tây Bắc' 'Bắc' 'Đông Bắc']\n",
      "\n",
      "\n",
      "Feature: property_legal_document\n",
      "['Đang chờ sổ' 'Đã có sổ' 'Giấy tờ khác' nan]\n",
      "\n",
      "\n",
      "Feature: size (m2)\n",
      "[70.0 48.0 67.0 ... '608 m2' '160 m2' '125 m2']\n",
      "\n",
      "\n",
      "Feature: floornumber\n",
      "[ nan  16.   7.   4.  12.   1.  14.  18.  11.  10.   9.   3.  29.   2.\n",
      "  15.  22.  21.   8.  19.   6.  20.  35.  23.  27.  28.   5.  25.  24.\n",
      "  34.  13.  30.  17.  26.  40.  37.  36.  32.  33.  38.  47.  39.  31.\n",
      "  41.  45. 456.  48. 320. 132.  44.]\n",
      "\n",
      "\n",
      "Feature: apartment_type\n",
      "['Chung cư' 'Căn hộ dịch vụ' 'Duplex' 'Penthouse' nan 'Tập thể'\n",
      " 'Officetel']\n",
      "\n",
      "\n",
      "Feature: furnishing_sell\n",
      "[nan 'Nội thất đầy đủ' 'Hoàn thiện cơ bản' 'Bàn giao thô'\n",
      " 'Nội thất cao cấp']\n",
      "\n",
      "\n",
      "Feature: apartment_feature\n",
      "[nan 'Căn góc']\n",
      "\n",
      "\n",
      "Feature: rooms\n",
      "[2 1 3 4 10 8 6 9 5 7 '10+' nan 16]\n",
      "\n",
      "\n",
      "Feature: toilets\n",
      "[2 1 nan 5 3 '6+' 4 6 9 8]\n",
      "\n",
      "\n",
      "Feature: floors\n",
      "[nan 1.0 3.0 2.0 4.0 275.0 5.0 19.0 6.0 166.0 7.0 20.0 10.0 9.0 8.0 15.0\n",
      " 21.0 30.0 222.0 40.0 14.0 269.0 35.0 68.0 '6' '2' '4' '3' '1' '5' '7'\n",
      " 'Nhiều hơn 10' '9' '15' '8']\n",
      "\n",
      "\n",
      "Feature: house_type\n",
      "[nan 'Nhà mặt phố' 'Nhà ngõ' 'Nhà phố liền kề' 'Nhà biệt thự']\n",
      "\n",
      "\n",
      "Feature: living_size (m2)\n",
      "[nan 234.0 140.0 ... 992.0 '242 m²' 34.2]\n",
      "\n",
      "\n",
      "Feature: width (m)\n",
      "[nan 10.0 5.0 ... 14.45 19.93 '19.93 m']\n",
      "\n",
      "\n",
      "Feature: length (m)\n",
      "[nan 24.0 13.6 ... 87.2 33.79 367.0]\n",
      "\n",
      "\n",
      "Feature: land_type\n",
      "[nan 'Đất thổ cư' 'Đất nông nghiệp' 'Đất công nghiệp' 'Đất nền dự án']\n",
      "\n",
      "\n",
      "Feature: property_road_condition\n",
      "[nan 'Hẻm xe hơi']\n",
      "\n",
      "\n",
      "Feature: land_feature\n",
      "[nan 'Mặt tiền']\n",
      "\n",
      "\n",
      "Feature: property_back_condition\n",
      "[nan 'Nở hậu']\n",
      "\n",
      "\n",
      "Feature: price (million)\n",
      "[ 1150.     1550.      360.    ...  3522.5    4243.725 53500.   ]\n",
      "\n",
      "\n"
     ]
    }
   ],
   "source": [
    "for column in p.data.columns:\n",
    "    print('Feature:', column)\n",
    "    print(p.data[column].unique())\n",
    "    print('\\n')"
   ]
  },
  {
   "cell_type": "code",
   "execution_count": 18,
   "metadata": {},
   "outputs": [],
   "source": [
    "import seaborn as sns\n",
    "import matplotlib.pyplot as plt\n",
    "\n",
    "def visualizing_missing_data(df):\n",
    "    missing_values = df.isnull().sum() / len(df)\n",
    "    # missing_values = missing_values[missing_values > 0]\n",
    "    # missing_values.sort_values(inplace=True)\n",
    "    missing_values = missing_values.to_frame()\n",
    "    missing_values.columns = ['ratio']\n",
    "    missing_values.index.names = ['feature']\n",
    "    missing_values['feature'] = missing_values.index\n",
    "    print(missing_values)\n",
    "    plt.figure(figsize=(10, 10))\n",
    "    sns.set(style=\"whitegrid\", color_codes=False)\n",
    "    sns.barplot(x = 'feature', y = 'ratio', data=missing_values)\n",
    "    plt.xticks(rotation = 90)\n",
    "    plt.show()"
   ]
  },
  {
   "cell_type": "code",
   "execution_count": 19,
   "metadata": {},
   "outputs": [
    {
     "name": "stdout",
     "output_type": "stream",
     "text": [
      "                            ratio                  feature\n",
      "feature                                                   \n",
      "list_time                0.000000                list_time\n",
      "type_real_estate         0.000000         type_real_estate\n",
      "ward                     0.000241                     ward\n",
      "area                     0.000021                     area\n",
      "region                   0.000000                   region\n",
      "address                  0.000293                  address\n",
      "property_status          0.863346          property_status\n",
      "direction                0.661458                direction\n",
      "balconydirection         0.954878         balconydirection\n",
      "property_legal_document  0.140050  property_legal_document\n",
      "size (m2)                0.000010                size (m2)\n",
      "floornumber              0.959375              floornumber\n",
      "apartment_type           0.863336           apartment_type\n",
      "furnishing_sell          0.725749          furnishing_sell\n",
      "apartment_feature        0.969804        apartment_feature\n",
      "rooms                    0.288243                    rooms\n",
      "toilets                  0.317129                  toilets\n",
      "floors                   0.797315                   floors\n",
      "house_type               0.424949               house_type\n",
      "living_size (m2)         0.456299         living_size (m2)\n",
      "width (m)                0.148938                width (m)\n",
      "length (m)               0.150646               length (m)\n",
      "land_type                0.711767                land_type\n",
      "property_road_condition  0.610708  property_road_condition\n",
      "land_feature             0.850004             land_feature\n",
      "property_back_condition  0.845287  property_back_condition\n",
      "price (million)          0.000000          price (million)\n"
     ]
    },
    {
     "data": {
      "image/png": "[encoded data removed]",
      "text/plain": [
       "<Figure size 720x720 with 1 Axes>"
      ]
     },
     "metadata": {
      "needs_background": "light"
     },
     "output_type": "display_data"
    }
   ],
   "source": [
    "visualizing_missing_data(df)"
   ]
  }
 ],
 "metadata": {
  "interpreter": {
   "hash": "5f3a43da3465484f8d08df9331c3c35fb16341a24cb5c5d7be011932600800f9"
  },
  "kernelspec": {
   "display_name": "Python 3.9.1 64-bit",
   "language": "python",
   "name": "python3"
  },
  "language_info": {
   "codemirror_mode": {
    "name": "ipython",
    "version": 3
   },
   "file_extension": ".py",
   "mimetype": "text/x-python",
   "name": "python",
   "nbconvert_exporter": "python",
   "pygments_lexer": "ipython3",
   "version": "3.8.8"
  },
  "orig_nbformat": 4
 },
 "nbformat": 4,
 "nbformat_minor": 2
}
